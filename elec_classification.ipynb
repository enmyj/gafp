{
 "cells": [
  {
   "cell_type": "markdown",
   "metadata": {
    "nbpresent": {
     "id": "125c2a82-2f0d-45f3-ad7b-45db4f23f3eb"
    }
   },
   "source": [
    "### Import libraries and read in file"
   ]
  },
  {
   "cell_type": "code",
   "execution_count": 2,
   "metadata": {
    "nbpresent": {
     "id": "069a476e-177d-4b9f-adcd-44f3883d8fd7"
    }
   },
   "outputs": [],
   "source": [
    "# import libs\n",
    "import pandas as pd\n",
    "import numpy as np\n",
    "%matplotlib inline\n",
    "import matplotlib.pyplot as plt\n",
    "plt.style.use('fivethirtyeight')\n",
    "\n",
    "# models and stuff\n",
    "from sklearn.linear_model import LogisticRegression\n",
    "from sklearn.tree import DecisionTreeClassifier\n",
    "from sklearn.ensemble import RandomForestClassifier\n",
    "from sklearn import metrics"
   ]
  },
  {
   "cell_type": "code",
   "execution_count": 3,
   "metadata": {
    "nbpresent": {
     "id": "86ec3258-59b4-44ae-aeda-cf43043f965b"
    }
   },
   "outputs": [],
   "source": [
    "# read in file and define some useful column groupings\n",
    "elec_w_weather_path = '/users/ianmyjer/desktop/disagg/electric_data_with_weather.csv'\n",
    "df = pd.read_csv(elec_w_weather_path,delimiter=',',header=0,index_col=0,parse_dates=True)"
   ]
  },
  {
   "cell_type": "code",
   "execution_count": 4,
   "metadata": {
    "nbpresent": {
     "id": "ea0acfbd-84fe-47fc-b843-c28aac15071e"
    }
   },
   "outputs": [],
   "source": [
    "# define useful column groupings\n",
    "power_cols = ['north_br','south_br','basement','dryer','washer',\n",
    "'dining_room','dishwasher','workbench','security_system',\n",
    "'refrigerator','furnace_fan','garage','heat_pump',\n",
    "'dhw_heater','main_house_total','office','outside_plug',\n",
    "'rental_suite','entertainment','utility_room','unmetered',\n",
    "'whole_house_total','oven']\n",
    "weather_cols = ['Temp (C)', 'Dew Point Temp (C)', 'Rel Hum (%)', \n",
    "'Wind Spd (km/h)','Stn Press (kPa)']"
   ]
  },
  {
   "cell_type": "markdown",
   "metadata": {
    "nbpresent": {
     "id": "20121ecf-94a8-4a2d-8418-2e6296dfb3b7"
    }
   },
   "source": [
    "## Features"
   ]
  },
  {
   "cell_type": "code",
   "execution_count": 5,
   "metadata": {
    "nbpresent": {
     "id": "eb353892-f924-466c-b375-5891bb6932dc"
    }
   },
   "outputs": [],
   "source": [
    "def feature_creation(df):\n",
    "    # time-based features\n",
    "    df['dow'] = df.index.weekday\n",
    "    df['weekday'] = (df.index.weekday < 5)*1\n",
    "    df['business_hours'] = (df.index.weekday < 5)&(df.index.hour>=9)&(df.index.hour<=17)*1\n",
    "    df['hour'] = df.index.hour\n",
    "\n",
    "    # season dummies\n",
    "    df['winter'] = (df.index.month<=3)*1\n",
    "    df['spring'] = (df.index.month>3)&(df.index.month<=6)*1\n",
    "    df['summer'] = (df.index.month>6)&(df.index.month<=9)*1\n",
    "    df['fall'] = (df.index.month>9)*1\n",
    "\n",
    "    # main house power percentage change and diff\n",
    "    for interval in [1,3,5,9,15]:\n",
    "        df['mht_pct_'+str(interval)] = df['main_house_total'].pct_change(freq='1Min').fillna(0).replace(np.inf,1000)\n",
    "        df['pos_mht_diff_'+str(interval)] = df['main_house_total'].diff(periods=1).fillna(0)\n",
    "    \n",
    "    # rolling stats\n",
    "    for time_val in [15,30,60,120,240,480]:\n",
    "        df['rolling_sum_'+str(time_val)] = df['main_house_total'].rolling(time_val).sum().fillna(0)\n",
    "        df['rolling_mean_'+str(time_val)] = df['main_house_total'].rolling(time_val).mean().fillna(0)\n",
    "        df['rolling_max_'+str(time_val)]  = df['main_house_total'].rolling(time_val).max().fillna(0)\n",
    "        df['rolling_min_'+str(time_val)]  = df['main_house_total'].rolling(time_val).min().fillna(0)\n",
    "        df['rolling_median_'+str(time_val)]  = df['main_house_total'].rolling(time_val).median().fillna(0)\n",
    "\n",
    "    # create list of all features starting with \"Fall\"\n",
    "    feature_cols = list(df.columns[list(df.columns).index('mht_pct_1'):list(df.columns).index('rolling_median_480')+1])\n",
    "    feature_cols.extend(['main_house_total','dow','hour','fall','summer','spring','Temp (C)','Rel Hum (%)'])\n",
    "    return feature_cols"
   ]
  },
  {
   "cell_type": "code",
   "execution_count": null,
   "metadata": {},
   "outputs": [],
   "source": []
  },
  {
   "cell_type": "markdown",
   "metadata": {},
   "source": [
    "### Category 2 - ON/OFF Rooms\n",
    "Rooms with switches that can be turned ON/OFF (lights, phone chargers, etc.)\n",
    "\n",
    "When room is in use, power change is incremental and relatively small. For example, a bedroom could have a light turned on or a phone plugged in, but any increase or decrease in power would be small as compared to a dishwasher or dryer.\n",
    "\n",
    "When all switches OFF, power may not be 0 due to plug loads (alarm clocks, safety lights, etc.)"
   ]
  },
  {
   "cell_type": "markdown",
   "metadata": {},
   "source": [
    "Hypothesis: If I could accurately classify a simple load like dining room, I could use that model to make the other ones a lot better. This one might work well because it has obvious peaks at night when everyone sits down for dinner"
   ]
  },
  {
   "cell_type": "code",
   "execution_count": null,
   "metadata": {},
   "outputs": [],
   "source": [
    "# # categorize rooms using basic logic\n",
    "# thresh = 15\n",
    "# lbl = 'south_br'\n",
    "# df[lbl+'_on'] = df[lbl].apply(lambda x: 1 if x > thresh else 0)\n",
    "    \n",
    "# # plot to see if it makes sense\n",
    "# mask = (df.index.year==2012)&(df.index.week==40) # &(df.index.day==12)\n",
    "# df[lbl][mask].plot(linewidth=2,figsize=(20,10));\n",
    "# df[lbl+'_on'][mask].plot(secondary_y=True,linewidth=1,figsize=(20,10));"
   ]
  },
  {
   "cell_type": "code",
   "execution_count": 6,
   "metadata": {},
   "outputs": [],
   "source": [
    "def tts(X,y):\n",
    "    train_size = int(len(X) * 0.66)\n",
    "    X_train, X_test = X[0:train_size], X[train_size:len(X)]\n",
    "    y_train, y_test = y[0:train_size], y[train_size:len(X)]\n",
    "    return X_train, X_test, y_train, y_test"
   ]
  },
  {
   "cell_type": "code",
   "execution_count": 7,
   "metadata": {},
   "outputs": [],
   "source": [
    "def model_chooser(model_type,X_train,X_test,y_train):\n",
    "    if model_type == 'random forest':\n",
    "        model = RandomForestClassifier()\n",
    "    elif model_type == 'logistic regression':\n",
    "        model = LogisticRegression()\n",
    "    elif model_type == 'decision tree':\n",
    "        model = DecisionTreeClassifier()\n",
    "\n",
    "    # fit and predict on model\n",
    "    model.fit(X_train,y_train)\n",
    "    y_pred = model.predict(X_test)\n",
    "    y_pred_proba = model.predict_proba(X_test)[:,1]\n",
    "    \n",
    "    return model, y_pred, y_pred_proba"
   ]
  },
  {
   "cell_type": "code",
   "execution_count": 8,
   "metadata": {},
   "outputs": [],
   "source": [
    "def print_accuracies(lbl,y_null,y_test,y_pred,y_pred_proba):\n",
    "    print(lbl)\n",
    "    # Predict appliances are always OFF\n",
    "    y_null = np.zeros(len(y_test))\n",
    "    print('Null Accuracy Score:', metrics.accuracy_score(y_test, y_null))\n",
    "\n",
    "    # total accuracy\n",
    "    print('Total Accuracy Score:', metrics.accuracy_score(y_test, y_pred))\n",
    "    print('Log Loss:', metrics.log_loss(y_test,y_pred_proba))\n",
    "\n",
    "    # binary accuracy\n",
    "    print('Accuracy Score 1s:', metrics.accuracy_score(y_test[y_test==1], y_pred[y_test==1]))\n",
    "    print('Accuracy Score 0s:', metrics.accuracy_score(y_test[y_test==0], y_pred[y_test==0]))"
   ]
  },
  {
   "cell_type": "code",
   "execution_count": 19,
   "metadata": {},
   "outputs": [],
   "source": [
    "def categorize_rooms(df,lbl,feature_cols,model_type='random forest',thresh=15):\n",
    "    df[lbl+'_on'] = df[lbl].apply(lambda x: 1 if x > thresh else 0)\n",
    "    \n",
    "    # define X, y\n",
    "    X = df[feature_cols]\n",
    "    y = df[lbl+'_on']\n",
    "\n",
    "    # train test split time series manually\n",
    "    X_train, X_test, y_train, y_test = tts(X,y)\n",
    "    \n",
    "    # fit/predict model\n",
    "    model, y_pred, y_pred_proba = model_chooser(model_type,X_train,X_test,y_train)\n",
    "    \n",
    "    # print errors\n",
    "    y_null = np.zeros(len(y_test))\n",
    "    print_accuracies(lbl,y_null,y_test,y_pred,y_pred_proba)\n",
    "\n",
    "    return model"
   ]
  },
  {
   "cell_type": "code",
   "execution_count": 10,
   "metadata": {},
   "outputs": [
    {
     "name": "stdout",
     "output_type": "stream",
     "text": [
      "south_br\n",
      "Null Accuracy Score: 0.7115902436839777\n",
      "Total Accuracy Score: 0.7987186018260903\n",
      "Log Loss: 0.5703279601372214\n",
      "Accuracy Score 1s: 0.5060316967361873\n",
      "Accuracy Score 0s: 0.9173455219154535\n"
     ]
    }
   ],
   "source": [
    "feature_cols = feature_creation(df)\n",
    "model = categorize_rooms(df,'south_br',feature_cols)\n",
    "pd.DataFrame(list(zip(feature_cols,model.feature_importances_))).sort_values(by=1,ascending=False);"
   ]
  },
  {
   "cell_type": "markdown",
   "metadata": {
    "nbpresent": {
     "id": "7b46c0c0-c2fb-4a64-8f9e-037ff2e8b26f"
    }
   },
   "source": [
    "## Category 1 - ON/OFF Appliances\n",
    "Appliances that are either OFF and have 0 power draw or ON and have high power draw"
   ]
  },
  {
   "cell_type": "code",
   "execution_count": 11,
   "metadata": {
    "nbpresent": {
     "id": "24c01ee1-3639-49b1-8a77-3c91bc47bcdb"
    }
   },
   "outputs": [],
   "source": [
    "# classify power_on based only on power > 0\n",
    "on_off_apps = ['dishwasher', 'oven', 'dryer', 'washer']\n",
    "for lbl in on_off_apps:\n",
    "    df[lbl+'_on'] = df[lbl].apply(lambda x: 1 if x > 0 else 0)\n",
    "    \n",
    "df['any_on_off_app_on'] = np.where(df[on_off_apps].sum(axis=1) >= 1, 1, 0)"
   ]
  },
  {
   "cell_type": "code",
   "execution_count": 12,
   "metadata": {},
   "outputs": [
    {
     "data": {
      "image/png": "[encoded data removed]",
      "text/plain": [
       "<matplotlib.figure.Figure at 0x111666b38>"
      ]
     },
     "metadata": {},
     "output_type": "display_data"
    }
   ],
   "source": [
    "# plot to see if it makes sense\n",
    "lbl = 'washer'\n",
    "mask = (df.index.week==35)&(df.index.year==2013) # &(df.index.day==12)\n",
    "df[lbl][mask].plot(linewidth=1,figsize=(20,10));\n",
    "df[lbl+'_on'][mask].plot(secondary_y=True,linewidth=3,figsize=(20,10));"
   ]
  },
  {
   "cell_type": "markdown",
   "metadata": {},
   "source": [
    "In some cases this methodology shows appliances turning on when they are not actually on (if power meter registers a non zero load for whatever reason). The methodology also shows appliances turning off midway through their usage (e.g., If the dishwasher has a small \"off\" period mid cycle) however, it seems like this basic methodology determines the power ON/OFF accurately most of the time (based on visual inspection).\n",
    "\n",
    "I may need to revisit this if turns out to be whack. It would also be nice if I could quantify the accuracy of this methodology."
   ]
  },
  {
   "cell_type": "markdown",
   "metadata": {},
   "source": [
    "### Basic Classification Model"
   ]
  },
  {
   "cell_type": "code",
   "execution_count": 20,
   "metadata": {},
   "outputs": [],
   "source": [
    "def categorize_appliance(dataframe,y_label,x_label,feature_cols,model_type='logistic regression',thresh=15):    \n",
    "    m1 = categorize_rooms(dataframe,x_label,feature_cols,model_type=model_type,thresh=thresh)\n",
    "    dataframe[x_label+'_on'] = m1.predict(dataframe[feature_cols])\n",
    "    \n",
    "    feature_cols.append(x_label+'_on')\n",
    "    \n",
    "    # define X, y\n",
    "    X = dataframe[feature_cols]\n",
    "    y = dataframe[y_label+'_on']\n",
    "\n",
    "    # train test split time series manually\n",
    "    X_train, X_test, y_train, y_test = tts(X,y)\n",
    "    \n",
    "    # fit/predict model\n",
    "    model, y_pred, y_pred_proba = model_chooser(model_type,X_train,X_test,y_train)\n",
    "    \n",
    "    # print errors\n",
    "    y_null = np.zeros(len(y_test))\n",
    "    print_accuracies(y_label,y_null,y_test,y_pred,y_pred_proba)\n",
    "\n",
    "    return model"
   ]
  },
  {
   "cell_type": "code",
   "execution_count": 21,
   "metadata": {},
   "outputs": [],
   "source": [
    "X_train, X_test, y_train, y_test, model = [],[],[],[],[]"
   ]
  },
  {
   "cell_type": "code",
   "execution_count": 22,
   "metadata": {},
   "outputs": [
    {
     "name": "stdout",
     "output_type": "stream",
     "text": [
      "entertainment\n",
      "Null Accuracy Score: 0.8959094904077074\n",
      "Total Accuracy Score: 0.8728790313100043\n",
      "Log Loss: 0.6585438155572176\n",
      "Accuracy Score 1s: 0.3022211466064322\n",
      "Accuracy Score 0s: 0.9391804497653697\n",
      "any_on_off_app\n",
      "Null Accuracy Score: 0.8868965980529914\n",
      "Total Accuracy Score: 0.9161409146126416\n",
      "Log Loss: 0.6089976249134258\n",
      "Accuracy Score 1s: 0.3091467036230449\n",
      "Accuracy Score 0s: 0.9935491608228292\n"
     ]
    }
   ],
   "source": [
    "feature_cols = feature_creation(df)\n",
    "model = categorize_appliance(df,'any_on_off_app','entertainment',feature_cols,model_type='random forest',thresh=30)"
   ]
  },
  {
   "cell_type": "code",
   "execution_count": 23,
   "metadata": {},
   "outputs": [
    {
     "data": {
      "text/html": [
       "<div>\n",
       "<style scoped>\n",
       "    .dataframe tbody tr th:only-of-type {\n",
       "        vertical-align: middle;\n",
       "    }\n",
       "\n",
       "    .dataframe tbody tr th {\n",
       "        vertical-align: top;\n",
       "    }\n",
       "\n",
       "    .dataframe thead th {\n",
       "        text-align: right;\n",
       "    }\n",
       "</style>\n",
       "<table border=\"1\" class=\"dataframe\">\n",
       "  <thead>\n",
       "    <tr style=\"text-align: right;\">\n",
       "      <th></th>\n",
       "      <th>0</th>\n",
       "      <th>1</th>\n",
       "    </tr>\n",
       "  </thead>\n",
       "  <tbody>\n",
       "    <tr>\n",
       "      <th>12</th>\n",
       "      <td>rolling_max_15</td>\n",
       "      <td>0.073290</td>\n",
       "    </tr>\n",
       "    <tr>\n",
       "      <th>17</th>\n",
       "      <td>rolling_max_30</td>\n",
       "      <td>0.071696</td>\n",
       "    </tr>\n",
       "    <tr>\n",
       "      <th>27</th>\n",
       "      <td>rolling_max_120</td>\n",
       "      <td>0.041912</td>\n",
       "    </tr>\n",
       "    <tr>\n",
       "      <th>22</th>\n",
       "      <td>rolling_max_60</td>\n",
       "      <td>0.039189</td>\n",
       "    </tr>\n",
       "    <tr>\n",
       "      <th>42</th>\n",
       "      <td>hour</td>\n",
       "      <td>0.031613</td>\n",
       "    </tr>\n",
       "    <tr>\n",
       "      <th>16</th>\n",
       "      <td>rolling_mean_30</td>\n",
       "      <td>0.030381</td>\n",
       "    </tr>\n",
       "    <tr>\n",
       "      <th>11</th>\n",
       "      <td>rolling_mean_15</td>\n",
       "      <td>0.029026</td>\n",
       "    </tr>\n",
       "    <tr>\n",
       "      <th>32</th>\n",
       "      <td>rolling_max_240</td>\n",
       "      <td>0.027912</td>\n",
       "    </tr>\n",
       "    <tr>\n",
       "      <th>18</th>\n",
       "      <td>rolling_min_30</td>\n",
       "      <td>0.026148</td>\n",
       "    </tr>\n",
       "    <tr>\n",
       "      <th>46</th>\n",
       "      <td>Temp (C)</td>\n",
       "      <td>0.025982</td>\n",
       "    </tr>\n",
       "    <tr>\n",
       "      <th>10</th>\n",
       "      <td>rolling_sum_15</td>\n",
       "      <td>0.025400</td>\n",
       "    </tr>\n",
       "    <tr>\n",
       "      <th>20</th>\n",
       "      <td>rolling_sum_60</td>\n",
       "      <td>0.025222</td>\n",
       "    </tr>\n",
       "    <tr>\n",
       "      <th>24</th>\n",
       "      <td>rolling_median_60</td>\n",
       "      <td>0.024483</td>\n",
       "    </tr>\n",
       "    <tr>\n",
       "      <th>29</th>\n",
       "      <td>rolling_median_120</td>\n",
       "      <td>0.024219</td>\n",
       "    </tr>\n",
       "    <tr>\n",
       "      <th>21</th>\n",
       "      <td>rolling_mean_60</td>\n",
       "      <td>0.023526</td>\n",
       "    </tr>\n",
       "    <tr>\n",
       "      <th>23</th>\n",
       "      <td>rolling_min_60</td>\n",
       "      <td>0.022873</td>\n",
       "    </tr>\n",
       "    <tr>\n",
       "      <th>19</th>\n",
       "      <td>rolling_median_30</td>\n",
       "      <td>0.022549</td>\n",
       "    </tr>\n",
       "    <tr>\n",
       "      <th>40</th>\n",
       "      <td>main_house_total</td>\n",
       "      <td>0.022060</td>\n",
       "    </tr>\n",
       "    <tr>\n",
       "      <th>25</th>\n",
       "      <td>rolling_sum_120</td>\n",
       "      <td>0.021878</td>\n",
       "    </tr>\n",
       "    <tr>\n",
       "      <th>14</th>\n",
       "      <td>rolling_median_15</td>\n",
       "      <td>0.021872</td>\n",
       "    </tr>\n",
       "    <tr>\n",
       "      <th>37</th>\n",
       "      <td>rolling_max_480</td>\n",
       "      <td>0.021104</td>\n",
       "    </tr>\n",
       "    <tr>\n",
       "      <th>39</th>\n",
       "      <td>rolling_median_480</td>\n",
       "      <td>0.020925</td>\n",
       "    </tr>\n",
       "    <tr>\n",
       "      <th>35</th>\n",
       "      <td>rolling_sum_480</td>\n",
       "      <td>0.020438</td>\n",
       "    </tr>\n",
       "    <tr>\n",
       "      <th>36</th>\n",
       "      <td>rolling_mean_480</td>\n",
       "      <td>0.020312</td>\n",
       "    </tr>\n",
       "    <tr>\n",
       "      <th>34</th>\n",
       "      <td>rolling_median_240</td>\n",
       "      <td>0.019982</td>\n",
       "    </tr>\n",
       "    <tr>\n",
       "      <th>38</th>\n",
       "      <td>rolling_min_480</td>\n",
       "      <td>0.019600</td>\n",
       "    </tr>\n",
       "    <tr>\n",
       "      <th>15</th>\n",
       "      <td>rolling_sum_30</td>\n",
       "      <td>0.019557</td>\n",
       "    </tr>\n",
       "    <tr>\n",
       "      <th>13</th>\n",
       "      <td>rolling_min_15</td>\n",
       "      <td>0.019213</td>\n",
       "    </tr>\n",
       "    <tr>\n",
       "      <th>31</th>\n",
       "      <td>rolling_mean_240</td>\n",
       "      <td>0.019083</td>\n",
       "    </tr>\n",
       "    <tr>\n",
       "      <th>30</th>\n",
       "      <td>rolling_sum_240</td>\n",
       "      <td>0.018919</td>\n",
       "    </tr>\n",
       "    <tr>\n",
       "      <th>33</th>\n",
       "      <td>rolling_min_240</td>\n",
       "      <td>0.018617</td>\n",
       "    </tr>\n",
       "    <tr>\n",
       "      <th>47</th>\n",
       "      <td>Rel Hum (%)</td>\n",
       "      <td>0.017931</td>\n",
       "    </tr>\n",
       "    <tr>\n",
       "      <th>26</th>\n",
       "      <td>rolling_mean_120</td>\n",
       "      <td>0.017590</td>\n",
       "    </tr>\n",
       "    <tr>\n",
       "      <th>28</th>\n",
       "      <td>rolling_min_120</td>\n",
       "      <td>0.017372</td>\n",
       "    </tr>\n",
       "    <tr>\n",
       "      <th>41</th>\n",
       "      <td>dow</td>\n",
       "      <td>0.010214</td>\n",
       "    </tr>\n",
       "    <tr>\n",
       "      <th>4</th>\n",
       "      <td>mht_pct_5</td>\n",
       "      <td>0.008202</td>\n",
       "    </tr>\n",
       "    <tr>\n",
       "      <th>2</th>\n",
       "      <td>mht_pct_3</td>\n",
       "      <td>0.008108</td>\n",
       "    </tr>\n",
       "    <tr>\n",
       "      <th>0</th>\n",
       "      <td>mht_pct_1</td>\n",
       "      <td>0.008068</td>\n",
       "    </tr>\n",
       "    <tr>\n",
       "      <th>8</th>\n",
       "      <td>mht_pct_15</td>\n",
       "      <td>0.007843</td>\n",
       "    </tr>\n",
       "    <tr>\n",
       "      <th>6</th>\n",
       "      <td>mht_pct_9</td>\n",
       "      <td>0.007741</td>\n",
       "    </tr>\n",
       "    <tr>\n",
       "      <th>9</th>\n",
       "      <td>pos_mht_diff_15</td>\n",
       "      <td>0.007288</td>\n",
       "    </tr>\n",
       "    <tr>\n",
       "      <th>1</th>\n",
       "      <td>pos_mht_diff_1</td>\n",
       "      <td>0.007287</td>\n",
       "    </tr>\n",
       "    <tr>\n",
       "      <th>5</th>\n",
       "      <td>pos_mht_diff_5</td>\n",
       "      <td>0.007097</td>\n",
       "    </tr>\n",
       "    <tr>\n",
       "      <th>7</th>\n",
       "      <td>pos_mht_diff_9</td>\n",
       "      <td>0.006978</td>\n",
       "    </tr>\n",
       "    <tr>\n",
       "      <th>3</th>\n",
       "      <td>pos_mht_diff_3</td>\n",
       "      <td>0.006720</td>\n",
       "    </tr>\n",
       "    <tr>\n",
       "      <th>48</th>\n",
       "      <td>entertainment_on</td>\n",
       "      <td>0.004747</td>\n",
       "    </tr>\n",
       "    <tr>\n",
       "      <th>45</th>\n",
       "      <td>spring</td>\n",
       "      <td>0.002987</td>\n",
       "    </tr>\n",
       "    <tr>\n",
       "      <th>44</th>\n",
       "      <td>summer</td>\n",
       "      <td>0.002508</td>\n",
       "    </tr>\n",
       "    <tr>\n",
       "      <th>43</th>\n",
       "      <td>fall</td>\n",
       "      <td>0.002337</td>\n",
       "    </tr>\n",
       "  </tbody>\n",
       "</table>\n",
       "</div>"
      ],
      "text/plain": [
       "                     0         1\n",
       "12      rolling_max_15  0.073290\n",
       "17      rolling_max_30  0.071696\n",
       "27     rolling_max_120  0.041912\n",
       "22      rolling_max_60  0.039189\n",
       "42                hour  0.031613\n",
       "16     rolling_mean_30  0.030381\n",
       "11     rolling_mean_15  0.029026\n",
       "32     rolling_max_240  0.027912\n",
       "18      rolling_min_30  0.026148\n",
       "46            Temp (C)  0.025982\n",
       "10      rolling_sum_15  0.025400\n",
       "20      rolling_sum_60  0.025222\n",
       "24   rolling_median_60  0.024483\n",
       "29  rolling_median_120  0.024219\n",
       "21     rolling_mean_60  0.023526\n",
       "23      rolling_min_60  0.022873\n",
       "19   rolling_median_30  0.022549\n",
       "40    main_house_total  0.022060\n",
       "25     rolling_sum_120  0.021878\n",
       "14   rolling_median_15  0.021872\n",
       "37     rolling_max_480  0.021104\n",
       "39  rolling_median_480  0.020925\n",
       "35     rolling_sum_480  0.020438\n",
       "36    rolling_mean_480  0.020312\n",
       "34  rolling_median_240  0.019982\n",
       "38     rolling_min_480  0.019600\n",
       "15      rolling_sum_30  0.019557\n",
       "13      rolling_min_15  0.019213\n",
       "31    rolling_mean_240  0.019083\n",
       "30     rolling_sum_240  0.018919\n",
       "33     rolling_min_240  0.018617\n",
       "47         Rel Hum (%)  0.017931\n",
       "26    rolling_mean_120  0.017590\n",
       "28     rolling_min_120  0.017372\n",
       "41                 dow  0.010214\n",
       "4            mht_pct_5  0.008202\n",
       "2            mht_pct_3  0.008108\n",
       "0            mht_pct_1  0.008068\n",
       "8           mht_pct_15  0.007843\n",
       "6            mht_pct_9  0.007741\n",
       "9      pos_mht_diff_15  0.007288\n",
       "1       pos_mht_diff_1  0.007287\n",
       "5       pos_mht_diff_5  0.007097\n",
       "7       pos_mht_diff_9  0.006978\n",
       "3       pos_mht_diff_3  0.006720\n",
       "48    entertainment_on  0.004747\n",
       "45              spring  0.002987\n",
       "44              summer  0.002508\n",
       "43                fall  0.002337"
      ]
     },
     "execution_count": 23,
     "metadata": {},
     "output_type": "execute_result"
    }
   ],
   "source": [
    "pd.DataFrame(list(zip(feature_cols,model.feature_importances_))).sort_values(by=1,ascending=False)"
   ]
  },
  {
   "cell_type": "code",
   "execution_count": null,
   "metadata": {},
   "outputs": [],
   "source": []
  },
  {
   "cell_type": "code",
   "execution_count": null,
   "metadata": {},
   "outputs": [],
   "source": [
    "# My computer is too slow to run these tuning plots so I just guessed:\n",
    "# estimator_range = [10,150,300]\n",
    "\n",
    "# accuracy_scores = []\n",
    "# for n in estimator_range:\n",
    "#     forest = RandomForestClassifier(n_estimators=n,random_state=420)\n",
    "#     forest.fit(X_train,y_train)\n",
    "#     accuracy_scores.append(metrics.accuracy_score(y_test,forest.predict(X_test)))"
   ]
  },
  {
   "cell_type": "code",
   "execution_count": null,
   "metadata": {},
   "outputs": [],
   "source": [
    "# plt.plot(estimator_range, accuracy_scores)\n",
    "# plt.xlabel('n_estimators')\n",
    "# plt.ylabel('Accuracy Score')"
   ]
  },
  {
   "cell_type": "code",
   "execution_count": null,
   "metadata": {},
   "outputs": [],
   "source": [
    "# feature_range = range(1,len(feature_cols)+1)\n",
    "# accuracy_scores = []\n",
    "# for n in feature_range:\n",
    "#     forest = RandomForestClassifier(n_estimators=XXX, max_features=n, random_state=420)\n",
    "#     forest.fit(X_train,y_train)\n",
    "#     accuracy_scores.append(metrics.accuracy_score(y_test,forest.predict(X_test)))"
   ]
  },
  {
   "cell_type": "code",
   "execution_count": null,
   "metadata": {},
   "outputs": [],
   "source": []
  },
  {
   "cell_type": "code",
   "execution_count": null,
   "metadata": {},
   "outputs": [],
   "source": []
  },
  {
   "cell_type": "markdown",
   "metadata": {},
   "source": [
    "### Category 3: On-Demand Appliances\n",
    "\n",
    "Appliances that turn on and off automatically based on demand"
   ]
  },
  {
   "cell_type": "code",
   "execution_count": null,
   "metadata": {},
   "outputs": [],
   "source": [
    "od_apps = ['dhw_heater','refrigerator']"
   ]
  },
  {
   "cell_type": "code",
   "execution_count": null,
   "metadata": {},
   "outputs": [],
   "source": [
    "lbl = 'dhw_heater'\n",
    "mask = (df.index.week==33)&(df.index.year==2013)# &(df.index.day==12)\n",
    "df[lbl][mask].plot(linewidth=1,figsize=(20,10));\n",
    "# df[lbl+'_on'][mask].plot(secondary_y=True,linewidth=1,figsize=(20,10));"
   ]
  },
  {
   "cell_type": "code",
   "execution_count": null,
   "metadata": {},
   "outputs": [],
   "source": []
  },
  {
   "cell_type": "markdown",
   "metadata": {},
   "source": [
    "### Category 4: Weather dependent appliances\n",
    "\n",
    "Appliances that run automatically and may draw power based on the outdoor weather"
   ]
  },
  {
   "cell_type": "code",
   "execution_count": null,
   "metadata": {},
   "outputs": [],
   "source": [
    "wd_apps = ['furnace_fan','heat_pump']"
   ]
  },
  {
   "cell_type": "code",
   "execution_count": null,
   "metadata": {},
   "outputs": [],
   "source": [
    "lbl = 'heat_pump'\n",
    "mask = (df.index.month==10)&(df.index.year==2013)# &(df.index.day==12)\n",
    "df[lbl][mask].plot(linewidth=1,figsize=(20,10));\n",
    "df['Temp (C)'][mask].plot(secondary_y=True,linewidth=1,figsize=(20,10))\n",
    "# df[lbl+'_on'][mask].plot(secondary_y=True,linewidth=1,figsize=(20,10));"
   ]
  },
  {
   "cell_type": "code",
   "execution_count": null,
   "metadata": {},
   "outputs": [],
   "source": []
  },
  {
   "cell_type": "code",
   "execution_count": null,
   "metadata": {},
   "outputs": [],
   "source": []
  }
 ],
 "metadata": {
  "kernelspec": {
   "display_name": "Python [conda env:anaconda]",
   "language": "python",
   "name": "conda-env-anaconda-py"
  },
  "language_info": {
   "codemirror_mode": {
    "name": "ipython",
    "version": 3
   },
   "file_extension": ".py",
   "mimetype": "text/x-python",
   "name": "python",
   "nbconvert_exporter": "python",
   "pygments_lexer": "ipython3",
   "version": "3.5.4"
  }
 },
 "nbformat": 4,
 "nbformat_minor": 2
}
