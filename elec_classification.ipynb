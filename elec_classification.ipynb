{
 "cells": [
  {
   "cell_type": "markdown",
   "metadata": {
    "nbpresent": {
     "id": "125c2a82-2f0d-45f3-ad7b-45db4f23f3eb"
    }
   },
   "source": [
    "### Import libraries and read in file"
   ]
  },
  {
   "cell_type": "code",
   "execution_count": 167,
   "metadata": {
    "nbpresent": {
     "id": "069a476e-177d-4b9f-adcd-44f3883d8fd7"
    }
   },
   "outputs": [],
   "source": [
    "# import libs\n",
    "import pandas as pd\n",
    "import numpy as np\n",
    "%matplotlib inline\n",
    "import matplotlib.pyplot as plt\n",
    "plt.style.use('fivethirtyeight')\n",
    "\n",
    "# models and stuff\n",
    "from sklearn.linear_model import LogisticRegression\n",
    "from sklearn.tree import DecisionTreeClassifier\n",
    "from sklearn.ensemble import RandomForestClassifier\n",
    "from sklearn.ensemble import ExtraTreesClassifier\n",
    "from sklearn.ensemble import AdaBoostClassifier\n",
    "from sklearn.ensemble import GradientBoostingClassifier\n",
    "from sklearn import metrics"
   ]
  },
  {
   "cell_type": "code",
   "execution_count": 168,
   "metadata": {
    "nbpresent": {
     "id": "86ec3258-59b4-44ae-aeda-cf43043f965b"
    }
   },
   "outputs": [],
   "source": [
    "# read in file and define some useful column groupings\n",
    "elec_w_weather_path = '/users/ianmyjer/desktop/disagg/electric_data_with_weather.csv'\n",
    "df = pd.read_csv(elec_w_weather_path,delimiter=',',header=0,index_col=0,parse_dates=True)"
   ]
  },
  {
   "cell_type": "code",
   "execution_count": 169,
   "metadata": {
    "nbpresent": {
     "id": "ea0acfbd-84fe-47fc-b843-c28aac15071e"
    }
   },
   "outputs": [],
   "source": [
    "# define useful column groupings\n",
    "power_cols = ['north_br','south_br','basement','dryer','washer',\n",
    "'dining_room','dishwasher','workbench','security_system',\n",
    "'refrigerator','furnace_fan','garage','heat_pump',\n",
    "'dhw_heater','main_house_total','office','outside_plug',\n",
    "'rental_suite','entertainment','utility_room','unmetered',\n",
    "'whole_house_total','oven']\n",
    "weather_cols = ['Temp (C)', 'Dew Point Temp (C)', 'Rel Hum (%)', \n",
    "'Wind Spd (km/h)','Stn Press (kPa)']"
   ]
  },
  {
   "cell_type": "markdown",
   "metadata": {
    "nbpresent": {
     "id": "20121ecf-94a8-4a2d-8418-2e6296dfb3b7"
    }
   },
   "source": [
    "## Features"
   ]
  },
  {
   "cell_type": "code",
   "execution_count": 170,
   "metadata": {
    "nbpresent": {
     "id": "eb353892-f924-466c-b375-5891bb6932dc"
    }
   },
   "outputs": [],
   "source": [
    "def feature_creation(df):\n",
    "    # starting features\n",
    "    feature_cols = ['main_house_total','Temp (C)','Rel Hum (%)']\n",
    "    \n",
    "    # time-based features\n",
    "    # only hour ever seemed to matter\n",
    "#     df['dow'] = df.index.weekday\n",
    "#     df['weekday'] = (df.index.weekday < 5)*1\n",
    "#     df['business_hours'] = (df.index.weekday < 5)&(df.index.hour>=9)&(df.index.hour<=17)*1\n",
    "    df['hour'] = df.index.hour\n",
    "    feature_cols.append('hour')\n",
    "\n",
    "    # season dummies\n",
    "    # pretty much never important\n",
    "#     df['winter'] = (df.index.month<=3)*1\n",
    "#     df['spring'] = (df.index.month>3)&(df.index.month<=6)*1\n",
    "#     df['summer'] = (df.index.month>6)&(df.index.month<=9)*1\n",
    "#     df['fall'] = (df.index.month>9)*1\n",
    "\n",
    "    # main house power percentage change and diff\n",
    "    # pretty much never important\n",
    "#     for interval in [1,3,5,9,15]:\n",
    "#         df['mht_pct_'+str(interval)] = df['main_house_total'].pct_change(freq='1Min').fillna(0).replace(np.inf,1000)\n",
    "#         df['mht_diff_'+str(interval)] = df['main_house_total'].diff(periods=1).fillna(0)\n",
    "    \n",
    "    # rolling stats\n",
    "    # smaller values seems to do better, which makes sense\n",
    "    for time_val in [5,10,15,30,60]:\n",
    "        df['rolling_sum_'+str(time_val)] = df['main_house_total'].rolling(time_val).sum().fillna(0)\n",
    "        df['rolling_mean_'+str(time_val)] = df['main_house_total'].rolling(time_val).mean().fillna(0)\n",
    "        df['rolling_max_'+str(time_val)]  = df['main_house_total'].rolling(time_val).max().fillna(0)\n",
    "        df['rolling_min_'+str(time_val)]  = df['main_house_total'].rolling(time_val).min().fillna(0)\n",
    "        df['rolling_median_'+str(time_val)]  = df['main_house_total'].rolling(time_val).median().fillna(0)\n",
    "        feature_cols.append('rolling_sum_'+str(time_val))\n",
    "        feature_cols.append('rolling_mean_'+str(time_val))\n",
    "        feature_cols.append('rolling_max_'+str(time_val))\n",
    "        feature_cols.append('rolling_min_'+str(time_val))\n",
    "        feature_cols.append('rolling_median_'+str(time_val))\n",
    "\n",
    "    return feature_cols"
   ]
  },
  {
   "cell_type": "code",
   "execution_count": null,
   "metadata": {},
   "outputs": [],
   "source": []
  },
  {
   "cell_type": "markdown",
   "metadata": {},
   "source": [
    "## Modelling Functions"
   ]
  },
  {
   "cell_type": "code",
   "execution_count": 171,
   "metadata": {},
   "outputs": [],
   "source": [
    "def tts(X,y,percent=0.66):\n",
    "    train_size = int(len(X) * percent)\n",
    "    X_train, X_test = X[0:train_size], X[train_size:len(X)]\n",
    "    y_train, y_test = y[0:train_size], y[train_size:len(X)]\n",
    "    return X_train, X_test, y_train, y_test"
   ]
  },
  {
   "cell_type": "code",
   "execution_count": 172,
   "metadata": {},
   "outputs": [],
   "source": [
    "def tts_small(X,y,first_split=0.33,second_split=0.66):\n",
    "    train_size = int(len(X) * first_split)\n",
    "    test_size = int(len(X) * second_split)\n",
    "    X_train, X_test = X[0:train_size], X[train_size:test_size]\n",
    "    y_train, y_test = y[0:train_size], y[train_size:test_size]\n",
    "    return X_train, X_test, y_train, y_test"
   ]
  },
  {
   "cell_type": "code",
   "execution_count": 173,
   "metadata": {},
   "outputs": [],
   "source": [
    "def model_chooser(model_type,X_train,X_test,y_train,n_estimators=10,max_features='auto'):\n",
    "    if model_type == 'random_forest':\n",
    "        model = RandomForestClassifier(random_state=42,n_estimators=n_estimators,max_features=max_features)\n",
    "    elif model_type == 'logistic_regression':\n",
    "        model = LogisticRegression()\n",
    "    elif model_type == 'decision_tree':\n",
    "        model = DecisionTreeClassifier(random_state=42,n_estimators=n_estimators,max_features=max_features)\n",
    "    elif model_type == 'extra_trees':\n",
    "        model = ExtraTreesClassifier(random_state=42,n_estimators=n_estimators,max_features=max_features)\n",
    "    elif model_type == 'ada_boost':\n",
    "        model = AdaBoostClassifier(random_state=42,n_estimators=n_estimators)\n",
    "    elif model_type == 'gradient_boost':\n",
    "        model = GradientBoostingClassifier(random_state=42,n_estimators=n_estimators,max_features=max_features)\n",
    "    else:\n",
    "        model = None\n",
    "\n",
    "    # fit and predict on model\n",
    "    model.fit(X_train,y_train)\n",
    "    y_pred = model.predict(X_test)\n",
    "    y_pred_proba = model.predict_proba(X_test)[:,1]\n",
    "    \n",
    "    return model, y_pred, y_pred_proba"
   ]
  },
  {
   "cell_type": "code",
   "execution_count": 174,
   "metadata": {},
   "outputs": [],
   "source": [
    "def print_accuracies(lbl,y_test,y_pred,y_pred_proba):\n",
    "    print(lbl)\n",
    "    # Predict appliances are always OFF\n",
    "    y_null = np.zeros(len(y_test))\n",
    "    print('Null Accuracy Score: {:0.4f}'.format(metrics.accuracy_score(y_test, y_null)))\n",
    "\n",
    "    # total accuracy\n",
    "    print('Total Accuracy Score: {:0.4f}'.format(metrics.accuracy_score(y_test, y_pred)))\n",
    "    print('Log Loss: {:0.4f}'.format(metrics.log_loss(y_test,y_pred_proba)))\n",
    "\n",
    "    # binary accuracy\n",
    "    print('Accuracy Score 1s: {:0.4f}'.format(metrics.accuracy_score(y_test[y_test==1], y_pred[y_test==1])))\n",
    "    print('Accuracy Score 0s: {:0.4f}'.format(metrics.accuracy_score(y_test[y_test==0], y_pred[y_test==0])))\n",
    "    \n",
    "    # confusion matrix\n",
    "    print(metrics.confusion_matrix(y_test,y_pred))"
   ]
  },
  {
   "cell_type": "code",
   "execution_count": 175,
   "metadata": {},
   "outputs": [],
   "source": [
    "def save_accuracies(lbl,model_type,y_test,y_pred,y_pred_proba):\n",
    "    dct = {}\n",
    "    y_null = np.zeros(len(y_test))\n",
    "    dct[model_type+'_null_accuracy'] = metrics.accuracy_score(y_test, y_null)\n",
    "    dct[model_type+'_total_accuracy'] = metrics.accuracy_score(y_test, y_pred)\n",
    "    dct[model_type+'_log_loss'] = metrics.log_loss(y_test,y_pred_proba)\n",
    "    dct[model_type+'_accuracy_1'] = metrics.accuracy_score(y_test[y_test==1], y_pred[y_test==1])\n",
    "    dct[model_type+'_accuracy_0'] = metrics.accuracy_score(y_test[y_test==0], y_pred[y_test==0])\n",
    "    return dct                                  "
   ]
  },
  {
   "cell_type": "code",
   "execution_count": null,
   "metadata": {},
   "outputs": [],
   "source": []
  },
  {
   "cell_type": "markdown",
   "metadata": {},
   "source": [
    "### Category 2 - ON/OFF Rooms\n",
    "Rooms with switches that can be turned ON/OFF (lights, phone chargers, etc.)\n",
    "\n",
    "When room is in use, power change is incremental and relatively small. For example, a bedroom could have a light turned on or a phone plugged in, but any increase or decrease in power would be small as compared to a dishwasher or dryer.\n",
    "\n",
    "When all switches OFF, power may not be 0 due to plug loads (alarm clocks, safety lights, etc.)"
   ]
  },
  {
   "cell_type": "markdown",
   "metadata": {},
   "source": [
    "Hypothesis: If I could accurately classify a simple load like dining room, I could use that model to make the other ones a lot better. This one might work well because it has obvious peaks at night when everyone sits down for dinner"
   ]
  },
  {
   "cell_type": "code",
   "execution_count": 42,
   "metadata": {},
   "outputs": [],
   "source": [
    "# label rooms using basic logic\n",
    "thresh = 15\n",
    "lbl = 'south_br'\n",
    "df[lbl+'_on'] = df[lbl].apply(lambda x: 1 if x > thresh else 0)\n",
    "    \n",
    "# plot to see if it makes sense\n",
    "mask = (df.index.year==2012)&(df.index.week==40) # &(df.index.day==12)\n",
    "df[lbl][mask].plot(linewidth=2,figsize=(20,10));\n",
    "df[lbl+'_on'][mask].plot(secondary_y=True,linewidth=1,figsize=(20,10));"
   ]
  },
  {
   "cell_type": "code",
   "execution_count": null,
   "metadata": {},
   "outputs": [],
   "source": [
    "rooms = ['north_br','south_br','basement','workbench','garage','dining_room','outside_plug','office','entertainment','utility_room']\n",
    "df['all_rooms'] = df[rooms].sum(axis=1)"
   ]
  },
  {
   "cell_type": "code",
   "execution_count": 176,
   "metadata": {},
   "outputs": [],
   "source": [
    "def categorize_rooms(df,lbl,feature_cols,model_type='random_forest',thresh=15):\n",
    "    df[lbl+'_on'] = df[lbl].apply(lambda x: 1 if x > thresh else 0)\n",
    "    \n",
    "    # define X, y\n",
    "    X = df[feature_cols]\n",
    "    y = df[lbl+'_on']\n",
    "\n",
    "    # train test split time series manually\n",
    "    X_train, X_test, y_train, y_test = tts(X,y)\n",
    "    \n",
    "    # fit/predict model\n",
    "    model, y_pred, y_pred_proba = model_chooser(model_type,X_train,X_test,y_train)\n",
    "    \n",
    "    # print errors\n",
    "    print_accuracies(lbl,y_test,y_pred,y_pred_proba)\n",
    "\n",
    "    return model"
   ]
  },
  {
   "cell_type": "code",
   "execution_count": null,
   "metadata": {},
   "outputs": [],
   "source": [
    "feature_cols = feature_creation(df)\n",
    "model = categorize_rooms(df,'all_rooms',feature_cols,thresh=25)\n",
    "pd.DataFrame(list(zip(feature_cols,model.feature_importances_))).sort_values(by=1,ascending=False);"
   ]
  },
  {
   "cell_type": "markdown",
   "metadata": {
    "nbpresent": {
     "id": "7b46c0c0-c2fb-4a64-8f9e-037ff2e8b26f"
    }
   },
   "source": [
    "## Category 1 - ON/OFF Appliances\n",
    "Appliances that are either OFF and have 0 power draw or ON and have high power draw"
   ]
  },
  {
   "cell_type": "code",
   "execution_count": 177,
   "metadata": {
    "nbpresent": {
     "id": "24c01ee1-3639-49b1-8a77-3c91bc47bcdb"
    }
   },
   "outputs": [],
   "source": [
    "# classify power_on based only on power > 0\n",
    "on_off_apps = ['dishwasher', 'oven', 'dryer', 'washer']\n",
    "for lbl in on_off_apps:\n",
    "    df[lbl+'_on'] = df[lbl].apply(lambda x: 1 if x > 0 else 0)\n",
    "    \n",
    "df['any_on_off_app_on'] = np.where(df[on_off_apps].sum(axis=1) >= 1, 1, 0)"
   ]
  },
  {
   "cell_type": "code",
   "execution_count": 6,
   "metadata": {},
   "outputs": [
    {
     "data": {
      "image/png": "[encoded data removed]",
      "text/plain": [
       "<matplotlib.figure.Figure at 0x10257b2b0>"
      ]
     },
     "metadata": {},
     "output_type": "display_data"
    }
   ],
   "source": [
    "# plot to see if it makes sense\n",
    "lbl = 'washer'\n",
    "mask = (df.index.week==35)&(df.index.year==2013) # &(df.index.day==12)\n",
    "df[lbl][mask].plot(linewidth=1,figsize=(20,10));\n",
    "df[lbl+'_on'][mask].plot(secondary_y=True,linewidth=3,figsize=(20,10));"
   ]
  },
  {
   "cell_type": "markdown",
   "metadata": {},
   "source": [
    "In some cases this methodology shows appliances turning on when they are not actually on (if power meter registers a non zero load for whatever reason). The methodology also shows appliances turning off midway through their usage (e.g., If the dishwasher has a small \"off\" period mid cycle) however, it seems like this basic methodology determines the power ON/OFF accurately most of the time (based on visual inspection).\n",
    "\n",
    "I may need to revisit this if turns out to be whack. It would also be nice if I could quantify the accuracy of this methodology."
   ]
  },
  {
   "cell_type": "markdown",
   "metadata": {},
   "source": [
    "## Basic Classification Model"
   ]
  },
  {
   "cell_type": "code",
   "execution_count": 189,
   "metadata": {},
   "outputs": [],
   "source": [
    "def basic_app_class(df,lbl,feature_cols, model_type='random_forest', \n",
    "                    first_split=0.33, second_split=0.40, n_estimators=10,max_features='auto'):\n",
    "    # define X, y\n",
    "    X = df[feature_cols]\n",
    "    y = df[lbl+'_on']\n",
    "\n",
    "    # train test split time series manually\n",
    "    X_train, X_test, y_train, y_test = tts_small(X,y,first_split=first_split,second_split=second_split)\n",
    "    model, y_pred, y_pred_proba = model_chooser(model_type,X_train,X_test,y_train,n_estimators = n_estimators, max_features = max_features)\n",
    "\n",
    "    print_accuracies(lbl,y_test,y_pred,y_pred_proba)\n",
    "    dct = save_accuracies(lbl,model_type,y_test,y_pred,y_pred_proba)\n",
    "    \n",
    "    return model, y_pred, y_pred_proba, dct"
   ]
  },
  {
   "cell_type": "code",
   "execution_count": 192,
   "metadata": {},
   "outputs": [
    {
     "name": "stdout",
     "output_type": "stream",
     "text": [
      "any_on_off_app\n",
      "Null Accuracy Score: 0.8869\n",
      "Total Accuracy Score: 0.9272\n",
      "Log Loss: 0.2234\n",
      "Accuracy Score 1s: 0.3903\n",
      "Accuracy Score 0s: 0.9957\n",
      "[[315487   1371]\n",
      " [ 24637  15771]]\n"
     ]
    }
   ],
   "source": [
    "lbl = 'any_on_off_app'\n",
    "feature_cols = feature_creation(df)\n",
    "model_type = 'extra_trees'\n",
    "\n",
    "model, y_pred, y_pred_proba, dct = basic_app_class(df,lbl,feature_cols, model_type=model_type, \n",
    "                    first_split=0.66, second_split=1.00, n_estimators=100,max_features='auto')"
   ]
  },
  {
   "cell_type": "code",
   "execution_count": 193,
   "metadata": {},
   "outputs": [
    {
     "name": "stdout",
     "output_type": "stream",
     "text": [
      "Total Accuracy Score: 0.9272\n",
      "             precision    recall  f1-score   support\n",
      "\n",
      "          0       0.93      1.00      0.96    316858\n",
      "          1       0.92      0.39      0.55     40408\n",
      "\n",
      "avg / total       0.93      0.93      0.91    357266\n",
      "\n"
     ]
    },
    {
     "data": {
      "text/html": [
       "<div>\n",
       "<style scoped>\n",
       "    .dataframe tbody tr th:only-of-type {\n",
       "        vertical-align: middle;\n",
       "    }\n",
       "\n",
       "    .dataframe tbody tr th {\n",
       "        vertical-align: top;\n",
       "    }\n",
       "\n",
       "    .dataframe thead th {\n",
       "        text-align: right;\n",
       "    }\n",
       "</style>\n",
       "<table border=\"1\" class=\"dataframe\">\n",
       "  <thead>\n",
       "    <tr style=\"text-align: right;\">\n",
       "      <th></th>\n",
       "      <th>0</th>\n",
       "      <th>1</th>\n",
       "    </tr>\n",
       "  </thead>\n",
       "  <tbody>\n",
       "    <tr>\n",
       "      <th>0</th>\n",
       "      <td>315487</td>\n",
       "      <td>1371</td>\n",
       "    </tr>\n",
       "    <tr>\n",
       "      <th>1</th>\n",
       "      <td>24637</td>\n",
       "      <td>15771</td>\n",
       "    </tr>\n",
       "  </tbody>\n",
       "</table>\n",
       "</div>"
      ],
      "text/plain": [
       "        0      1\n",
       "0  315487   1371\n",
       "1   24637  15771"
      ]
     },
     "execution_count": 193,
     "metadata": {},
     "output_type": "execute_result"
    }
   ],
   "source": [
    "print('Total Accuracy Score: {:0.4f}'.format(metrics.accuracy_score(y_test, y_pred)))\n",
    "print(metrics.classification_report(y_test, y_pred))\n",
    "pd.DataFrame(metrics.confusion_matrix(y_test,y_pred),columns=['0','1'])"
   ]
  },
  {
   "cell_type": "code",
   "execution_count": 194,
   "metadata": {},
   "outputs": [
    {
     "data": {
      "text/html": [
       "<div>\n",
       "<style scoped>\n",
       "    .dataframe tbody tr th:only-of-type {\n",
       "        vertical-align: middle;\n",
       "    }\n",
       "\n",
       "    .dataframe tbody tr th {\n",
       "        vertical-align: top;\n",
       "    }\n",
       "\n",
       "    .dataframe thead th {\n",
       "        text-align: right;\n",
       "    }\n",
       "</style>\n",
       "<table border=\"1\" class=\"dataframe\">\n",
       "  <thead>\n",
       "    <tr style=\"text-align: right;\">\n",
       "      <th></th>\n",
       "      <th>0</th>\n",
       "      <th>1</th>\n",
       "    </tr>\n",
       "  </thead>\n",
       "  <tbody>\n",
       "    <tr>\n",
       "      <th>21</th>\n",
       "      <td>rolling_max_30</td>\n",
       "      <td>0.057221</td>\n",
       "    </tr>\n",
       "    <tr>\n",
       "      <th>16</th>\n",
       "      <td>rolling_max_15</td>\n",
       "      <td>0.053140</td>\n",
       "    </tr>\n",
       "    <tr>\n",
       "      <th>11</th>\n",
       "      <td>rolling_max_10</td>\n",
       "      <td>0.050053</td>\n",
       "    </tr>\n",
       "    <tr>\n",
       "      <th>26</th>\n",
       "      <td>rolling_max_60</td>\n",
       "      <td>0.049707</td>\n",
       "    </tr>\n",
       "    <tr>\n",
       "      <th>3</th>\n",
       "      <td>hour</td>\n",
       "      <td>0.048080</td>\n",
       "    </tr>\n",
       "    <tr>\n",
       "      <th>6</th>\n",
       "      <td>rolling_max_5</td>\n",
       "      <td>0.039610</td>\n",
       "    </tr>\n",
       "    <tr>\n",
       "      <th>28</th>\n",
       "      <td>rolling_median_60</td>\n",
       "      <td>0.036425</td>\n",
       "    </tr>\n",
       "    <tr>\n",
       "      <th>22</th>\n",
       "      <td>rolling_min_30</td>\n",
       "      <td>0.036023</td>\n",
       "    </tr>\n",
       "    <tr>\n",
       "      <th>23</th>\n",
       "      <td>rolling_median_30</td>\n",
       "      <td>0.034644</td>\n",
       "    </tr>\n",
       "    <tr>\n",
       "      <th>25</th>\n",
       "      <td>rolling_mean_60</td>\n",
       "      <td>0.034382</td>\n",
       "    </tr>\n",
       "    <tr>\n",
       "      <th>27</th>\n",
       "      <td>rolling_min_60</td>\n",
       "      <td>0.034244</td>\n",
       "    </tr>\n",
       "    <tr>\n",
       "      <th>24</th>\n",
       "      <td>rolling_sum_60</td>\n",
       "      <td>0.032801</td>\n",
       "    </tr>\n",
       "    <tr>\n",
       "      <th>1</th>\n",
       "      <td>Temp (C)</td>\n",
       "      <td>0.032776</td>\n",
       "    </tr>\n",
       "    <tr>\n",
       "      <th>15</th>\n",
       "      <td>rolling_mean_15</td>\n",
       "      <td>0.031892</td>\n",
       "    </tr>\n",
       "    <tr>\n",
       "      <th>20</th>\n",
       "      <td>rolling_mean_30</td>\n",
       "      <td>0.031550</td>\n",
       "    </tr>\n",
       "    <tr>\n",
       "      <th>0</th>\n",
       "      <td>main_house_total</td>\n",
       "      <td>0.030686</td>\n",
       "    </tr>\n",
       "    <tr>\n",
       "      <th>17</th>\n",
       "      <td>rolling_min_15</td>\n",
       "      <td>0.030541</td>\n",
       "    </tr>\n",
       "    <tr>\n",
       "      <th>19</th>\n",
       "      <td>rolling_sum_30</td>\n",
       "      <td>0.030215</td>\n",
       "    </tr>\n",
       "    <tr>\n",
       "      <th>18</th>\n",
       "      <td>rolling_median_15</td>\n",
       "      <td>0.029725</td>\n",
       "    </tr>\n",
       "    <tr>\n",
       "      <th>5</th>\n",
       "      <td>rolling_mean_5</td>\n",
       "      <td>0.029060</td>\n",
       "    </tr>\n",
       "    <tr>\n",
       "      <th>2</th>\n",
       "      <td>Rel Hum (%)</td>\n",
       "      <td>0.029019</td>\n",
       "    </tr>\n",
       "    <tr>\n",
       "      <th>14</th>\n",
       "      <td>rolling_sum_15</td>\n",
       "      <td>0.028739</td>\n",
       "    </tr>\n",
       "    <tr>\n",
       "      <th>12</th>\n",
       "      <td>rolling_min_10</td>\n",
       "      <td>0.028697</td>\n",
       "    </tr>\n",
       "    <tr>\n",
       "      <th>8</th>\n",
       "      <td>rolling_median_5</td>\n",
       "      <td>0.028356</td>\n",
       "    </tr>\n",
       "    <tr>\n",
       "      <th>13</th>\n",
       "      <td>rolling_median_10</td>\n",
       "      <td>0.028130</td>\n",
       "    </tr>\n",
       "    <tr>\n",
       "      <th>7</th>\n",
       "      <td>rolling_min_5</td>\n",
       "      <td>0.027136</td>\n",
       "    </tr>\n",
       "    <tr>\n",
       "      <th>9</th>\n",
       "      <td>rolling_sum_10</td>\n",
       "      <td>0.026379</td>\n",
       "    </tr>\n",
       "    <tr>\n",
       "      <th>4</th>\n",
       "      <td>rolling_sum_5</td>\n",
       "      <td>0.025482</td>\n",
       "    </tr>\n",
       "    <tr>\n",
       "      <th>10</th>\n",
       "      <td>rolling_mean_10</td>\n",
       "      <td>0.025287</td>\n",
       "    </tr>\n",
       "  </tbody>\n",
       "</table>\n",
       "</div>"
      ],
      "text/plain": [
       "                    0         1\n",
       "21     rolling_max_30  0.057221\n",
       "16     rolling_max_15  0.053140\n",
       "11     rolling_max_10  0.050053\n",
       "26     rolling_max_60  0.049707\n",
       "3                hour  0.048080\n",
       "6       rolling_max_5  0.039610\n",
       "28  rolling_median_60  0.036425\n",
       "22     rolling_min_30  0.036023\n",
       "23  rolling_median_30  0.034644\n",
       "25    rolling_mean_60  0.034382\n",
       "27     rolling_min_60  0.034244\n",
       "24     rolling_sum_60  0.032801\n",
       "1            Temp (C)  0.032776\n",
       "15    rolling_mean_15  0.031892\n",
       "20    rolling_mean_30  0.031550\n",
       "0    main_house_total  0.030686\n",
       "17     rolling_min_15  0.030541\n",
       "19     rolling_sum_30  0.030215\n",
       "18  rolling_median_15  0.029725\n",
       "5      rolling_mean_5  0.029060\n",
       "2         Rel Hum (%)  0.029019\n",
       "14     rolling_sum_15  0.028739\n",
       "12     rolling_min_10  0.028697\n",
       "8    rolling_median_5  0.028356\n",
       "13  rolling_median_10  0.028130\n",
       "7       rolling_min_5  0.027136\n",
       "9      rolling_sum_10  0.026379\n",
       "4       rolling_sum_5  0.025482\n",
       "10    rolling_mean_10  0.025287"
      ]
     },
     "execution_count": 194,
     "metadata": {},
     "output_type": "execute_result"
    }
   ],
   "source": [
    "pd.DataFrame(list(zip(feature_cols,model.feature_importances_))).sort_values(by=1,ascending=False)"
   ]
  },
  {
   "cell_type": "code",
   "execution_count": null,
   "metadata": {},
   "outputs": [],
   "source": [
    "## Hyperparameter tuning\n",
    "lbl = 'any_on_off_app'\n",
    "feature_cols = feature_creation(df)\n",
    "model_type = 'random_forest'\n",
    "for n in estimator_range:\n",
    "    model, y_pred, y_pred_proba, dct = basic_app_class(df,lbl,feature_cols, model_type='random_forest', \n",
    "                                                   first_split=0.20, second_split=0.40, \n",
    "                                                   n_estimators=100,max_features='auto')\n",
    "    accuracy_scores.append(dct['random_forest_total_accuracy'])\n",
    "    print(n)"
   ]
  },
  {
   "cell_type": "code",
   "execution_count": null,
   "metadata": {},
   "outputs": [],
   "source": [
    "plt.plot(feature_range, accuracy_scores)\n",
    "plt.xlabel('n_estimators')\n",
    "plt.ylabel('Accuracy Score')"
   ]
  },
  {
   "cell_type": "markdown",
   "metadata": {},
   "source": [
    "## Classification model with model output as feature"
   ]
  },
  {
   "cell_type": "code",
   "execution_count": 84,
   "metadata": {},
   "outputs": [],
   "source": [
    "def sub_model(dataframe,sub_labels,feature_cols,model_type='random_forest',thresh=25):\n",
    "    for sub_label in sub_labels:\n",
    "        model = categorize_rooms(dataframe,sub_label,feature_cols,model_type=model_type,thresh=thresh)\n",
    "        dataframe[sub_label+'_on'] = model.predict(dataframe[feature_cols])\n",
    "        feature_cols.append(sub_label+'_on')\n",
    "\n",
    "    return dataframe, feature_cols"
   ]
  },
  {
   "cell_type": "code",
   "execution_count": 98,
   "metadata": {},
   "outputs": [],
   "source": [
    "def categorize_appliance(dataframe,y_label,sub_labels,feature_cols,model_type='logistic_regression',thresh=25):    \n",
    "    dataframe, feature_cols = sub_model(dataframe,sub_labels,feature_cols,model_type=model_type,thresh=thresh)\n",
    "    \n",
    "    # define X, y\n",
    "    X = dataframe[feature_cols]\n",
    "    y = dataframe[y_label+'_on']\n",
    "\n",
    "    # train test split time series manually\n",
    "    X_train, X_test, y_train, y_test = tts(X,y)\n",
    "    \n",
    "    # fit/predict model\n",
    "    model, y_pred, y_pred_proba = model_chooser(model_type,X_train,X_test,y_train)\n",
    "    \n",
    "    # print errors\n",
    "    print_accuracies(y_label,y_test,y_pred,y_pred_proba)\n",
    "\n",
    "    return model, X_test, y_test, y_pred, y_pred_proba"
   ]
  },
  {
   "cell_type": "code",
   "execution_count": 99,
   "metadata": {},
   "outputs": [
    {
     "name": "stdout",
     "output_type": "stream",
     "text": [
      "south_br\n",
      "Null Accuracy Score: 0.7117\n",
      "Total Accuracy Score: 0.8051\n",
      "Log Loss: 0.7445\n",
      "Accuracy Score 1s: 0.4962\n",
      "Accuracy Score 0s: 0.9302\n",
      "[[236514  17753]\n",
      " [ 51896  51103]]\n",
      "any_on_off_app\n",
      "Null Accuracy Score: 0.8869\n",
      "Total Accuracy Score: 0.9228\n",
      "Log Loss: 0.7301\n",
      "Accuracy Score 1s: 0.3748\n",
      "Accuracy Score 0s: 0.9927\n",
      "[[314538   2320]\n",
      " [ 25265  15143]]\n"
     ]
    }
   ],
   "source": [
    "feature_cols = feature_creation(df)\n",
    "# rooms = ['north_br','south_br','basement','workbench','garage','office','entertainment','utility_room']\n",
    "rooms = ['south_br']\n",
    "model, X_test, y_test, y_pred, y_pred_proba = categorize_appliance(df,'any_on_off_app',rooms,feature_cols,model_type='random_forest',thresh=25)"
   ]
  },
  {
   "cell_type": "code",
   "execution_count": 126,
   "metadata": {},
   "outputs": [],
   "source": [
    "pd.DataFrame(list(zip(feature_cols,model.feature_importances_))).sort_values(by=1,ascending=False);"
   ]
  },
  {
   "cell_type": "code",
   "execution_count": 134,
   "metadata": {},
   "outputs": [],
   "source": [
    "foo = pd.DataFrame({'y_test':y_test,'y_pred':y_pred,'y_pred_proba':y_pred_proba})\n",
    "bar = pd.concat([foo,X_test],axis=1) \n",
    "baz = bar.merge(df[['dishwasher','dryer','oven','washer']],left_index=True,right_index=True,how='left')\n",
    "exploratory = baz[(baz.y_test==1)&(baz.y_pred==0)]\n",
    "huh = baz[(baz.y_test==0)&(baz.y_pred==1)]\n",
    "# exploratory.to_csv('/users/ianmyjer/desktop/exploratory.csv')"
   ]
  },
  {
   "cell_type": "code",
   "execution_count": 133,
   "metadata": {},
   "outputs": [
    {
     "data": {
      "image/png": "[encoded data removed]",
      "text/plain": [
       "<matplotlib.figure.Figure at 0x1a12404198>"
      ]
     },
     "metadata": {},
     "output_type": "display_data"
    }
   ],
   "source": [
    "ax = exploratory.plot(x='main_house_total',y='dishwasher',kind='scatter',color='Green');\n",
    "exploratory.plot(x='main_house_total',y='oven',kind='scatter',ax=ax,color='Blue');\n",
    "exploratory.plot(x='main_house_total',y='washer',kind='scatter',ax=ax,color='Red');\n",
    "exploratory.plot(x='main_house_total',y='dryer',kind='scatter',ax=ax,color='Black');"
   ]
  },
  {
   "cell_type": "code",
   "execution_count": null,
   "metadata": {},
   "outputs": [],
   "source": []
  },
  {
   "cell_type": "code",
   "execution_count": null,
   "metadata": {},
   "outputs": [],
   "source": []
  },
  {
   "cell_type": "code",
   "execution_count": null,
   "metadata": {},
   "outputs": [],
   "source": []
  },
  {
   "cell_type": "code",
   "execution_count": null,
   "metadata": {},
   "outputs": [],
   "source": []
  },
  {
   "cell_type": "code",
   "execution_count": null,
   "metadata": {},
   "outputs": [],
   "source": []
  },
  {
   "cell_type": "code",
   "execution_count": null,
   "metadata": {},
   "outputs": [],
   "source": []
  },
  {
   "cell_type": "code",
   "execution_count": null,
   "metadata": {},
   "outputs": [],
   "source": []
  },
  {
   "cell_type": "markdown",
   "metadata": {},
   "source": [
    "### Category 3: On-Demand Appliances\n",
    "\n",
    "Appliances that turn on and off automatically based on demand"
   ]
  },
  {
   "cell_type": "code",
   "execution_count": null,
   "metadata": {},
   "outputs": [],
   "source": [
    "od_apps = ['dhw_heater','refrigerator']"
   ]
  },
  {
   "cell_type": "code",
   "execution_count": null,
   "metadata": {},
   "outputs": [],
   "source": [
    "for lbl in od_apps: \n",
    "    df[lbl+'_on'] = df[lbl].apply(lambda x: 1 if x > 10 else 0)"
   ]
  },
  {
   "cell_type": "code",
   "execution_count": null,
   "metadata": {},
   "outputs": [],
   "source": [
    "lbl = 'refrigerator'\n",
    "mask = (df.index.week==33)&(df.index.year==2013)# &(df.index.day==12)\n",
    "df[lbl][mask].plot(linewidth=1,figsize=(20,10));\n",
    "df[lbl+'_on'][mask].plot(secondary_y=True,linewidth=1,figsize=(20,10));"
   ]
  },
  {
   "cell_type": "code",
   "execution_count": null,
   "metadata": {},
   "outputs": [],
   "source": [
    "rooms = ['south_br'] # ,'north_br','basement','workbench','garage','office','entertainment','utility_room']\n",
    "feature_cols = feature_creation(df)\n",
    "model = categorize_appliance(df,'refrigerator',rooms,feature_cols,model_type='random forest',thresh=25)\n"
   ]
  },
  {
   "cell_type": "code",
   "execution_count": null,
   "metadata": {},
   "outputs": [],
   "source": [
    "pd.DataFrame(list(zip(feature_cols,model.feature_importances_))).sort_values(by=1,ascending=False)"
   ]
  },
  {
   "cell_type": "markdown",
   "metadata": {},
   "source": [
    "### Category 4: Weather dependent appliances\n",
    "\n",
    "Appliances that run automatically and may draw power based on the outdoor weather"
   ]
  },
  {
   "cell_type": "code",
   "execution_count": null,
   "metadata": {},
   "outputs": [],
   "source": [
    "wd_apps = ['furnace_fan','heat_pump']"
   ]
  },
  {
   "cell_type": "code",
   "execution_count": null,
   "metadata": {},
   "outputs": [],
   "source": [
    "lbl = 'heat_pump'\n",
    "mask = (df.index.month==10)&(df.index.year==2013)# &(df.index.day==12)\n",
    "df[lbl][mask].plot(linewidth=1,figsize=(20,10));\n",
    "df['Temp (C)'][mask].plot(secondary_y=True,linewidth=1,figsize=(20,10))\n",
    "# df[lbl+'_on'][mask].plot(secondary_y=True,linewidth=1,figsize=(20,10));"
   ]
  },
  {
   "cell_type": "code",
   "execution_count": null,
   "metadata": {},
   "outputs": [],
   "source": []
  },
  {
   "cell_type": "code",
   "execution_count": null,
   "metadata": {},
   "outputs": [],
   "source": []
  }
 ],
 "metadata": {
  "kernelspec": {
   "display_name": "Python [conda env:anaconda]",
   "language": "python",
   "name": "conda-env-anaconda-py"
  },
  "language_info": {
   "codemirror_mode": {
    "name": "ipython",
    "version": 3
   },
   "file_extension": ".py",
   "mimetype": "text/x-python",
   "name": "python",
   "nbconvert_exporter": "python",
   "pygments_lexer": "ipython3",
   "version": "3.5.4"
  }
 },
 "nbformat": 4,
 "nbformat_minor": 2
}
