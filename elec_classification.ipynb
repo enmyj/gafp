{
 "cells": [
  {
   "cell_type": "markdown",
   "metadata": {
    "nbpresent": {
     "id": "125c2a82-2f0d-45f3-ad7b-45db4f23f3eb"
    }
   },
   "source": [
    "### Import libraries and read in file"
   ]
  },
  {
   "cell_type": "code",
   "execution_count": null,
   "metadata": {
    "nbpresent": {
     "id": "069a476e-177d-4b9f-adcd-44f3883d8fd7"
    }
   },
   "outputs": [],
   "source": [
    "# import libs\n",
    "import pandas as pd\n",
    "import numpy as np\n",
    "%matplotlib inline\n",
    "import matplotlib.pyplot as plt\n",
    "\n",
    "plt.style.use('fivethirtyeight')"
   ]
  },
  {
   "cell_type": "code",
   "execution_count": null,
   "metadata": {
    "nbpresent": {
     "id": "86ec3258-59b4-44ae-aeda-cf43043f965b"
    }
   },
   "outputs": [],
   "source": [
    "# read in file and define some useful column groupings\n",
    "elec_w_weather_path = '/users/ianmyjer/desktop/disagg/electric_data_with_weather.csv'\n",
    "df = pd.read_csv(elec_w_weather_path,delimiter=',',header=0,index_col=0,parse_dates=True)"
   ]
  },
  {
   "cell_type": "code",
   "execution_count": null,
   "metadata": {
    "nbpresent": {
     "id": "ea0acfbd-84fe-47fc-b843-c28aac15071e"
    }
   },
   "outputs": [],
   "source": [
    "# define useful column groupings\n",
    "power_cols = ['north_br','south_br','basement','dryer','washer',\n",
    "'dining_room','dishwasher','workbench','security_system',\n",
    "'refrigerator','furnace_fan','garage','heat_pump',\n",
    "'dhw_heater','main_house_total','office','outside_plug',\n",
    "'rental_suite','entertainment','utility_room','unmetered',\n",
    "'whole_house_total','oven']\n",
    "weather_cols = ['Temp (C)', 'Dew Point Temp (C)', 'Rel Hum (%)', \n",
    "'Wind Spd (km/h)','Stn Press (kPa)']"
   ]
  },
  {
   "cell_type": "markdown",
   "metadata": {
    "nbpresent": {
     "id": "20121ecf-94a8-4a2d-8418-2e6296dfb3b7"
    }
   },
   "source": [
    "## Features"
   ]
  },
  {
   "cell_type": "code",
   "execution_count": null,
   "metadata": {
    "nbpresent": {
     "id": "eb353892-f924-466c-b375-5891bb6932dc"
    }
   },
   "outputs": [],
   "source": [
    "def feature_creation(df):\n",
    "    # time-based features\n",
    "    df['dow'] = df.index.weekday\n",
    "    df['weekday'] = (df.index.weekday < 5)*1\n",
    "    df['business_hours'] = (df.index.weekday < 5)&(df.index.hour>=9)&(df.index.hour<=17)*1\n",
    "    df['hour'] = df.index.hour\n",
    "\n",
    "    # season dummies\n",
    "    df['winter'] = (df.index.month<=3)*1\n",
    "    df['spring'] = (df.index.month>3)&(df.index.month<=6)*1\n",
    "    df['summer'] = (df.index.month>6)&(df.index.month<=9)*1\n",
    "    df['fall'] = (df.index.month>9)*1\n",
    "\n",
    "    # main house power percentage change and diff\n",
    "    for interval in [1,3,5,9,15]:\n",
    "        df['mht_pct_'+str(interval)] = df['main_house_total'].pct_change(freq='1Min').fillna(0).replace(np.inf,1000)\n",
    "        df['pos_mht_diff_'+str(interval)] = df['main_house_total'].diff(periods=1).fillna(0)\n",
    "    \n",
    "    # rolling stats\n",
    "    for time_val in [15,30,60,120]:\n",
    "        df['rolling_sum_'+str(time_val)] = df['main_house_total'].rolling(time_val).sum().fillna(0)\n",
    "        df['rolling_mean_'+str(time_val)] = df['main_house_total'].rolling(time_val).mean().fillna(0)\n",
    "        df['rolling_max_'+str(time_val)]  = df['main_house_total'].rolling(time_val).max().fillna(0)\n",
    "        df['rolling_min_'+str(time_val)]  = df['main_house_total'].rolling(time_val).min().fillna(0)\n",
    "        df['rolling_median_'+str(time_val)]  = df['main_house_total'].rolling(time_val).median().fillna(0)\n",
    "\n",
    "    # create list of all\n",
    "    feature_cols = list(df.columns[list(df.columns).index('fall'):])\n",
    "    feature_cols.extend(['main_house_total','dow','hour','summer','spring','Temp (C)','Rel Hum (%)'])\n",
    "    return df, feature_cols\n",
    "\n",
    "df, feature_cols = feature_creation(df)"
   ]
  },
  {
   "cell_type": "code",
   "execution_count": null,
   "metadata": {},
   "outputs": [],
   "source": []
  },
  {
   "cell_type": "code",
   "execution_count": null,
   "metadata": {},
   "outputs": [],
   "source": []
  },
  {
   "cell_type": "markdown",
   "metadata": {},
   "source": [
    "### Category 2 - ON/OFF Rooms\n",
    "Rooms with switches that can be turned ON/OFF (lights, phone chargers, etc.)\n",
    "\n",
    "When room is in use, power change is incremental and relatively small. For example, a bedroom could have a light turned on or a phone plugged in, but any increase or decrease in power would be small as compared to a dishwasher or dryer.\n",
    "\n",
    "When all switches OFF, power may not be 0 due to plug loads (alarm clocks, safety lights, etc.)"
   ]
  },
  {
   "cell_type": "markdown",
   "metadata": {},
   "source": [
    "Hypothesis: If I could accurately classify a simple load like dining room, I could use that model to make the other ones a lot better. This one might work well because it has obvious peaks at night when everyone sits down for dinner"
   ]
  },
  {
   "cell_type": "code",
   "execution_count": null,
   "metadata": {
    "nbpresent": {
     "id": "55f84284-9e9f-453b-9882-c417c215e6ba"
    }
   },
   "outputs": [],
   "source": [
    "# all_of_rooms = ['north_br','south_br','basement','dining_room','workbench',\n",
    "#             'refrigerator','garage','office','outside_plug','rental_suite',\n",
    "#             'entertainment','utility_room']\n",
    "\n",
    "# mh_of_rooms = ['north_br','south_br','basement','dining_room','workbench',\n",
    "#             'refrigerator','office','outside_plug',\n",
    "#             'entertainment','utility_room']\n",
    "\n",
    "# df['all_of_rooms_total'] = df[all_of_rooms].sum(axis=1)\n",
    "# all_of_rooms.append('all_of_rooms_total')\n",
    "\n",
    "# df['mh_of_rooms_total'] = df[mh_of_rooms].sum(axis=1)\n",
    "# mh_of_rooms.append('mh_of_rooms_total')\n",
    "\n",
    "# for lbl in mh_of_rooms:\n",
    "#     df[lbl+'_on'] = df[lbl].apply(lambda x: 1 if x>0 else 0)"
   ]
  },
  {
   "cell_type": "code",
   "execution_count": null,
   "metadata": {},
   "outputs": [],
   "source": [
    "df['south_br_on'] = df['south_br'].apply(lambda x: 1 if x > 10 else 0)"
   ]
  },
  {
   "cell_type": "code",
   "execution_count": null,
   "metadata": {},
   "outputs": [],
   "source": [
    "# plot to see if it makes sense\n",
    "lbl = 'south_br'\n",
    "mask = (df.index.year==2012)&(df.index.week==40) # &(df.index.day==12)\n",
    "df[lbl][mask].plot(linewidth=2,figsize=(20,10));\n",
    "df[lbl+'_on'][mask].plot(secondary_y=True,linewidth=1,figsize=(20,10));"
   ]
  },
  {
   "cell_type": "code",
   "execution_count": null,
   "metadata": {},
   "outputs": [],
   "source": [
    "# define X, y\n",
    "X = df[feature_cols]\n",
    "y = df['south_br_on']\n",
    "\n",
    "# basic train test split for time series\n",
    "train_size = int(len(X) * 0.66)\n",
    "X_train, X_test = X[0:train_size], X[train_size:len(X)]\n",
    "y_train, y_test = y[0:train_size], y[train_size:len(X)]"
   ]
  },
  {
   "cell_type": "code",
   "execution_count": null,
   "metadata": {},
   "outputs": [],
   "source": [
    "# fit Random Forest\n",
    "forest = RandomForestClassifier(n_estimators=30,max_features=10)\n",
    "forest.fit(X_train,y_train)\n",
    "y_pred = forest.predict(X_test)\n",
    "y_pred_proba = forest.predict_proba(X_test)"
   ]
  },
  {
   "cell_type": "code",
   "execution_count": null,
   "metadata": {},
   "outputs": [],
   "source": [
    "pd.DataFrame(list(zip(feature_cols,forest.feature_importances_))).sort_values(by=1,ascending=False);"
   ]
  },
  {
   "cell_type": "code",
   "execution_count": null,
   "metadata": {},
   "outputs": [],
   "source": [
    "# Predict appliances are always OFF\n",
    "y_null = np.zeros(len(y_test))\n",
    "print('Null Accuracy Score:', metrics.accuracy_score(y_test, y_null))\n",
    "\n",
    "# total accuracy\n",
    "print('Total Accuracy Score:', metrics.accuracy_score(y_test, y_pred))\n",
    "print('Log Loss:', metrics.log_loss(y_test,y_pred_proba))\n",
    "\n",
    "# binary accuracy\n",
    "print('Accuracy Score 1s:', metrics.accuracy_score(y_test[y_test==1], y_pred[y_test==1]))\n",
    "print('Accuracy Score 0s:', metrics.accuracy_score(y_test[y_test==0], y_pred[y_test==0]))"
   ]
  },
  {
   "cell_type": "code",
   "execution_count": 150,
   "metadata": {},
   "outputs": [],
   "source": [
    "def categorize_rooms(df,lbl,feature_cols,model_type='random forest',thresh=15):\n",
    "    df[lbl+'_on'] = df[lbl].apply(lambda x: 1 if x > thresh else 0)\n",
    "    \n",
    "    # define X, y\n",
    "    X = df[feature_cols]\n",
    "    y = df[lbl+'_on']\n",
    "\n",
    "    # basic train test split for time series\n",
    "    train_size = int(len(X) * 0.66)\n",
    "    X_train, X_test = X[0:train_size], X[train_size:len(X)]\n",
    "    y_train, y_test = y[0:train_size], y[train_size:len(X)]\n",
    "\n",
    "    if model_type == 'random forest':\n",
    "        model = RandomForestClassifier(n_estimators=30,max_features=10)\n",
    "        model.fit(X_train,y_train)\n",
    "        y_pred = model.predict(X_test)\n",
    "        y_pred_proba = model.predict_proba(X_test)[:,1]\n",
    "    elif model_type == 'logistic regression':\n",
    "        model = LogisticRegression()\n",
    "        model.fit(X_train, y_train)\n",
    "        y_pred = model.predict(X_test)\n",
    "        y_pred_proba = model.predict_proba(X_test)[:,1]\n",
    "    elif model_type == 'decision tree':\n",
    "        model = DecisionTreeClassifier()\n",
    "        model.fit(X_train,y_train)\n",
    "        y_pred = model.predict(X_test)\n",
    "        y_pred_proba = model.predict_proba(X_test)[:,1]   \n",
    "    \n",
    "    # Predict appliances are always OFF\n",
    "    y_null = np.zeros(len(y_test))\n",
    "    print('Null Accuracy Score:', metrics.accuracy_score(y_test, y_null))\n",
    "\n",
    "    # total accuracy\n",
    "    print('Total Accuracy Score:', metrics.accuracy_score(y_test, y_pred))\n",
    "    print('Log Loss:', metrics.log_loss(y_test,y_pred_proba))\n",
    "\n",
    "    # binary accuracy\n",
    "    print('Accuracy Score 1s:', metrics.accuracy_score(y_test[y_test==1], y_pred[y_test==1]))\n",
    "    print('Accuracy Score 0s:', metrics.accuracy_score(y_test[y_test==0], y_pred[y_test==0]))\n",
    "\n",
    "    return model\n",
    "\n",
    "# model = categorize_rooms(df,'south_br',feature_cols)"
   ]
  },
  {
   "cell_type": "code",
   "execution_count": null,
   "metadata": {},
   "outputs": [],
   "source": []
  },
  {
   "cell_type": "code",
   "execution_count": null,
   "metadata": {},
   "outputs": [],
   "source": []
  },
  {
   "cell_type": "markdown",
   "metadata": {
    "nbpresent": {
     "id": "7b46c0c0-c2fb-4a64-8f9e-037ff2e8b26f"
    }
   },
   "source": [
    "### Category 1 - ON/OFF Appliances\n",
    "Appliances that are either OFF and have 0 power draw or ON and have high power draw"
   ]
  },
  {
   "cell_type": "code",
   "execution_count": null,
   "metadata": {
    "nbpresent": {
     "id": "24c01ee1-3639-49b1-8a77-3c91bc47bcdb"
    }
   },
   "outputs": [],
   "source": [
    "of_apps = ['dishwasher', 'oven', 'dryer', 'washer']"
   ]
  },
  {
   "cell_type": "code",
   "execution_count": 151,
   "metadata": {},
   "outputs": [],
   "source": [
    "# classify power_on based only on power > 0\n",
    "for lbl in of_apps:\n",
    "    df[lbl+'_on'] = df[lbl].apply(lambda x: 1 if x > 0 else 0)"
   ]
  },
  {
   "cell_type": "code",
   "execution_count": null,
   "metadata": {},
   "outputs": [],
   "source": [
    "# plot to see if it makes sense\n",
    "lbl = 'washer'\n",
    "mask = (df.index.week==35)&(df.index.year==2013) # &(df.index.day==12)\n",
    "df[lbl][mask].plot(linewidth=1,figsize=(20,10));\n",
    "df[lbl+'_on'][mask].plot(secondary_y=True,linewidth=3,figsize=(20,10));"
   ]
  },
  {
   "cell_type": "markdown",
   "metadata": {},
   "source": [
    "In some cases this methodology shows appliances turning on when they are not actually on (if power meter registers a non zero load for whatever reason). The methodology also shows appliances turning off midway through their usage (e.g., If the dishwasher has a small \"off\" period mid cycle) however, it seems like this basic methodology determines the power ON/OFF accurately most of the time (based on visual inspection).\n",
    "\n",
    "I may need to revisit this if turns out to be whack. It would also be nice if I could quantify the accuracy of this methodology."
   ]
  },
  {
   "cell_type": "code",
   "execution_count": null,
   "metadata": {},
   "outputs": [],
   "source": [
    "df['any_of_app_on'] = np.where(df[of_apps].sum(axis=1) >= 1, 1, 0)"
   ]
  },
  {
   "cell_type": "code",
   "execution_count": null,
   "metadata": {},
   "outputs": [],
   "source": [
    "df[['dishwasher_on', 'oven_on', 'dryer_on', 'washer_on','any_of_app_on']][df['dishwasher_on']==1].head()"
   ]
  },
  {
   "cell_type": "markdown",
   "metadata": {},
   "source": [
    "## Basic Classification Model"
   ]
  },
  {
   "cell_type": "code",
   "execution_count": null,
   "metadata": {},
   "outputs": [],
   "source": [
    "from sklearn.linear_model import LogisticRegression\n",
    "from sklearn.tree import DecisionTreeClassifier\n",
    "from sklearn.ensemble import RandomForestClassifier\n",
    "from sklearn import metrics"
   ]
  },
  {
   "cell_type": "code",
   "execution_count": null,
   "metadata": {},
   "outputs": [],
   "source": [
    "# define X, y\n",
    "X = df[feature_cols]\n",
    "y = df['dishwasher_on']\n",
    "\n",
    "# basic train test split for time series\n",
    "train_size = int(len(X) * 0.66)\n",
    "X_train, X_test = X[0:train_size], X[train_size:len(X)]\n",
    "y_train, y_test = y[0:train_size], y[train_size:len(X)]"
   ]
  },
  {
   "cell_type": "code",
   "execution_count": null,
   "metadata": {
    "scrolled": false
   },
   "outputs": [],
   "source": [
    "# Predict appliances are always OFF\n",
    "y_null = np.zeros(len(y_test))\n",
    "print('Accuracy Score:', metrics.accuracy_score(y_test, y_null))\n",
    "print('Log Loss:', metrics.log_loss(y_test,y_null))"
   ]
  },
  {
   "cell_type": "code",
   "execution_count": null,
   "metadata": {},
   "outputs": [],
   "source": [
    "# fit Random Forest\n",
    "forest = RandomForestClassifier(n_estimators=30,max_features=10)\n",
    "forest.fit(X_train,y_train)\n",
    "y_pred = forest.predict(X_test)\n",
    "y_pred_proba = forest.predict_proba(X_test)"
   ]
  },
  {
   "cell_type": "code",
   "execution_count": null,
   "metadata": {},
   "outputs": [],
   "source": [
    "pd.DataFrame(list(zip(feature_cols,forest.feature_importances_))).sort_values(by=1,ascending=False);"
   ]
  },
  {
   "cell_type": "code",
   "execution_count": null,
   "metadata": {},
   "outputs": [],
   "source": [
    "print('Accuracy Score:', metrics.accuracy_score(y_test, y_pred))\n",
    "print('Log Loss:', metrics.log_loss(y_test,y_pred_proba))"
   ]
  },
  {
   "cell_type": "code",
   "execution_count": null,
   "metadata": {},
   "outputs": [],
   "source": [
    "print('Accuracy Score 1s:', metrics.accuracy_score(y_test[y_test==1], y_pred[y_test==1]))\n",
    "print('Accuracy Score 0s:', metrics.accuracy_score(y_test[y_test==0], y_pred[y_test==0]))"
   ]
  },
  {
   "cell_type": "code",
   "execution_count": null,
   "metadata": {},
   "outputs": [],
   "source": [
    "# # fit a Logistic Regression\n",
    "# logreg = LogisticRegression()\n",
    "# logreg.fit(X_train, y_train)\n",
    "# y_pred = logreg.predict(X_test)\n",
    "# y_pred_proba = logreg.predict_proba(X_test)[:,1]"
   ]
  },
  {
   "cell_type": "code",
   "execution_count": null,
   "metadata": {},
   "outputs": [],
   "source": [
    "# print('Accuracy Score:', metrics.accuracy_score(y_test, y_pred))\n",
    "# print('Log Loss:', metrics.log_loss(y_test,y_pred_proba))"
   ]
  },
  {
   "cell_type": "code",
   "execution_count": null,
   "metadata": {},
   "outputs": [],
   "source": [
    "# # fit Decision Tree\n",
    "# tree = DecisionTreeClassifier()\n",
    "# tree.fit(X_train,y_train)\n",
    "# y_pred = tree.predict(X_test)\n",
    "# y_pred_proba = tree.predict_proba(X_test)"
   ]
  },
  {
   "cell_type": "code",
   "execution_count": null,
   "metadata": {},
   "outputs": [],
   "source": [
    "# print('Accuracy Score:', metrics.accuracy_score(y_test, y_pred))\n",
    "# print('Log Loss:', metrics.log_loss(y_test,y_pred_proba))"
   ]
  },
  {
   "cell_type": "code",
   "execution_count": null,
   "metadata": {},
   "outputs": [],
   "source": [
    "# My computer is too slow to run these tuning plots so I just guessed:\n",
    "# estimator_range = [10,150,300]\n",
    "\n",
    "# accuracy_scores = []\n",
    "# for n in estimator_range:\n",
    "#     forest = RandomForestClassifier(n_estimators=n,random_state=420)\n",
    "#     forest.fit(X_train,y_train)\n",
    "#     accuracy_scores.append(metrics.accuracy_score(y_test,forest.predict(X_test)))"
   ]
  },
  {
   "cell_type": "code",
   "execution_count": null,
   "metadata": {},
   "outputs": [],
   "source": [
    "# plt.plot(estimator_range, accuracy_scores)\n",
    "# plt.xlabel('n_estimators')\n",
    "# plt.ylabel('Accuracy Score')"
   ]
  },
  {
   "cell_type": "code",
   "execution_count": null,
   "metadata": {},
   "outputs": [],
   "source": [
    "# feature_range = range(1,len(feature_cols)+1)\n",
    "# accuracy_scores = []\n",
    "# for n in feature_range:\n",
    "#     forest = RandomForestClassifier(n_estimators=XXX, max_features=n, random_state=420)\n",
    "#     forest.fit(X_train,y_train)\n",
    "#     accuracy_scores.append(metrics.accuracy_score(y_test,forest.predict(X_test)))"
   ]
  },
  {
   "cell_type": "code",
   "execution_count": null,
   "metadata": {},
   "outputs": [],
   "source": []
  },
  {
   "cell_type": "code",
   "execution_count": null,
   "metadata": {},
   "outputs": [],
   "source": []
  },
  {
   "cell_type": "markdown",
   "metadata": {},
   "source": [
    "### Category 3: On-Demand Appliances\n",
    "\n",
    "Appliances that turn on and off automatically based on demand"
   ]
  },
  {
   "cell_type": "code",
   "execution_count": null,
   "metadata": {},
   "outputs": [],
   "source": [
    "od_apps = ['dhw_heater','refrigerator']"
   ]
  },
  {
   "cell_type": "code",
   "execution_count": null,
   "metadata": {},
   "outputs": [],
   "source": [
    "lbl = 'dhw_heater'\n",
    "mask = (df.index.week==33)&(df.index.year==2013)# &(df.index.day==12)\n",
    "df[lbl][mask].plot(linewidth=1,figsize=(20,10));\n",
    "# df[lbl+'_on'][mask].plot(secondary_y=True,linewidth=1,figsize=(20,10));"
   ]
  },
  {
   "cell_type": "code",
   "execution_count": null,
   "metadata": {},
   "outputs": [],
   "source": []
  },
  {
   "cell_type": "markdown",
   "metadata": {},
   "source": [
    "### Category 4: Weather dependent appliances\n",
    "\n",
    "Appliances that run automatically and may draw power based on the outdoor weather"
   ]
  },
  {
   "cell_type": "code",
   "execution_count": null,
   "metadata": {},
   "outputs": [],
   "source": [
    "wd_apps = ['furnace_fan','heat_pump']"
   ]
  },
  {
   "cell_type": "code",
   "execution_count": null,
   "metadata": {},
   "outputs": [],
   "source": [
    "lbl = 'heat_pump'\n",
    "mask = (df.index.month==10)&(df.index.year==2013)# &(df.index.day==12)\n",
    "df[lbl][mask].plot(linewidth=1,figsize=(20,10));\n",
    "df['Temp (C)'][mask].plot(secondary_y=True,linewidth=1,figsize=(20,10))\n",
    "# df[lbl+'_on'][mask].plot(secondary_y=True,linewidth=1,figsize=(20,10));"
   ]
  },
  {
   "cell_type": "code",
   "execution_count": null,
   "metadata": {},
   "outputs": [],
   "source": []
  },
  {
   "cell_type": "code",
   "execution_count": null,
   "metadata": {},
   "outputs": [],
   "source": []
  }
 ],
 "metadata": {
  "kernelspec": {
   "display_name": "Python [conda env:anaconda]",
   "language": "python",
   "name": "conda-env-anaconda-py"
  },
  "language_info": {
   "codemirror_mode": {
    "name": "ipython",
    "version": 3
   },
   "file_extension": ".py",
   "mimetype": "text/x-python",
   "name": "python",
   "nbconvert_exporter": "python",
   "pygments_lexer": "ipython3",
   "version": "3.5.4"
  }
 },
 "nbformat": 4,
 "nbformat_minor": 2
}
