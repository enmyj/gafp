{
 "cells": [
  {
   "cell_type": "markdown",
   "metadata": {
    "nbpresent": {
     "id": "125c2a82-2f0d-45f3-ad7b-45db4f23f3eb"
    }
   },
   "source": [
    "### Import libraries and read in file"
   ]
  },
  {
   "cell_type": "code",
   "execution_count": 2,
   "metadata": {
    "nbpresent": {
     "id": "069a476e-177d-4b9f-adcd-44f3883d8fd7"
    }
   },
   "outputs": [],
   "source": [
    "# import libs\n",
    "import pandas as pd\n",
    "import numpy as np\n",
    "%matplotlib inline\n",
    "import matplotlib.pyplot as plt\n",
    "plt.style.use('fivethirtyeight')\n",
    "\n",
    "# models and stuff\n",
    "from sklearn.linear_model import LogisticRegression\n",
    "from sklearn.tree import DecisionTreeClassifier\n",
    "from sklearn.ensemble import RandomForestClassifier\n",
    "from sklearn import metrics"
   ]
  },
  {
   "cell_type": "code",
   "execution_count": 3,
   "metadata": {
    "nbpresent": {
     "id": "86ec3258-59b4-44ae-aeda-cf43043f965b"
    }
   },
   "outputs": [],
   "source": [
    "# read in file and define some useful column groupings\n",
    "elec_w_weather_path = '/users/ianmyjer/desktop/disagg/electric_data_with_weather.csv'\n",
    "df = pd.read_csv(elec_w_weather_path,delimiter=',',header=0,index_col=0,parse_dates=True)"
   ]
  },
  {
   "cell_type": "code",
   "execution_count": 4,
   "metadata": {
    "nbpresent": {
     "id": "ea0acfbd-84fe-47fc-b843-c28aac15071e"
    }
   },
   "outputs": [],
   "source": [
    "# define useful column groupings\n",
    "power_cols = ['north_br','south_br','basement','dryer','washer',\n",
    "'dining_room','dishwasher','workbench','security_system',\n",
    "'refrigerator','furnace_fan','garage','heat_pump',\n",
    "'dhw_heater','main_house_total','office','outside_plug',\n",
    "'rental_suite','entertainment','utility_room','unmetered',\n",
    "'whole_house_total','oven']\n",
    "weather_cols = ['Temp (C)', 'Dew Point Temp (C)', 'Rel Hum (%)', \n",
    "'Wind Spd (km/h)','Stn Press (kPa)']"
   ]
  },
  {
   "cell_type": "markdown",
   "metadata": {
    "nbpresent": {
     "id": "20121ecf-94a8-4a2d-8418-2e6296dfb3b7"
    }
   },
   "source": [
    "## Features"
   ]
  },
  {
   "cell_type": "code",
   "execution_count": 5,
   "metadata": {
    "nbpresent": {
     "id": "eb353892-f924-466c-b375-5891bb6932dc"
    }
   },
   "outputs": [],
   "source": [
    "def feature_creation(df):\n",
    "    # time-based features\n",
    "    df['dow'] = df.index.weekday\n",
    "    df['weekday'] = (df.index.weekday < 5)*1\n",
    "    df['business_hours'] = (df.index.weekday < 5)&(df.index.hour>=9)&(df.index.hour<=17)*1\n",
    "    df['hour'] = df.index.hour\n",
    "\n",
    "    # season dummies\n",
    "    df['winter'] = (df.index.month<=3)*1\n",
    "    df['spring'] = (df.index.month>3)&(df.index.month<=6)*1\n",
    "    df['summer'] = (df.index.month>6)&(df.index.month<=9)*1\n",
    "    df['fall'] = (df.index.month>9)*1\n",
    "\n",
    "    # main house power percentage change and diff\n",
    "    for interval in [1,3,5,9,15]:\n",
    "        df['mht_pct_'+str(interval)] = df['main_house_total'].pct_change(freq='1Min').fillna(0).replace(np.inf,1000)\n",
    "        df['pos_mht_diff_'+str(interval)] = df['main_house_total'].diff(periods=1).fillna(0)\n",
    "    \n",
    "    # rolling stats\n",
    "    for time_val in [15,30,60,120,240,480]:\n",
    "        df['rolling_sum_'+str(time_val)] = df['main_house_total'].rolling(time_val).sum().fillna(0)\n",
    "        df['rolling_mean_'+str(time_val)] = df['main_house_total'].rolling(time_val).mean().fillna(0)\n",
    "        df['rolling_max_'+str(time_val)]  = df['main_house_total'].rolling(time_val).max().fillna(0)\n",
    "        df['rolling_min_'+str(time_val)]  = df['main_house_total'].rolling(time_val).min().fillna(0)\n",
    "        df['rolling_median_'+str(time_val)]  = df['main_house_total'].rolling(time_val).median().fillna(0)\n",
    "\n",
    "    # create list of all features starting with \"Fall\"\n",
    "    feature_cols = list(df.columns[list(df.columns).index('mht_pct_1'):list(df.columns).index('rolling_median_480')+1])\n",
    "    feature_cols.extend(['main_house_total','dow','hour','fall','summer','spring','Temp (C)','Rel Hum (%)'])\n",
    "    return feature_cols"
   ]
  },
  {
   "cell_type": "code",
   "execution_count": null,
   "metadata": {},
   "outputs": [],
   "source": []
  },
  {
   "cell_type": "markdown",
   "metadata": {},
   "source": [
    "### Category 2 - ON/OFF Rooms\n",
    "Rooms with switches that can be turned ON/OFF (lights, phone chargers, etc.)\n",
    "\n",
    "When room is in use, power change is incremental and relatively small. For example, a bedroom could have a light turned on or a phone plugged in, but any increase or decrease in power would be small as compared to a dishwasher or dryer.\n",
    "\n",
    "When all switches OFF, power may not be 0 due to plug loads (alarm clocks, safety lights, etc.)"
   ]
  },
  {
   "cell_type": "markdown",
   "metadata": {},
   "source": [
    "Hypothesis: If I could accurately classify a simple load like dining room, I could use that model to make the other ones a lot better. This one might work well because it has obvious peaks at night when everyone sits down for dinner"
   ]
  },
  {
   "cell_type": "code",
   "execution_count": null,
   "metadata": {},
   "outputs": [],
   "source": [
    "# # categorize rooms using basic logic\n",
    "# thresh = 15\n",
    "# lbl = 'south_br'\n",
    "# df[lbl+'_on'] = df[lbl].apply(lambda x: 1 if x > thresh else 0)\n",
    "    \n",
    "# # plot to see if it makes sense\n",
    "# mask = (df.index.year==2012)&(df.index.week==40) # &(df.index.day==12)\n",
    "# df[lbl][mask].plot(linewidth=2,figsize=(20,10));\n",
    "# df[lbl+'_on'][mask].plot(secondary_y=True,linewidth=1,figsize=(20,10));"
   ]
  },
  {
   "cell_type": "code",
   "execution_count": 6,
   "metadata": {},
   "outputs": [],
   "source": [
    "def tts(X,y):\n",
    "    train_size = int(len(X) * 0.66)\n",
    "    X_train, X_test = X[0:train_size], X[train_size:len(X)]\n",
    "    y_train, y_test = y[0:train_size], y[train_size:len(X)]\n",
    "    return X_train, X_test, y_train, y_test"
   ]
  },
  {
   "cell_type": "code",
   "execution_count": 7,
   "metadata": {},
   "outputs": [],
   "source": [
    "def model_chooser(model_type,X_train,X_test,y_train):\n",
    "    if model_type == 'random forest':\n",
    "        model = RandomForestClassifier()\n",
    "    elif model_type == 'logistic regression':\n",
    "        model = LogisticRegression()\n",
    "    elif model_type == 'decision tree':\n",
    "        model = DecisionTreeClassifier()\n",
    "\n",
    "    # fit and predict on model\n",
    "    model.fit(X_train,y_train)\n",
    "    y_pred = model.predict(X_test)\n",
    "    y_pred_proba = model.predict_proba(X_test)[:,1]\n",
    "    \n",
    "    return model, y_pred, y_pred_proba"
   ]
  },
  {
   "cell_type": "code",
   "execution_count": 8,
   "metadata": {},
   "outputs": [],
   "source": [
    "def print_accuracies(lbl,y_null,y_test,y_pred,y_pred_proba):\n",
    "    print(lbl)\n",
    "    # Predict appliances are always OFF\n",
    "    y_null = np.zeros(len(y_test))\n",
    "    print('Null Accuracy Score:', metrics.accuracy_score(y_test, y_null))\n",
    "\n",
    "    # total accuracy\n",
    "    print('Total Accuracy Score:', metrics.accuracy_score(y_test, y_pred))\n",
    "    print('Log Loss:', metrics.log_loss(y_test,y_pred_proba))\n",
    "\n",
    "    # binary accuracy\n",
    "    print('Accuracy Score 1s:', metrics.accuracy_score(y_test[y_test==1], y_pred[y_test==1]))\n",
    "    print('Accuracy Score 0s:', metrics.accuracy_score(y_test[y_test==0], y_pred[y_test==0]))"
   ]
  },
  {
   "cell_type": "code",
   "execution_count": 9,
   "metadata": {},
   "outputs": [],
   "source": [
    "def categorize_rooms(df,lbl,feature_cols,model_type='random forest',thresh=15):\n",
    "    df[lbl+'_on'] = df[lbl].apply(lambda x: 1 if x > thresh else 0)\n",
    "    \n",
    "    # define X, y\n",
    "    X = df[feature_cols]\n",
    "    y = df[lbl+'_on']\n",
    "\n",
    "    # train test split time series manually\n",
    "    X_train, X_test, y_train, y_test = tts(X,y)\n",
    "    \n",
    "    # fit/predict model\n",
    "    model, y_pred, y_pred_proba = model_chooser(model_type,X_train,X_test,y_train)\n",
    "    \n",
    "    # print errors\n",
    "    y_null = np.zeros(len(y_test))\n",
    "    print_accuracies(lbl,y_null,y_test,y_pred,y_pred_proba)\n",
    "\n",
    "    return model"
   ]
  },
  {
   "cell_type": "code",
   "execution_count": 10,
   "metadata": {},
   "outputs": [
    {
     "name": "stdout",
     "output_type": "stream",
     "text": [
      "south_br\n",
      "Null Accuracy Score: 0.7115902436839777\n",
      "Total Accuracy Score: 0.7987186018260903\n",
      "Log Loss: 0.5703279601372214\n",
      "Accuracy Score 1s: 0.5060316967361873\n",
      "Accuracy Score 0s: 0.9173455219154535\n"
     ]
    }
   ],
   "source": [
    "feature_cols = feature_creation(df)\n",
    "model = categorize_rooms(df,'south_br',feature_cols)\n",
    "pd.DataFrame(list(zip(feature_cols,model.feature_importances_))).sort_values(by=1,ascending=False);"
   ]
  },
  {
   "cell_type": "markdown",
   "metadata": {
    "nbpresent": {
     "id": "7b46c0c0-c2fb-4a64-8f9e-037ff2e8b26f"
    }
   },
   "source": [
    "## Category 1 - ON/OFF Appliances\n",
    "Appliances that are either OFF and have 0 power draw or ON and have high power draw"
   ]
  },
  {
   "cell_type": "code",
   "execution_count": 11,
   "metadata": {
    "nbpresent": {
     "id": "24c01ee1-3639-49b1-8a77-3c91bc47bcdb"
    }
   },
   "outputs": [],
   "source": [
    "# classify power_on based only on power > 0\n",
    "on_off_apps = ['dishwasher', 'oven', 'dryer', 'washer']\n",
    "for lbl in on_off_apps:\n",
    "    df[lbl+'_on'] = df[lbl].apply(lambda x: 1 if x > 0 else 0)\n",
    "    \n",
    "df['any_on_off_app_on'] = np.where(df[on_off_apps].sum(axis=1) >= 1, 1, 0)"
   ]
  },
  {
   "cell_type": "code",
   "execution_count": 12,
   "metadata": {},
   "outputs": [
    {
     "data": {
      "image/png": "[encoded data removed]",
      "text/plain": [
       "<matplotlib.figure.Figure at 0x111666b38>"
      ]
     },
     "metadata": {},
     "output_type": "display_data"
    }
   ],
   "source": [
    "# plot to see if it makes sense\n",
    "lbl = 'washer'\n",
    "mask = (df.index.week==35)&(df.index.year==2013) # &(df.index.day==12)\n",
    "df[lbl][mask].plot(linewidth=1,figsize=(20,10));\n",
    "df[lbl+'_on'][mask].plot(secondary_y=True,linewidth=3,figsize=(20,10));"
   ]
  },
  {
   "cell_type": "markdown",
   "metadata": {},
   "source": [
    "In some cases this methodology shows appliances turning on when they are not actually on (if power meter registers a non zero load for whatever reason). The methodology also shows appliances turning off midway through their usage (e.g., If the dishwasher has a small \"off\" period mid cycle) however, it seems like this basic methodology determines the power ON/OFF accurately most of the time (based on visual inspection).\n",
    "\n",
    "I may need to revisit this if turns out to be whack. It would also be nice if I could quantify the accuracy of this methodology."
   ]
  },
  {
   "cell_type": "markdown",
   "metadata": {},
   "source": [
    "### Basic Classification Model"
   ]
  },
  {
   "cell_type": "code",
   "execution_count": 13,
   "metadata": {},
   "outputs": [],
   "source": [
    "def categorize_appliance(dataframe,y_label,x_label,feature_cols,model_type='logistic regression'):    \n",
    "    m1 = categorize_rooms(dataframe,x_label,feature_cols,model_type=model_type)\n",
    "    dataframe[x_label+'_on'] = m1.predict(dataframe[feature_cols])\n",
    "    \n",
    "    feature_cols.append(x_label+'_on')\n",
    "    \n",
    "    # define X, y\n",
    "    X = dataframe[feature_cols]\n",
    "    y = dataframe[y_label+'_on']\n",
    "\n",
    "    # train test split time series manually\n",
    "    X_train, X_test, y_train, y_test = tts(X,y)\n",
    "    \n",
    "    # fit/predict model\n",
    "    model, y_pred, y_pred_proba = model_chooser(model_type,X_train,X_test,y_train)\n",
    "    \n",
    "    # print errors\n",
    "    y_null = np.zeros(len(y_test))\n",
    "    print_accuracies(y_label,y_null,y_test,y_pred,y_pred_proba)\n",
    "\n",
    "    return model"
   ]
  },
  {
   "cell_type": "code",
   "execution_count": 14,
   "metadata": {},
   "outputs": [],
   "source": [
    "X_train, X_test, y_train, y_test, model = [],[],[],[],[]"
   ]
  },
  {
   "cell_type": "code",
   "execution_count": null,
   "metadata": {},
   "outputs": [
    {
     "name": "stdout",
     "output_type": "stream",
     "text": [
      "dining_room\n",
      "Null Accuracy Score: 0.9996697138826532\n",
      "Total Accuracy Score: 0.9996697138826532\n",
      "Log Loss: 0.018999426443245454\n",
      "Accuracy Score 1s: 0.0\n",
      "Accuracy Score 0s: 1.0\n"
     ]
    }
   ],
   "source": [
    "feature_cols = feature_creation(df)\n",
    "model = categorize_appliance(df,'any_on_off_app','dining_room',feature_cols,model_type='random forest')"
   ]
  },
  {
   "cell_type": "code",
   "execution_count": null,
   "metadata": {},
   "outputs": [],
   "source": [
    "pd.DataFrame(list(zip(feature_cols,model.feature_importances_))).sort_values(by=1,ascending=False)"
   ]
  },
  {
   "cell_type": "code",
   "execution_count": null,
   "metadata": {},
   "outputs": [],
   "source": []
  },
  {
   "cell_type": "code",
   "execution_count": null,
   "metadata": {},
   "outputs": [],
   "source": [
    "# My computer is too slow to run these tuning plots so I just guessed:\n",
    "# estimator_range = [10,150,300]\n",
    "\n",
    "# accuracy_scores = []\n",
    "# for n in estimator_range:\n",
    "#     forest = RandomForestClassifier(n_estimators=n,random_state=420)\n",
    "#     forest.fit(X_train,y_train)\n",
    "#     accuracy_scores.append(metrics.accuracy_score(y_test,forest.predict(X_test)))"
   ]
  },
  {
   "cell_type": "code",
   "execution_count": null,
   "metadata": {},
   "outputs": [],
   "source": [
    "# plt.plot(estimator_range, accuracy_scores)\n",
    "# plt.xlabel('n_estimators')\n",
    "# plt.ylabel('Accuracy Score')"
   ]
  },
  {
   "cell_type": "code",
   "execution_count": null,
   "metadata": {},
   "outputs": [],
   "source": [
    "# feature_range = range(1,len(feature_cols)+1)\n",
    "# accuracy_scores = []\n",
    "# for n in feature_range:\n",
    "#     forest = RandomForestClassifier(n_estimators=XXX, max_features=n, random_state=420)\n",
    "#     forest.fit(X_train,y_train)\n",
    "#     accuracy_scores.append(metrics.accuracy_score(y_test,forest.predict(X_test)))"
   ]
  },
  {
   "cell_type": "code",
   "execution_count": null,
   "metadata": {},
   "outputs": [],
   "source": []
  },
  {
   "cell_type": "code",
   "execution_count": null,
   "metadata": {},
   "outputs": [],
   "source": []
  },
  {
   "cell_type": "markdown",
   "metadata": {},
   "source": [
    "### Category 3: On-Demand Appliances\n",
    "\n",
    "Appliances that turn on and off automatically based on demand"
   ]
  },
  {
   "cell_type": "code",
   "execution_count": null,
   "metadata": {},
   "outputs": [],
   "source": [
    "od_apps = ['dhw_heater','refrigerator']"
   ]
  },
  {
   "cell_type": "code",
   "execution_count": null,
   "metadata": {},
   "outputs": [],
   "source": [
    "lbl = 'dhw_heater'\n",
    "mask = (df.index.week==33)&(df.index.year==2013)# &(df.index.day==12)\n",
    "df[lbl][mask].plot(linewidth=1,figsize=(20,10));\n",
    "# df[lbl+'_on'][mask].plot(secondary_y=True,linewidth=1,figsize=(20,10));"
   ]
  },
  {
   "cell_type": "code",
   "execution_count": null,
   "metadata": {},
   "outputs": [],
   "source": []
  },
  {
   "cell_type": "markdown",
   "metadata": {},
   "source": [
    "### Category 4: Weather dependent appliances\n",
    "\n",
    "Appliances that run automatically and may draw power based on the outdoor weather"
   ]
  },
  {
   "cell_type": "code",
   "execution_count": null,
   "metadata": {},
   "outputs": [],
   "source": [
    "wd_apps = ['furnace_fan','heat_pump']"
   ]
  },
  {
   "cell_type": "code",
   "execution_count": null,
   "metadata": {},
   "outputs": [],
   "source": [
    "lbl = 'heat_pump'\n",
    "mask = (df.index.month==10)&(df.index.year==2013)# &(df.index.day==12)\n",
    "df[lbl][mask].plot(linewidth=1,figsize=(20,10));\n",
    "df['Temp (C)'][mask].plot(secondary_y=True,linewidth=1,figsize=(20,10))\n",
    "# df[lbl+'_on'][mask].plot(secondary_y=True,linewidth=1,figsize=(20,10));"
   ]
  },
  {
   "cell_type": "code",
   "execution_count": null,
   "metadata": {},
   "outputs": [],
   "source": []
  },
  {
   "cell_type": "code",
   "execution_count": null,
   "metadata": {},
   "outputs": [],
   "source": []
  }
 ],
 "metadata": {
  "kernelspec": {
   "display_name": "Python [conda env:anaconda]",
   "language": "python",
   "name": "conda-env-anaconda-py"
  },
  "language_info": {
   "codemirror_mode": {
    "name": "ipython",
    "version": 3
   },
   "file_extension": ".py",
   "mimetype": "text/x-python",
   "name": "python",
   "nbconvert_exporter": "python",
   "pygments_lexer": "ipython3",
   "version": "3.5.4"
  }
 },
 "nbformat": 4,
 "nbformat_minor": 2
}
