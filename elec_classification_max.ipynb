{
 "cells": [
  {
   "cell_type": "markdown",
   "metadata": {
    "nbpresent": {
     "id": "125c2a82-2f0d-45f3-ad7b-45db4f23f3eb"
    }
   },
   "source": [
    "### Import libraries and read in file"
   ]
  },
  {
   "cell_type": "code",
   "execution_count": 152,
   "metadata": {
    "nbpresent": {
     "id": "069a476e-177d-4b9f-adcd-44f3883d8fd7"
    }
   },
   "outputs": [],
   "source": [
    "# import libs\n",
    "import pandas as pd\n",
    "import numpy as np\n",
    "%matplotlib inline\n",
    "import matplotlib.pyplot as plt\n",
    "plt.style.use('fivethirtyeight')\n",
    "\n",
    "# models and stuff\n",
    "from sklearn.linear_model import LogisticRegression\n",
    "from sklearn.tree import DecisionTreeClassifier\n",
    "from sklearn.ensemble import RandomForestClassifier\n",
    "from sklearn.ensemble import ExtraTreesClassifier\n",
    "from sklearn.ensemble import AdaBoostClassifier\n",
    "from sklearn.ensemble import GradientBoostingClassifier\n",
    "from sklearn import metrics"
   ]
  },
  {
   "cell_type": "code",
   "execution_count": 153,
   "metadata": {
    "nbpresent": {
     "id": "86ec3258-59b4-44ae-aeda-cf43043f965b"
    }
   },
   "outputs": [],
   "source": [
    "# read in file and define some useful column groupings\n",
    "elec_w_weather_path = '/users/ianmyjer/desktop/disagg/electric_data_with_weather.csv'\n",
    "df = pd.read_csv(elec_w_weather_path,delimiter=',',header=0,index_col=0,parse_dates=True)"
   ]
  },
  {
   "cell_type": "code",
   "execution_count": 154,
   "metadata": {
    "nbpresent": {
     "id": "ea0acfbd-84fe-47fc-b843-c28aac15071e"
    }
   },
   "outputs": [],
   "source": [
    "# define useful column groupings\n",
    "power_cols = ['north_br','south_br','basement','dryer','washer',\n",
    "'dining_room','dishwasher','workbench','security_system',\n",
    "'refrigerator','furnace_fan','garage','heat_pump',\n",
    "'dhw_heater','office','outside_plug','entertainment','utility_room','unmetered','oven']\n",
    "weather_cols = ['Temp (C)', 'Dew Point Temp (C)', 'Rel Hum (%)', \n",
    "'Wind Spd (km/h)','Stn Press (kPa)']"
   ]
  },
  {
   "cell_type": "markdown",
   "metadata": {
    "nbpresent": {
     "id": "20121ecf-94a8-4a2d-8418-2e6296dfb3b7"
    }
   },
   "source": [
    "## Features"
   ]
  },
  {
   "cell_type": "code",
   "execution_count": 155,
   "metadata": {
    "nbpresent": {
     "id": "eb353892-f924-466c-b375-5891bb6932dc"
    }
   },
   "outputs": [],
   "source": [
    "def feature_creation(df):\n",
    "    # starting features\n",
    "    feature_cols = ['main_house_total','Temp (C)','Rel Hum (%)']\n",
    "    \n",
    "    # time-based features\n",
    "    # only hour ever seemed to matter\n",
    "#     df['dow'] = df.index.weekday\n",
    "#     feature_cols.append('dow')\n",
    "#     df['weekday'] = (df.index.weekday < 5)*1\n",
    "#     df['business_hours'] = (df.index.weekday < 5)&(df.index.hour>=9)&(df.index.hour<=17)*1\n",
    "    df['hour'] = df.index.hour\n",
    "    feature_cols.append('hour')\n",
    "\n",
    "\n",
    "    # season dummies\n",
    "    # pretty much never important\n",
    "#     df['winter'] = (df.index.month<=3)*1\n",
    "#     df['spring'] = (df.index.month>3)&(df.index.month<=6)*1\n",
    "#     df['summer'] = (df.index.month>6)&(df.index.month<=9)*1\n",
    "#     df['fall'] = (df.index.month>9)*1\n",
    "\n",
    "#     main house power percentage change and diff\n",
    "#     pretty much never important\n",
    "#     for interval in [1,3,5,9,15]:\n",
    "#         df['mht_pct_'+str(interval)] = df['main_house_total'].pct_change(freq='1Min').fillna(0).replace(np.inf,1000)\n",
    "#         df['mht_diff_'+str(interval)] = df['main_house_total'].diff(periods=1).fillna(0)\n",
    "#         feature_cols.append('mht_pct_'+str(interval))\n",
    "#         feature_cols.append('mht_diff_'+str(interval))\n",
    "    \n",
    "    # rolling stats\n",
    "    # smaller values seems to do better, which makes sense\n",
    "    for time_val in [5,10,15,30,60]:\n",
    "        df['rolling_sum_'+str(time_val)] = df['main_house_total'].rolling(time_val).sum().fillna(0)\n",
    "        df['rolling_mean_'+str(time_val)] = df['main_house_total'].rolling(time_val).mean().fillna(0)\n",
    "        df['rolling_max_'+str(time_val)]  = df['main_house_total'].rolling(time_val).max().fillna(0)\n",
    "        df['rolling_min_'+str(time_val)]  = df['main_house_total'].rolling(time_val).min().fillna(0)\n",
    "        df['rolling_median_'+str(time_val)]  = df['main_house_total'].rolling(time_val).median().fillna(0)\n",
    "        feature_cols.append('rolling_sum_'+str(time_val))\n",
    "        feature_cols.append('rolling_mean_'+str(time_val))\n",
    "        feature_cols.append('rolling_max_'+str(time_val))\n",
    "        feature_cols.append('rolling_min_'+str(time_val))\n",
    "        feature_cols.append('rolling_median_'+str(time_val))\n",
    "\n",
    "    return feature_cols"
   ]
  },
  {
   "cell_type": "code",
   "execution_count": null,
   "metadata": {},
   "outputs": [],
   "source": []
  },
  {
   "cell_type": "markdown",
   "metadata": {},
   "source": [
    "## Modelling Functions"
   ]
  },
  {
   "cell_type": "code",
   "execution_count": 156,
   "metadata": {},
   "outputs": [],
   "source": [
    "def tts(X,y,percent=0.66):\n",
    "    train_size = int(len(X) * percent)\n",
    "    X_train, X_test = X[0:train_size], X[train_size:len(X)]\n",
    "    y_train, y_test = y[0:train_size], y[train_size:len(X)]\n",
    "    return X_train, X_test, y_train, y_test"
   ]
  },
  {
   "cell_type": "code",
   "execution_count": 157,
   "metadata": {},
   "outputs": [],
   "source": [
    "def tts_small(X,y,first_split=0.33,second_split=0.66):\n",
    "    train_size = int(len(X) * first_split)\n",
    "    test_size = int(len(X) * second_split)\n",
    "    X_train, X_test = X[0:train_size], X[train_size:test_size]\n",
    "    y_train, y_test = y[0:train_size], y[train_size:test_size]\n",
    "    return X_train, X_test, y_train, y_test"
   ]
  },
  {
   "cell_type": "code",
   "execution_count": 158,
   "metadata": {},
   "outputs": [],
   "source": [
    "def model_chooser(model_type,X_train,X_test,y_train,n_estimators=10,max_features='auto'):\n",
    "    if model_type == 'random_forest':\n",
    "        model = RandomForestClassifier(random_state=42,n_estimators=n_estimators,max_features=max_features)\n",
    "    elif model_type == 'logistic_regression':\n",
    "        model = LogisticRegression()\n",
    "    elif model_type == 'decision_tree':\n",
    "        model = DecisionTreeClassifier(random_state=42,n_estimators=n_estimators,max_features=max_features)\n",
    "    elif model_type == 'extra_trees':\n",
    "        model = ExtraTreesClassifier(random_state=42,n_estimators=n_estimators,max_features=max_features)\n",
    "    elif model_type == 'ada_boost':\n",
    "        model = AdaBoostClassifier(random_state=42,n_estimators=n_estimators)\n",
    "    elif model_type == 'gradient_boost':\n",
    "        model = GradientBoostingClassifier(random_state=42,n_estimators=n_estimators,max_features=max_features)\n",
    "    else:\n",
    "        model = None\n",
    "\n",
    "    # fit and predict on model\n",
    "    model.fit(X_train,y_train)\n",
    "    y_pred = model.predict(X_test)\n",
    "    y_pred_proba = model.predict_proba(X_test)[:,1]\n",
    "    \n",
    "    return model, y_pred, y_pred_proba"
   ]
  },
  {
   "cell_type": "code",
   "execution_count": 159,
   "metadata": {},
   "outputs": [],
   "source": [
    "def print_accuracies(lbl,y_test,y_pred,y_pred_proba):\n",
    "    print(lbl)\n",
    "    # Predict appliances are always OFF\n",
    "    y_null = np.zeros(len(y_test))\n",
    "    print('Null Accuracy Score: {:0.4f}'.format(metrics.accuracy_score(y_test, y_null)))\n",
    "\n",
    "    # total accuracy\n",
    "    print('Total Accuracy Score: {:0.4f}'.format(metrics.accuracy_score(y_test, y_pred)))\n",
    "    print('Log Loss: {:0.4f}'.format(metrics.log_loss(y_test,y_pred_proba)))\n",
    "\n",
    "    # binary accuracy\n",
    "    print('Accuracy Score 1s: {:0.4f}'.format(metrics.accuracy_score(y_test[y_test==1], y_pred[y_test==1])))\n",
    "    print('Accuracy Score 0s: {:0.4f}'.format(metrics.accuracy_score(y_test[y_test==0], y_pred[y_test==0])))\n",
    "    \n",
    "    # confusion matrix\n",
    "    print(metrics.confusion_matrix(y_test,y_pred))"
   ]
  },
  {
   "cell_type": "code",
   "execution_count": 160,
   "metadata": {},
   "outputs": [],
   "source": [
    "def save_accuracies(lbl,model_type,y_test,y_pred,y_pred_proba):\n",
    "    dct = {}\n",
    "    y_null = np.zeros(len(y_test))\n",
    "    dct[model_type+'_null_accuracy'] = metrics.accuracy_score(y_test, y_null)\n",
    "    dct[model_type+'_total_accuracy'] = metrics.accuracy_score(y_test, y_pred)\n",
    "    dct[model_type+'_log_loss'] = metrics.log_loss(y_test,y_pred_proba)\n",
    "    dct[model_type+'_accuracy_1'] = metrics.accuracy_score(y_test[y_test==1], y_pred[y_test==1])\n",
    "    dct[model_type+'_accuracy_0'] = metrics.accuracy_score(y_test[y_test==0], y_pred[y_test==0])\n",
    "    return dct                                  "
   ]
  },
  {
   "cell_type": "code",
   "execution_count": null,
   "metadata": {},
   "outputs": [],
   "source": []
  },
  {
   "cell_type": "markdown",
   "metadata": {},
   "source": [
    "## Find and map max appliance"
   ]
  },
  {
   "cell_type": "code",
   "execution_count": 161,
   "metadata": {},
   "outputs": [],
   "source": [
    "df['max_power'] = df[power_cols].max(axis=1)"
   ]
  },
  {
   "cell_type": "code",
   "execution_count": 162,
   "metadata": {},
   "outputs": [],
   "source": [
    "df['col_max_row'] = df[power_cols].idxmax(axis=1)"
   ]
  },
  {
   "cell_type": "code",
   "execution_count": 163,
   "metadata": {},
   "outputs": [],
   "source": [
    "df['col_max_row_remapped'] = df['col_max_row'].map(dict(zip(power_cols,range(len(power_cols)+1))))"
   ]
  },
  {
   "cell_type": "code",
   "execution_count": 164,
   "metadata": {},
   "outputs": [
    {
     "data": {
      "text/plain": [
       "{'basement': 2,\n",
       " 'dhw_heater': 13,\n",
       " 'dining_room': 5,\n",
       " 'dishwasher': 6,\n",
       " 'dryer': 3,\n",
       " 'entertainment': 16,\n",
       " 'furnace_fan': 10,\n",
       " 'garage': 11,\n",
       " 'heat_pump': 12,\n",
       " 'north_br': 0,\n",
       " 'office': 14,\n",
       " 'outside_plug': 15,\n",
       " 'oven': 19,\n",
       " 'refrigerator': 9,\n",
       " 'security_system': 8,\n",
       " 'south_br': 1,\n",
       " 'unmetered': 18,\n",
       " 'utility_room': 17,\n",
       " 'washer': 4,\n",
       " 'workbench': 7}"
      ]
     },
     "execution_count": 164,
     "metadata": {},
     "output_type": "execute_result"
    }
   ],
   "source": [
    "dict(zip(power_cols,range(len(power_cols)+1)))"
   ]
  },
  {
   "cell_type": "markdown",
   "metadata": {},
   "source": [
    "## Attempt to classify max appliance"
   ]
  },
  {
   "cell_type": "code",
   "execution_count": 165,
   "metadata": {},
   "outputs": [],
   "source": [
    "feature_cols = feature_creation(df)\n",
    "lbl = 'col_max_row_remapped'\n",
    "model_type = 'random_forest'\n",
    "\n",
    "X = df[feature_cols]\n",
    "y = df[lbl]\n",
    "\n",
    "X_train, X_test, y_train, y_test = tts(X,y)\n",
    "\n",
    "model, y_pred, y_pred_proba = model_chooser(model_type,X_train,X_test,y_train,n_estimators=100,max_features='auto')"
   ]
  },
  {
   "cell_type": "code",
   "execution_count": 95,
   "metadata": {},
   "outputs": [],
   "source": [
    "y_pred = model.predict(X_test)\n",
    "y_pred_proba = model.predict_proba(X_test)"
   ]
  },
  {
   "cell_type": "code",
   "execution_count": 173,
   "metadata": {},
   "outputs": [
    {
     "data": {
      "text/html": [
       "<div>\n",
       "<style scoped>\n",
       "    .dataframe tbody tr th:only-of-type {\n",
       "        vertical-align: middle;\n",
       "    }\n",
       "\n",
       "    .dataframe tbody tr th {\n",
       "        vertical-align: top;\n",
       "    }\n",
       "\n",
       "    .dataframe thead th {\n",
       "        text-align: right;\n",
       "    }\n",
       "</style>\n",
       "<table border=\"1\" class=\"dataframe\">\n",
       "  <thead>\n",
       "    <tr style=\"text-align: right;\">\n",
       "      <th></th>\n",
       "      <th>0</th>\n",
       "      <th>1</th>\n",
       "    </tr>\n",
       "  </thead>\n",
       "  <tbody>\n",
       "    <tr>\n",
       "      <th>0</th>\n",
       "      <td>main_house_total</td>\n",
       "      <td>0.166982</td>\n",
       "    </tr>\n",
       "    <tr>\n",
       "      <th>7</th>\n",
       "      <td>rolling_min_5</td>\n",
       "      <td>0.089118</td>\n",
       "    </tr>\n",
       "    <tr>\n",
       "      <th>6</th>\n",
       "      <td>rolling_max_5</td>\n",
       "      <td>0.074782</td>\n",
       "    </tr>\n",
       "    <tr>\n",
       "      <th>5</th>\n",
       "      <td>rolling_mean_5</td>\n",
       "      <td>0.058616</td>\n",
       "    </tr>\n",
       "    <tr>\n",
       "      <th>8</th>\n",
       "      <td>rolling_median_5</td>\n",
       "      <td>0.058543</td>\n",
       "    </tr>\n",
       "    <tr>\n",
       "      <th>4</th>\n",
       "      <td>rolling_sum_5</td>\n",
       "      <td>0.049920</td>\n",
       "    </tr>\n",
       "    <tr>\n",
       "      <th>12</th>\n",
       "      <td>rolling_min_10</td>\n",
       "      <td>0.037690</td>\n",
       "    </tr>\n",
       "    <tr>\n",
       "      <th>27</th>\n",
       "      <td>rolling_min_60</td>\n",
       "      <td>0.033354</td>\n",
       "    </tr>\n",
       "    <tr>\n",
       "      <th>17</th>\n",
       "      <td>rolling_min_15</td>\n",
       "      <td>0.031572</td>\n",
       "    </tr>\n",
       "    <tr>\n",
       "      <th>22</th>\n",
       "      <td>rolling_min_30</td>\n",
       "      <td>0.030181</td>\n",
       "    </tr>\n",
       "    <tr>\n",
       "      <th>11</th>\n",
       "      <td>rolling_max_10</td>\n",
       "      <td>0.028842</td>\n",
       "    </tr>\n",
       "    <tr>\n",
       "      <th>3</th>\n",
       "      <td>hour</td>\n",
       "      <td>0.026273</td>\n",
       "    </tr>\n",
       "    <tr>\n",
       "      <th>13</th>\n",
       "      <td>rolling_median_10</td>\n",
       "      <td>0.025801</td>\n",
       "    </tr>\n",
       "    <tr>\n",
       "      <th>1</th>\n",
       "      <td>Temp (C)</td>\n",
       "      <td>0.025404</td>\n",
       "    </tr>\n",
       "    <tr>\n",
       "      <th>9</th>\n",
       "      <td>rolling_sum_10</td>\n",
       "      <td>0.022899</td>\n",
       "    </tr>\n",
       "    <tr>\n",
       "      <th>18</th>\n",
       "      <td>rolling_median_15</td>\n",
       "      <td>0.021885</td>\n",
       "    </tr>\n",
       "    <tr>\n",
       "      <th>10</th>\n",
       "      <td>rolling_mean_10</td>\n",
       "      <td>0.021306</td>\n",
       "    </tr>\n",
       "    <tr>\n",
       "      <th>16</th>\n",
       "      <td>rolling_max_15</td>\n",
       "      <td>0.020733</td>\n",
       "    </tr>\n",
       "    <tr>\n",
       "      <th>21</th>\n",
       "      <td>rolling_max_30</td>\n",
       "      <td>0.020091</td>\n",
       "    </tr>\n",
       "    <tr>\n",
       "      <th>26</th>\n",
       "      <td>rolling_max_60</td>\n",
       "      <td>0.018847</td>\n",
       "    </tr>\n",
       "    <tr>\n",
       "      <th>2</th>\n",
       "      <td>Rel Hum (%)</td>\n",
       "      <td>0.017011</td>\n",
       "    </tr>\n",
       "    <tr>\n",
       "      <th>28</th>\n",
       "      <td>rolling_median_60</td>\n",
       "      <td>0.016648</td>\n",
       "    </tr>\n",
       "    <tr>\n",
       "      <th>23</th>\n",
       "      <td>rolling_median_30</td>\n",
       "      <td>0.016032</td>\n",
       "    </tr>\n",
       "    <tr>\n",
       "      <th>20</th>\n",
       "      <td>rolling_mean_30</td>\n",
       "      <td>0.015359</td>\n",
       "    </tr>\n",
       "    <tr>\n",
       "      <th>19</th>\n",
       "      <td>rolling_sum_30</td>\n",
       "      <td>0.015159</td>\n",
       "    </tr>\n",
       "    <tr>\n",
       "      <th>25</th>\n",
       "      <td>rolling_mean_60</td>\n",
       "      <td>0.014781</td>\n",
       "    </tr>\n",
       "    <tr>\n",
       "      <th>24</th>\n",
       "      <td>rolling_sum_60</td>\n",
       "      <td>0.014749</td>\n",
       "    </tr>\n",
       "    <tr>\n",
       "      <th>15</th>\n",
       "      <td>rolling_mean_15</td>\n",
       "      <td>0.014504</td>\n",
       "    </tr>\n",
       "    <tr>\n",
       "      <th>14</th>\n",
       "      <td>rolling_sum_15</td>\n",
       "      <td>0.012919</td>\n",
       "    </tr>\n",
       "  </tbody>\n",
       "</table>\n",
       "</div>"
      ],
      "text/plain": [
       "                    0         1\n",
       "0    main_house_total  0.166982\n",
       "7       rolling_min_5  0.089118\n",
       "6       rolling_max_5  0.074782\n",
       "5      rolling_mean_5  0.058616\n",
       "8    rolling_median_5  0.058543\n",
       "4       rolling_sum_5  0.049920\n",
       "12     rolling_min_10  0.037690\n",
       "27     rolling_min_60  0.033354\n",
       "17     rolling_min_15  0.031572\n",
       "22     rolling_min_30  0.030181\n",
       "11     rolling_max_10  0.028842\n",
       "3                hour  0.026273\n",
       "13  rolling_median_10  0.025801\n",
       "1            Temp (C)  0.025404\n",
       "9      rolling_sum_10  0.022899\n",
       "18  rolling_median_15  0.021885\n",
       "10    rolling_mean_10  0.021306\n",
       "16     rolling_max_15  0.020733\n",
       "21     rolling_max_30  0.020091\n",
       "26     rolling_max_60  0.018847\n",
       "2         Rel Hum (%)  0.017011\n",
       "28  rolling_median_60  0.016648\n",
       "23  rolling_median_30  0.016032\n",
       "20    rolling_mean_30  0.015359\n",
       "19     rolling_sum_30  0.015159\n",
       "25    rolling_mean_60  0.014781\n",
       "24     rolling_sum_60  0.014749\n",
       "15    rolling_mean_15  0.014504\n",
       "14     rolling_sum_15  0.012919"
      ]
     },
     "execution_count": 173,
     "metadata": {},
     "output_type": "execute_result"
    }
   ],
   "source": [
    "pd.DataFrame(list(zip(feature_cols,model.feature_importances_))).sort_values(by=1,ascending=False)"
   ]
  },
  {
   "cell_type": "code",
   "execution_count": 172,
   "metadata": {},
   "outputs": [
    {
     "name": "stdout",
     "output_type": "stream",
     "text": [
      "Total Accuracy Score: 0.7961\n",
      "             precision    recall  f1-score   support\n",
      "\n",
      "          0       0.00      0.00      0.00        12\n",
      "          1       0.83      0.03      0.06      7156\n",
      "          2       0.67      0.46      0.55     19684\n",
      "          3       0.94      0.96      0.95      5109\n",
      "          4       0.70      0.03      0.05      2507\n",
      "          6       0.88      0.53      0.66      5788\n",
      "          7       0.00      0.00      0.00         7\n",
      "          8       0.00      0.00      0.00         1\n",
      "          9       0.67      0.71      0.69     45071\n",
      "         10       0.93      0.85      0.89    107894\n",
      "         11       0.00      0.00      0.00        27\n",
      "         12       0.92      0.97      0.94     23564\n",
      "         14       0.00      0.00      0.00       197\n",
      "         16       0.00      0.00      0.00      3252\n",
      "         18       0.73      0.88      0.80    135801\n",
      "         19       0.84      0.48      0.61      1196\n",
      "\n",
      "avg / total       0.80      0.80      0.78    357266\n",
      "\n"
     ]
    },
    {
     "name": "stderr",
     "output_type": "stream",
     "text": [
      "/Users/ianmyjer/anaconda/lib/python3.5/site-packages/sklearn/metrics/classification.py:1135: UndefinedMetricWarning: Precision and F-score are ill-defined and being set to 0.0 in labels with no predicted samples.\n",
      "  'precision', 'predicted', average, warn_for)\n"
     ]
    },
    {
     "data": {
      "text/plain": [
       "array([[     0,      0,      0,      1,      0,      0,      0,      0,\n",
       "             0,      0,      0,      0,      0,      0,     11,      0],\n",
       "       [     0,    226,      0,      1,      0,      0,      0,      0,\n",
       "          1064,   2099,      0,      0,      0,      0,   3766,      0],\n",
       "       [     0,      0,   9076,     26,      2,     57,      0,      0,\n",
       "            17,      0,      0,      1,      0,      0,  10505,      0],\n",
       "       [     0,      0,     17,   4906,      0,      0,      0,      0,\n",
       "             0,      0,      0,      0,      0,      0,    185,      1],\n",
       "       [     0,      0,     73,     10,     71,     44,      0,      0,\n",
       "           117,     52,      0,      0,      0,      0,   2140,      0],\n",
       "       [     0,      0,    201,      0,      6,   3067,      0,      0,\n",
       "            59,      0,      0,     36,      0,      0,   2419,      0],\n",
       "       [     0,      0,      1,      0,      0,      0,      0,      0,\n",
       "             0,      0,      0,      0,      0,      0,      6,      0],\n",
       "       [     0,      0,      0,      0,      0,      0,      0,      0,\n",
       "             0,      1,      0,      0,      0,      0,      0,      0],\n",
       "       [     0,     19,    110,      7,      1,     23,      0,      0,\n",
       "         32099,    921,      0,     13,      0,      1,  11877,      0],\n",
       "       [     0,     26,      3,      1,      6,      0,      0,      0,\n",
       "          6652,  92215,      0,      0,      1,      0,   8985,      5],\n",
       "       [     0,      0,      2,      0,      0,      0,      0,      0,\n",
       "             3,     11,      0,      0,      0,      0,     11,      0],\n",
       "       [     0,      0,      1,     10,      0,      8,      0,      0,\n",
       "             1,      1,      0,  22742,      0,      0,    761,     40],\n",
       "       [     0,      0,      2,      0,      0,      2,      0,      0,\n",
       "            39,     38,      0,      0,      0,      0,    116,      0],\n",
       "       [     0,      0,   1230,      2,      0,      7,      0,      0,\n",
       "            62,      0,      0,      0,      0,      0,   1951,      0],\n",
       "       [     0,      0,   2881,    128,     16,    294,      0,      0,\n",
       "          7470,   3547,      0,   1964,      0,      5, 119433,     63],\n",
       "       [     0,      0,      0,    153,      0,      0,      0,      0,\n",
       "             3,      0,      0,     26,      0,      0,    436,    578]])"
      ]
     },
     "execution_count": 172,
     "metadata": {},
     "output_type": "execute_result"
    }
   ],
   "source": [
    "# total accuracy\n",
    "print('Total Accuracy Score: {:0.4f}'.format(metrics.accuracy_score(y_test, y_pred)))\n",
    "print(metrics.classification_report(y_test, y_pred))\n",
    "metrics.confusion_matrix(y_test,y_pred)"
   ]
  },
  {
   "cell_type": "code",
   "execution_count": 170,
   "metadata": {},
   "outputs": [
    {
     "data": {
      "text/plain": [
       "['1', '2', '3', '4', '6', '9', '10', '12', '14', '16', '18', '19']"
      ]
     },
     "execution_count": 170,
     "metadata": {},
     "output_type": "execute_result"
    }
   ],
   "source": [
    "[str(x) for x in set(y_pred)]"
   ]
  },
  {
   "cell_type": "code",
   "execution_count": null,
   "metadata": {},
   "outputs": [],
   "source": []
  },
  {
   "cell_type": "markdown",
   "metadata": {},
   "source": [
    "## Predict Categorical Max"
   ]
  },
  {
   "cell_type": "code",
   "execution_count": 180,
   "metadata": {},
   "outputs": [],
   "source": [
    "remap = {'dishwasher':1,'dryer':1,'washer':1,'oven':1,\n",
    "         'dhw_heater':3,'refrigerator':3,\n",
    "         'furnace_fan':3,'heat_pump':3,\n",
    "         'basement':2,'dining_room':2,'entertainment':2,'garage':2,'south_br':2,'north_br':2,'security_system':2,\n",
    "        'utility_room':2,'workbench':2,'outside_plug':2,'unmetered':2,'office':2}"
   ]
  },
  {
   "cell_type": "code",
   "execution_count": 181,
   "metadata": {},
   "outputs": [],
   "source": [
    "df['col_max_row_categorized'] = df['col_max_row'].map(remap)"
   ]
  },
  {
   "cell_type": "code",
   "execution_count": 182,
   "metadata": {},
   "outputs": [],
   "source": [
    "feature_cols = feature_creation(df)\n",
    "lbl = 'col_max_row_categorized'\n",
    "model_type = 'random_forest'\n",
    "\n",
    "X = df[feature_cols]\n",
    "y = df[lbl]\n",
    "\n",
    "X_train, X_test, y_train, y_test = tts(X,y)\n",
    "\n",
    "model, y_pred, y_pred_proba = model_chooser(model_type,X_train,X_test,y_train,n_estimators=100,max_features='auto')"
   ]
  },
  {
   "cell_type": "code",
   "execution_count": 183,
   "metadata": {},
   "outputs": [],
   "source": [
    "y_pred = model.predict(X_test)\n",
    "y_pred_proba = model.predict_proba(X_test)"
   ]
  },
  {
   "cell_type": "code",
   "execution_count": 184,
   "metadata": {},
   "outputs": [
    {
     "name": "stdout",
     "output_type": "stream",
     "text": [
      "Total Accuracy Score: 0.8730\n",
      "Log Loss: 0.3535\n",
      "             precision    recall  f1-score   support\n",
      "\n",
      "          1       0.92      0.60      0.73     14600\n",
      "          2       0.86      0.88      0.87    166137\n",
      "          3       0.88      0.89      0.89    176529\n",
      "\n",
      "avg / total       0.87      0.87      0.87    357266\n",
      "\n",
      "[[  8776   5420    404]\n",
      " [   632 145390  20115]\n",
      " [   143  18646 157740]]\n"
     ]
    }
   ],
   "source": [
    "# total accuracy\n",
    "print('Total Accuracy Score: {:0.4f}'.format(metrics.accuracy_score(y_test, y_pred)))\n",
    "print('Log Loss: {:0.4f}'.format(metrics.log_loss(y_test,y_pred_proba)))\n",
    "print(metrics.classification_report(y_test, y_pred))\n",
    "print(metrics.confusion_matrix(y_test,y_pred))\n"
   ]
  },
  {
   "cell_type": "code",
   "execution_count": 138,
   "metadata": {},
   "outputs": [
    {
     "data": {
      "text/html": [
       "<div>\n",
       "<style scoped>\n",
       "    .dataframe tbody tr th:only-of-type {\n",
       "        vertical-align: middle;\n",
       "    }\n",
       "\n",
       "    .dataframe tbody tr th {\n",
       "        vertical-align: top;\n",
       "    }\n",
       "\n",
       "    .dataframe thead th {\n",
       "        text-align: right;\n",
       "    }\n",
       "</style>\n",
       "<table border=\"1\" class=\"dataframe\">\n",
       "  <thead>\n",
       "    <tr style=\"text-align: right;\">\n",
       "      <th></th>\n",
       "      <th>0</th>\n",
       "      <th>1</th>\n",
       "    </tr>\n",
       "  </thead>\n",
       "  <tbody>\n",
       "    <tr>\n",
       "      <th>0</th>\n",
       "      <td>main_house_total</td>\n",
       "      <td>0.213086</td>\n",
       "    </tr>\n",
       "    <tr>\n",
       "      <th>8</th>\n",
       "      <td>rolling_min_5</td>\n",
       "      <td>0.091607</td>\n",
       "    </tr>\n",
       "    <tr>\n",
       "      <th>7</th>\n",
       "      <td>rolling_max_5</td>\n",
       "      <td>0.068163</td>\n",
       "    </tr>\n",
       "    <tr>\n",
       "      <th>6</th>\n",
       "      <td>rolling_mean_5</td>\n",
       "      <td>0.061255</td>\n",
       "    </tr>\n",
       "    <tr>\n",
       "      <th>9</th>\n",
       "      <td>rolling_median_5</td>\n",
       "      <td>0.052528</td>\n",
       "    </tr>\n",
       "    <tr>\n",
       "      <th>5</th>\n",
       "      <td>rolling_sum_5</td>\n",
       "      <td>0.049463</td>\n",
       "    </tr>\n",
       "    <tr>\n",
       "      <th>13</th>\n",
       "      <td>rolling_min_10</td>\n",
       "      <td>0.047009</td>\n",
       "    </tr>\n",
       "    <tr>\n",
       "      <th>28</th>\n",
       "      <td>rolling_min_60</td>\n",
       "      <td>0.032180</td>\n",
       "    </tr>\n",
       "    <tr>\n",
       "      <th>12</th>\n",
       "      <td>rolling_max_10</td>\n",
       "      <td>0.032034</td>\n",
       "    </tr>\n",
       "    <tr>\n",
       "      <th>23</th>\n",
       "      <td>rolling_min_30</td>\n",
       "      <td>0.030393</td>\n",
       "    </tr>\n",
       "    <tr>\n",
       "      <th>18</th>\n",
       "      <td>rolling_min_15</td>\n",
       "      <td>0.028538</td>\n",
       "    </tr>\n",
       "    <tr>\n",
       "      <th>19</th>\n",
       "      <td>rolling_median_15</td>\n",
       "      <td>0.024562</td>\n",
       "    </tr>\n",
       "    <tr>\n",
       "      <th>14</th>\n",
       "      <td>rolling_median_10</td>\n",
       "      <td>0.024484</td>\n",
       "    </tr>\n",
       "    <tr>\n",
       "      <th>11</th>\n",
       "      <td>rolling_mean_10</td>\n",
       "      <td>0.024321</td>\n",
       "    </tr>\n",
       "    <tr>\n",
       "      <th>17</th>\n",
       "      <td>rolling_max_15</td>\n",
       "      <td>0.020030</td>\n",
       "    </tr>\n",
       "    <tr>\n",
       "      <th>1</th>\n",
       "      <td>Temp (C)</td>\n",
       "      <td>0.019740</td>\n",
       "    </tr>\n",
       "    <tr>\n",
       "      <th>22</th>\n",
       "      <td>rolling_max_30</td>\n",
       "      <td>0.017325</td>\n",
       "    </tr>\n",
       "    <tr>\n",
       "      <th>24</th>\n",
       "      <td>rolling_median_30</td>\n",
       "      <td>0.015002</td>\n",
       "    </tr>\n",
       "    <tr>\n",
       "      <th>27</th>\n",
       "      <td>rolling_max_60</td>\n",
       "      <td>0.014946</td>\n",
       "    </tr>\n",
       "    <tr>\n",
       "      <th>10</th>\n",
       "      <td>rolling_sum_10</td>\n",
       "      <td>0.014542</td>\n",
       "    </tr>\n",
       "    <tr>\n",
       "      <th>29</th>\n",
       "      <td>rolling_median_60</td>\n",
       "      <td>0.013623</td>\n",
       "    </tr>\n",
       "    <tr>\n",
       "      <th>3</th>\n",
       "      <td>hour</td>\n",
       "      <td>0.013263</td>\n",
       "    </tr>\n",
       "    <tr>\n",
       "      <th>25</th>\n",
       "      <td>rolling_sum_60</td>\n",
       "      <td>0.013228</td>\n",
       "    </tr>\n",
       "    <tr>\n",
       "      <th>20</th>\n",
       "      <td>rolling_sum_30</td>\n",
       "      <td>0.013059</td>\n",
       "    </tr>\n",
       "    <tr>\n",
       "      <th>26</th>\n",
       "      <td>rolling_mean_60</td>\n",
       "      <td>0.012786</td>\n",
       "    </tr>\n",
       "    <tr>\n",
       "      <th>21</th>\n",
       "      <td>rolling_mean_30</td>\n",
       "      <td>0.012314</td>\n",
       "    </tr>\n",
       "    <tr>\n",
       "      <th>15</th>\n",
       "      <td>rolling_sum_15</td>\n",
       "      <td>0.012278</td>\n",
       "    </tr>\n",
       "    <tr>\n",
       "      <th>16</th>\n",
       "      <td>rolling_mean_15</td>\n",
       "      <td>0.011975</td>\n",
       "    </tr>\n",
       "    <tr>\n",
       "      <th>2</th>\n",
       "      <td>Rel Hum (%)</td>\n",
       "      <td>0.010747</td>\n",
       "    </tr>\n",
       "    <tr>\n",
       "      <th>4</th>\n",
       "      <td>dow</td>\n",
       "      <td>0.005518</td>\n",
       "    </tr>\n",
       "  </tbody>\n",
       "</table>\n",
       "</div>"
      ],
      "text/plain": [
       "                    0         1\n",
       "0    main_house_total  0.213086\n",
       "8       rolling_min_5  0.091607\n",
       "7       rolling_max_5  0.068163\n",
       "6      rolling_mean_5  0.061255\n",
       "9    rolling_median_5  0.052528\n",
       "5       rolling_sum_5  0.049463\n",
       "13     rolling_min_10  0.047009\n",
       "28     rolling_min_60  0.032180\n",
       "12     rolling_max_10  0.032034\n",
       "23     rolling_min_30  0.030393\n",
       "18     rolling_min_15  0.028538\n",
       "19  rolling_median_15  0.024562\n",
       "14  rolling_median_10  0.024484\n",
       "11    rolling_mean_10  0.024321\n",
       "17     rolling_max_15  0.020030\n",
       "1            Temp (C)  0.019740\n",
       "22     rolling_max_30  0.017325\n",
       "24  rolling_median_30  0.015002\n",
       "27     rolling_max_60  0.014946\n",
       "10     rolling_sum_10  0.014542\n",
       "29  rolling_median_60  0.013623\n",
       "3                hour  0.013263\n",
       "25     rolling_sum_60  0.013228\n",
       "20     rolling_sum_30  0.013059\n",
       "26    rolling_mean_60  0.012786\n",
       "21    rolling_mean_30  0.012314\n",
       "15     rolling_sum_15  0.012278\n",
       "16    rolling_mean_15  0.011975\n",
       "2         Rel Hum (%)  0.010747\n",
       "4                 dow  0.005518"
      ]
     },
     "execution_count": 138,
     "metadata": {},
     "output_type": "execute_result"
    }
   ],
   "source": [
    "pd.DataFrame(list(zip(feature_cols,model.feature_importances_))).sort_values(by=1,ascending=False)"
   ]
  }
 ],
 "metadata": {
  "kernelspec": {
   "display_name": "Python [conda env:anaconda]",
   "language": "python",
   "name": "conda-env-anaconda-py"
  },
  "language_info": {
   "codemirror_mode": {
    "name": "ipython",
    "version": 3
   },
   "file_extension": ".py",
   "mimetype": "text/x-python",
   "name": "python",
   "nbconvert_exporter": "python",
   "pygments_lexer": "ipython3",
   "version": "3.5.4"
  }
 },
 "nbformat": 4,
 "nbformat_minor": 2
}
