{
 "cells": [
  {
   "cell_type": "markdown",
   "metadata": {
    "nbpresent": {
     "id": "125c2a82-2f0d-45f3-ad7b-45db4f23f3eb"
    }
   },
   "source": [
    "### Import libraries and read in file"
   ]
  },
  {
   "cell_type": "code",
   "execution_count": 152,
   "metadata": {
    "nbpresent": {
     "id": "069a476e-177d-4b9f-adcd-44f3883d8fd7"
    }
   },
   "outputs": [],
   "source": [
    "# import libs\n",
    "import pandas as pd\n",
    "import numpy as np\n",
    "%matplotlib inline\n",
    "import matplotlib.pyplot as plt\n",
    "plt.style.use('fivethirtyeight')\n",
    "\n",
    "# models and stuff\n",
    "from sklearn.linear_model import LogisticRegression\n",
    "from sklearn.tree import DecisionTreeClassifier\n",
    "from sklearn.ensemble import RandomForestClassifier\n",
    "from sklearn.ensemble import ExtraTreesClassifier\n",
    "from sklearn.ensemble import AdaBoostClassifier\n",
    "from sklearn.ensemble import GradientBoostingClassifier\n",
    "from sklearn import metrics"
   ]
  },
  {
   "cell_type": "code",
   "execution_count": 153,
   "metadata": {
    "nbpresent": {
     "id": "86ec3258-59b4-44ae-aeda-cf43043f965b"
    }
   },
   "outputs": [],
   "source": [
    "# read in file and define some useful column groupings\n",
    "elec_w_weather_path = '/users/ianmyjer/desktop/disagg/electric_data_with_weather.csv'\n",
    "df = pd.read_csv(elec_w_weather_path,delimiter=',',header=0,index_col=0,parse_dates=True)"
   ]
  },
  {
   "cell_type": "code",
   "execution_count": 154,
   "metadata": {
    "nbpresent": {
     "id": "ea0acfbd-84fe-47fc-b843-c28aac15071e"
    }
   },
   "outputs": [],
   "source": [
    "# define useful column groupings\n",
    "power_cols = ['north_br','south_br','basement','dryer','washer',\n",
    "'dining_room','dishwasher','workbench','security_system',\n",
    "'refrigerator','furnace_fan','garage','heat_pump',\n",
    "'dhw_heater','office','outside_plug','entertainment','utility_room','unmetered','oven']\n",
    "weather_cols = ['Temp (C)', 'Dew Point Temp (C)', 'Rel Hum (%)', \n",
    "'Wind Spd (km/h)','Stn Press (kPa)']"
   ]
  },
  {
   "cell_type": "markdown",
   "metadata": {
    "nbpresent": {
     "id": "20121ecf-94a8-4a2d-8418-2e6296dfb3b7"
    }
   },
   "source": [
    "## Features"
   ]
  },
  {
   "cell_type": "code",
   "execution_count": 155,
   "metadata": {
    "nbpresent": {
     "id": "eb353892-f924-466c-b375-5891bb6932dc"
    }
   },
   "outputs": [],
   "source": [
    "def feature_creation(df):\n",
    "    # starting features\n",
    "    feature_cols = ['main_house_total','Temp (C)','Rel Hum (%)']\n",
    "    \n",
    "    # time-based features\n",
    "    # only hour ever seemed to matter\n",
    "#     df['dow'] = df.index.weekday\n",
    "#     feature_cols.append('dow')\n",
    "#     df['weekday'] = (df.index.weekday < 5)*1\n",
    "#     df['business_hours'] = (df.index.weekday < 5)&(df.index.hour>=9)&(df.index.hour<=17)*1\n",
    "    df['hour'] = df.index.hour\n",
    "    feature_cols.append('hour')\n",
    "\n",
    "\n",
    "    # season dummies\n",
    "    # pretty much never important\n",
    "#     df['winter'] = (df.index.month<=3)*1\n",
    "#     df['spring'] = (df.index.month>3)&(df.index.month<=6)*1\n",
    "#     df['summer'] = (df.index.month>6)&(df.index.month<=9)*1\n",
    "#     df['fall'] = (df.index.month>9)*1\n",
    "\n",
    "#     main house power percentage change and diff\n",
    "#     pretty much never important\n",
    "#     for interval in [1,3,5,9,15]:\n",
    "#         df['mht_pct_'+str(interval)] = df['main_house_total'].pct_change(freq='1Min').fillna(0).replace(np.inf,1000)\n",
    "#         df['mht_diff_'+str(interval)] = df['main_house_total'].diff(periods=1).fillna(0)\n",
    "#         feature_cols.append('mht_pct_'+str(interval))\n",
    "#         feature_cols.append('mht_diff_'+str(interval))\n",
    "    \n",
    "    # rolling stats\n",
    "    # smaller values seems to do better, which makes sense\n",
    "    for time_val in [5,10,15,30,60]:\n",
    "        df['rolling_sum_'+str(time_val)] = df['main_house_total'].rolling(time_val).sum().fillna(0)\n",
    "        df['rolling_mean_'+str(time_val)] = df['main_house_total'].rolling(time_val).mean().fillna(0)\n",
    "        df['rolling_max_'+str(time_val)]  = df['main_house_total'].rolling(time_val).max().fillna(0)\n",
    "        df['rolling_min_'+str(time_val)]  = df['main_house_total'].rolling(time_val).min().fillna(0)\n",
    "        df['rolling_median_'+str(time_val)]  = df['main_house_total'].rolling(time_val).median().fillna(0)\n",
    "        feature_cols.append('rolling_sum_'+str(time_val))\n",
    "        feature_cols.append('rolling_mean_'+str(time_val))\n",
    "        feature_cols.append('rolling_max_'+str(time_val))\n",
    "        feature_cols.append('rolling_min_'+str(time_val))\n",
    "        feature_cols.append('rolling_median_'+str(time_val))\n",
    "\n",
    "    return feature_cols"
   ]
  },
  {
   "cell_type": "code",
   "execution_count": null,
   "metadata": {},
   "outputs": [],
   "source": []
  },
  {
   "cell_type": "markdown",
   "metadata": {},
   "source": [
    "## Modelling Functions"
   ]
  },
  {
   "cell_type": "code",
   "execution_count": 156,
   "metadata": {},
   "outputs": [],
   "source": [
    "def tts(X,y,percent=0.66):\n",
    "    train_size = int(len(X) * percent)\n",
    "    X_train, X_test = X[0:train_size], X[train_size:len(X)]\n",
    "    y_train, y_test = y[0:train_size], y[train_size:len(X)]\n",
    "    return X_train, X_test, y_train, y_test"
   ]
  },
  {
   "cell_type": "code",
   "execution_count": 157,
   "metadata": {},
   "outputs": [],
   "source": [
    "def tts_small(X,y,first_split=0.33,second_split=0.66):\n",
    "    train_size = int(len(X) * first_split)\n",
    "    test_size = int(len(X) * second_split)\n",
    "    X_train, X_test = X[0:train_size], X[train_size:test_size]\n",
    "    y_train, y_test = y[0:train_size], y[train_size:test_size]\n",
    "    return X_train, X_test, y_train, y_test"
   ]
  },
  {
   "cell_type": "code",
   "execution_count": 158,
   "metadata": {},
   "outputs": [],
   "source": [
    "def model_chooser(model_type,X_train,X_test,y_train,n_estimators=10,max_features='auto'):\n",
    "    if model_type == 'random_forest':\n",
    "        model = RandomForestClassifier(random_state=42,n_estimators=n_estimators,max_features=max_features)\n",
    "    elif model_type == 'logistic_regression':\n",
    "        model = LogisticRegression()\n",
    "    elif model_type == 'decision_tree':\n",
    "        model = DecisionTreeClassifier(random_state=42,n_estimators=n_estimators,max_features=max_features)\n",
    "    elif model_type == 'extra_trees':\n",
    "        model = ExtraTreesClassifier(random_state=42,n_estimators=n_estimators,max_features=max_features)\n",
    "    elif model_type == 'ada_boost':\n",
    "        model = AdaBoostClassifier(random_state=42,n_estimators=n_estimators)\n",
    "    elif model_type == 'gradient_boost':\n",
    "        model = GradientBoostingClassifier(random_state=42,n_estimators=n_estimators,max_features=max_features)\n",
    "    else:\n",
    "        model = None\n",
    "\n",
    "    # fit and predict on model\n",
    "    model.fit(X_train,y_train)\n",
    "    y_pred = model.predict(X_test)\n",
    "    y_pred_proba = model.predict_proba(X_test)[:,1]\n",
    "    \n",
    "    return model, y_pred, y_pred_proba"
   ]
  },
  {
   "cell_type": "code",
   "execution_count": 159,
   "metadata": {},
   "outputs": [],
   "source": [
    "def print_accuracies(lbl,y_test,y_pred,y_pred_proba):\n",
    "    print(lbl)\n",
    "    # Predict appliances are always OFF\n",
    "    y_null = np.zeros(len(y_test))\n",
    "    print('Null Accuracy Score: {:0.4f}'.format(metrics.accuracy_score(y_test, y_null)))\n",
    "\n",
    "    # total accuracy\n",
    "    print('Total Accuracy Score: {:0.4f}'.format(metrics.accuracy_score(y_test, y_pred)))\n",
    "    print('Log Loss: {:0.4f}'.format(metrics.log_loss(y_test,y_pred_proba)))\n",
    "\n",
    "    # binary accuracy\n",
    "    print('Accuracy Score 1s: {:0.4f}'.format(metrics.accuracy_score(y_test[y_test==1], y_pred[y_test==1])))\n",
    "    print('Accuracy Score 0s: {:0.4f}'.format(metrics.accuracy_score(y_test[y_test==0], y_pred[y_test==0])))\n",
    "    \n",
    "    # confusion matrix\n",
    "    print(metrics.confusion_matrix(y_test,y_pred))"
   ]
  },
  {
   "cell_type": "code",
   "execution_count": 160,
   "metadata": {},
   "outputs": [],
   "source": [
    "def save_accuracies(lbl,model_type,y_test,y_pred,y_pred_proba):\n",
    "    dct = {}\n",
    "    y_null = np.zeros(len(y_test))\n",
    "    dct[model_type+'_null_accuracy'] = metrics.accuracy_score(y_test, y_null)\n",
    "    dct[model_type+'_total_accuracy'] = metrics.accuracy_score(y_test, y_pred)\n",
    "    dct[model_type+'_log_loss'] = metrics.log_loss(y_test,y_pred_proba)\n",
    "    dct[model_type+'_accuracy_1'] = metrics.accuracy_score(y_test[y_test==1], y_pred[y_test==1])\n",
    "    dct[model_type+'_accuracy_0'] = metrics.accuracy_score(y_test[y_test==0], y_pred[y_test==0])\n",
    "    return dct                                  "
   ]
  },
  {
   "cell_type": "code",
   "execution_count": null,
   "metadata": {},
   "outputs": [],
   "source": []
  },
  {
   "cell_type": "markdown",
   "metadata": {},
   "source": [
    "## Find and map max appliance"
   ]
  },
  {
   "cell_type": "code",
   "execution_count": 161,
   "metadata": {},
   "outputs": [],
   "source": [
    "df['max_power'] = df[power_cols].max(axis=1)"
   ]
  },
  {
   "cell_type": "code",
   "execution_count": 162,
   "metadata": {},
   "outputs": [],
   "source": [
    "df['col_max_row'] = df[power_cols].idxmax(axis=1)"
   ]
  },
  {
   "cell_type": "code",
   "execution_count": 163,
   "metadata": {},
   "outputs": [],
   "source": [
    "df['col_max_row_remapped'] = df['col_max_row'].map(dict(zip(power_cols,range(len(power_cols)+1))))"
   ]
  },
  {
   "cell_type": "code",
   "execution_count": 164,
   "metadata": {},
   "outputs": [
    {
     "data": {
      "text/plain": [
       "{'basement': 2,\n",
       " 'dhw_heater': 13,\n",
       " 'dining_room': 5,\n",
       " 'dishwasher': 6,\n",
       " 'dryer': 3,\n",
       " 'entertainment': 16,\n",
       " 'furnace_fan': 10,\n",
       " 'garage': 11,\n",
       " 'heat_pump': 12,\n",
       " 'north_br': 0,\n",
       " 'office': 14,\n",
       " 'outside_plug': 15,\n",
       " 'oven': 19,\n",
       " 'refrigerator': 9,\n",
       " 'security_system': 8,\n",
       " 'south_br': 1,\n",
       " 'unmetered': 18,\n",
       " 'utility_room': 17,\n",
       " 'washer': 4,\n",
       " 'workbench': 7}"
      ]
     },
     "execution_count": 164,
     "metadata": {},
     "output_type": "execute_result"
    }
   ],
   "source": [
    "dict(zip(power_cols,range(len(power_cols)+1)))"
   ]
  },
  {
   "cell_type": "markdown",
   "metadata": {},
   "source": [
    "## Attempt to classify max appliance"
   ]
  },
  {
   "cell_type": "code",
   "execution_count": null,
   "metadata": {},
   "outputs": [],
   "source": [
    "feature_cols = feature_creation(df)\n",
    "lbl = 'col_max_row_remapped'\n",
    "model_type = 'random_forest'\n",
    "\n",
    "X = df[feature_cols]\n",
    "y = df[lbl]\n",
    "\n",
    "X_train, X_test, y_train, y_test = tts(X,y)\n",
    "\n",
    "model, y_pred, y_pred_proba = model_chooser(model_type,X_train,X_test,y_train,n_estimators=100,max_features='auto')"
   ]
  },
  {
   "cell_type": "code",
   "execution_count": 95,
   "metadata": {},
   "outputs": [],
   "source": [
    "y_pred = model.predict(X_test)\n",
    "y_pred_proba = model.predict_proba(X_test)"
   ]
  },
  {
   "cell_type": "code",
   "execution_count": 96,
   "metadata": {},
   "outputs": [
    {
     "data": {
      "text/html": [
       "<div>\n",
       "<style scoped>\n",
       "    .dataframe tbody tr th:only-of-type {\n",
       "        vertical-align: middle;\n",
       "    }\n",
       "\n",
       "    .dataframe tbody tr th {\n",
       "        vertical-align: top;\n",
       "    }\n",
       "\n",
       "    .dataframe thead th {\n",
       "        text-align: right;\n",
       "    }\n",
       "</style>\n",
       "<table border=\"1\" class=\"dataframe\">\n",
       "  <thead>\n",
       "    <tr style=\"text-align: right;\">\n",
       "      <th></th>\n",
       "      <th>0</th>\n",
       "      <th>1</th>\n",
       "    </tr>\n",
       "  </thead>\n",
       "  <tbody>\n",
       "    <tr>\n",
       "      <th>0</th>\n",
       "      <td>main_house_total</td>\n",
       "      <td>0.535675</td>\n",
       "    </tr>\n",
       "    <tr>\n",
       "      <th>38</th>\n",
       "      <td>rolling_min_60</td>\n",
       "      <td>0.057046</td>\n",
       "    </tr>\n",
       "    <tr>\n",
       "      <th>1</th>\n",
       "      <td>Temp (C)</td>\n",
       "      <td>0.035562</td>\n",
       "    </tr>\n",
       "    <tr>\n",
       "      <th>3</th>\n",
       "      <td>hour</td>\n",
       "      <td>0.035180</td>\n",
       "    </tr>\n",
       "    <tr>\n",
       "      <th>33</th>\n",
       "      <td>rolling_min_30</td>\n",
       "      <td>0.032073</td>\n",
       "    </tr>\n",
       "    <tr>\n",
       "      <th>18</th>\n",
       "      <td>rolling_min_5</td>\n",
       "      <td>0.022147</td>\n",
       "    </tr>\n",
       "    <tr>\n",
       "      <th>2</th>\n",
       "      <td>Rel Hum (%)</td>\n",
       "      <td>0.021331</td>\n",
       "    </tr>\n",
       "    <tr>\n",
       "      <th>37</th>\n",
       "      <td>rolling_max_60</td>\n",
       "      <td>0.018819</td>\n",
       "    </tr>\n",
       "    <tr>\n",
       "      <th>34</th>\n",
       "      <td>rolling_median_30</td>\n",
       "      <td>0.017405</td>\n",
       "    </tr>\n",
       "    <tr>\n",
       "      <th>28</th>\n",
       "      <td>rolling_min_15</td>\n",
       "      <td>0.015998</td>\n",
       "    </tr>\n",
       "    <tr>\n",
       "      <th>19</th>\n",
       "      <td>rolling_median_5</td>\n",
       "      <td>0.015979</td>\n",
       "    </tr>\n",
       "    <tr>\n",
       "      <th>23</th>\n",
       "      <td>rolling_min_10</td>\n",
       "      <td>0.015068</td>\n",
       "    </tr>\n",
       "    <tr>\n",
       "      <th>39</th>\n",
       "      <td>rolling_median_60</td>\n",
       "      <td>0.014965</td>\n",
       "    </tr>\n",
       "    <tr>\n",
       "      <th>32</th>\n",
       "      <td>rolling_max_30</td>\n",
       "      <td>0.014444</td>\n",
       "    </tr>\n",
       "    <tr>\n",
       "      <th>27</th>\n",
       "      <td>rolling_max_15</td>\n",
       "      <td>0.014008</td>\n",
       "    </tr>\n",
       "    <tr>\n",
       "      <th>22</th>\n",
       "      <td>rolling_max_10</td>\n",
       "      <td>0.012021</td>\n",
       "    </tr>\n",
       "    <tr>\n",
       "      <th>29</th>\n",
       "      <td>rolling_median_15</td>\n",
       "      <td>0.010766</td>\n",
       "    </tr>\n",
       "    <tr>\n",
       "      <th>17</th>\n",
       "      <td>rolling_max_5</td>\n",
       "      <td>0.010374</td>\n",
       "    </tr>\n",
       "    <tr>\n",
       "      <th>4</th>\n",
       "      <td>dow</td>\n",
       "      <td>0.010091</td>\n",
       "    </tr>\n",
       "    <tr>\n",
       "      <th>35</th>\n",
       "      <td>rolling_sum_60</td>\n",
       "      <td>0.008902</td>\n",
       "    </tr>\n",
       "    <tr>\n",
       "      <th>36</th>\n",
       "      <td>rolling_mean_60</td>\n",
       "      <td>0.008760</td>\n",
       "    </tr>\n",
       "    <tr>\n",
       "      <th>31</th>\n",
       "      <td>rolling_mean_30</td>\n",
       "      <td>0.008135</td>\n",
       "    </tr>\n",
       "    <tr>\n",
       "      <th>30</th>\n",
       "      <td>rolling_sum_30</td>\n",
       "      <td>0.008007</td>\n",
       "    </tr>\n",
       "    <tr>\n",
       "      <th>24</th>\n",
       "      <td>rolling_median_10</td>\n",
       "      <td>0.007814</td>\n",
       "    </tr>\n",
       "    <tr>\n",
       "      <th>25</th>\n",
       "      <td>rolling_sum_15</td>\n",
       "      <td>0.004381</td>\n",
       "    </tr>\n",
       "    <tr>\n",
       "      <th>26</th>\n",
       "      <td>rolling_mean_15</td>\n",
       "      <td>0.004342</td>\n",
       "    </tr>\n",
       "    <tr>\n",
       "      <th>15</th>\n",
       "      <td>rolling_sum_5</td>\n",
       "      <td>0.003960</td>\n",
       "    </tr>\n",
       "    <tr>\n",
       "      <th>16</th>\n",
       "      <td>rolling_mean_5</td>\n",
       "      <td>0.003934</td>\n",
       "    </tr>\n",
       "    <tr>\n",
       "      <th>21</th>\n",
       "      <td>rolling_mean_10</td>\n",
       "      <td>0.003924</td>\n",
       "    </tr>\n",
       "    <tr>\n",
       "      <th>20</th>\n",
       "      <td>rolling_sum_10</td>\n",
       "      <td>0.003838</td>\n",
       "    </tr>\n",
       "    <tr>\n",
       "      <th>5</th>\n",
       "      <td>mht_pct_1</td>\n",
       "      <td>0.002933</td>\n",
       "    </tr>\n",
       "    <tr>\n",
       "      <th>7</th>\n",
       "      <td>mht_pct_3</td>\n",
       "      <td>0.002873</td>\n",
       "    </tr>\n",
       "    <tr>\n",
       "      <th>13</th>\n",
       "      <td>mht_pct_15</td>\n",
       "      <td>0.002748</td>\n",
       "    </tr>\n",
       "    <tr>\n",
       "      <th>11</th>\n",
       "      <td>mht_pct_9</td>\n",
       "      <td>0.002723</td>\n",
       "    </tr>\n",
       "    <tr>\n",
       "      <th>9</th>\n",
       "      <td>mht_pct_5</td>\n",
       "      <td>0.002722</td>\n",
       "    </tr>\n",
       "    <tr>\n",
       "      <th>8</th>\n",
       "      <td>mht_diff_3</td>\n",
       "      <td>0.002261</td>\n",
       "    </tr>\n",
       "    <tr>\n",
       "      <th>10</th>\n",
       "      <td>mht_diff_5</td>\n",
       "      <td>0.002226</td>\n",
       "    </tr>\n",
       "    <tr>\n",
       "      <th>12</th>\n",
       "      <td>mht_diff_9</td>\n",
       "      <td>0.002194</td>\n",
       "    </tr>\n",
       "    <tr>\n",
       "      <th>6</th>\n",
       "      <td>mht_diff_1</td>\n",
       "      <td>0.002188</td>\n",
       "    </tr>\n",
       "    <tr>\n",
       "      <th>14</th>\n",
       "      <td>mht_diff_15</td>\n",
       "      <td>0.002181</td>\n",
       "    </tr>\n",
       "  </tbody>\n",
       "</table>\n",
       "</div>"
      ],
      "text/plain": [
       "                    0         1\n",
       "0    main_house_total  0.535675\n",
       "38     rolling_min_60  0.057046\n",
       "1            Temp (C)  0.035562\n",
       "3                hour  0.035180\n",
       "33     rolling_min_30  0.032073\n",
       "18      rolling_min_5  0.022147\n",
       "2         Rel Hum (%)  0.021331\n",
       "37     rolling_max_60  0.018819\n",
       "34  rolling_median_30  0.017405\n",
       "28     rolling_min_15  0.015998\n",
       "19   rolling_median_5  0.015979\n",
       "23     rolling_min_10  0.015068\n",
       "39  rolling_median_60  0.014965\n",
       "32     rolling_max_30  0.014444\n",
       "27     rolling_max_15  0.014008\n",
       "22     rolling_max_10  0.012021\n",
       "29  rolling_median_15  0.010766\n",
       "17      rolling_max_5  0.010374\n",
       "4                 dow  0.010091\n",
       "35     rolling_sum_60  0.008902\n",
       "36    rolling_mean_60  0.008760\n",
       "31    rolling_mean_30  0.008135\n",
       "30     rolling_sum_30  0.008007\n",
       "24  rolling_median_10  0.007814\n",
       "25     rolling_sum_15  0.004381\n",
       "26    rolling_mean_15  0.004342\n",
       "15      rolling_sum_5  0.003960\n",
       "16     rolling_mean_5  0.003934\n",
       "21    rolling_mean_10  0.003924\n",
       "20     rolling_sum_10  0.003838\n",
       "5           mht_pct_1  0.002933\n",
       "7           mht_pct_3  0.002873\n",
       "13         mht_pct_15  0.002748\n",
       "11          mht_pct_9  0.002723\n",
       "9           mht_pct_5  0.002722\n",
       "8          mht_diff_3  0.002261\n",
       "10         mht_diff_5  0.002226\n",
       "12         mht_diff_9  0.002194\n",
       "6          mht_diff_1  0.002188\n",
       "14        mht_diff_15  0.002181"
      ]
     },
     "execution_count": 96,
     "metadata": {},
     "output_type": "execute_result"
    }
   ],
   "source": [
    "pd.DataFrame(list(zip(feature_cols,model.feature_importances_))).sort_values(by=1,ascending=False)"
   ]
  },
  {
   "cell_type": "code",
   "execution_count": 112,
   "metadata": {},
   "outputs": [
    {
     "name": "stdout",
     "output_type": "stream",
     "text": [
      "Total Accuracy Score: 0.7907\n",
      "Hamming Loss: 0.2093\n",
      "F1 Score: 0.7907\n",
      "Precision Score: 0.7907\n",
      "Recall Score: 0.7907\n",
      "Jaccard Similarity Score: 0.7907\n"
     ]
    },
    {
     "data": {
      "text/plain": [
       "array([[     0,      0,      1,      1,      0,      2,      0,      0,\n",
       "             0,      0,      0,      0,      0,      0,      0,      0,\n",
       "             8,      0],\n",
       "       [     0,    673,      0,      0,      0,      0,      0,      0,\n",
       "          1088,   1929,      0,      0,      0,      1,      1,      0,\n",
       "          3464,      0],\n",
       "       [     0,      0,   9799,     32,     18,     97,      0,      0,\n",
       "            14,      2,      0,      3,      0,      0,      2,      0,\n",
       "          9716,      1],\n",
       "       [     0,      0,     23,   4641,      1,      0,      0,      0,\n",
       "             0,      0,      0,      2,      0,      0,      1,      0,\n",
       "           237,    204],\n",
       "       [     0,      0,     88,     10,    109,     82,      0,      0,\n",
       "           167,     77,      0,      1,      0,      0,      4,      0,\n",
       "          1969,      0],\n",
       "       [     0,      0,    242,      0,     24,   2772,      0,      0,\n",
       "            67,      0,      0,     51,      0,      0,      1,      0,\n",
       "          2631,      0],\n",
       "       [     0,      0,      0,      0,      0,      0,      0,      0,\n",
       "             0,      0,      0,      0,      0,      0,      0,      0,\n",
       "             7,      0],\n",
       "       [     0,      0,      0,      0,      0,      0,      0,      0,\n",
       "             0,      1,      0,      0,      0,      0,      0,      0,\n",
       "             0,      0],\n",
       "       [     0,      6,    218,      8,      6,     35,      0,      0,\n",
       "         32205,    850,      0,     13,      0,      1,      9,      0,\n",
       "         11718,      2],\n",
       "       [     0,    177,     22,      2,      7,      0,      0,      0,\n",
       "          6756,  92015,      0,      0,      3,     34,      9,     13,\n",
       "          8853,      3],\n",
       "       [     0,      0,      1,      0,      0,      0,      0,      0,\n",
       "             1,     10,      0,      0,      0,      0,      0,      0,\n",
       "            15,      0],\n",
       "       [     0,      0,      0,     22,      0,     52,      0,      0,\n",
       "             2,      0,      0,  22680,      0,      0,      0,      0,\n",
       "           776,     32],\n",
       "       [     0,      0,      0,      0,      0,      0,      0,      0,\n",
       "             0,      0,      0,      0,      0,      0,      0,      0,\n",
       "             0,      0],\n",
       "       [     0,      0,      3,      0,      2,      3,      0,      0,\n",
       "            48,     32,      0,      0,      0,      0,      1,      0,\n",
       "           108,      0],\n",
       "       [     0,      0,   1374,      3,      1,     10,      0,      0,\n",
       "            89,      2,      0,      0,      0,      0,      9,      0,\n",
       "          1764,      0],\n",
       "       [     0,      0,      0,      0,      0,      0,      0,      0,\n",
       "             0,      0,      0,      0,      0,      0,      0,      0,\n",
       "             0,      0],\n",
       "       [     0,     27,   3910,    138,     50,    490,      0,      0,\n",
       "          8178,   4056,      0,   1741,      0,     38,    142,      0,\n",
       "        116970,     61],\n",
       "       [     0,      0,      1,    141,      0,      0,      0,      0,\n",
       "             5,      0,      0,     20,      0,      0,      0,      0,\n",
       "           422,    607]])"
      ]
     },
     "execution_count": 112,
     "metadata": {},
     "output_type": "execute_result"
    }
   ],
   "source": [
    "# total accuracy\n",
    "print('Total Accuracy Score: {:0.4f}'.format(metrics.accuracy_score(y_test, y_pred)))\n",
    "print(metrics.classification_report(y_test, y_pred))\n",
    "metrics.confusion_matrix(y_test,y_pred)\n"
   ]
  },
  {
   "cell_type": "code",
   "execution_count": null,
   "metadata": {},
   "outputs": [],
   "source": []
  },
  {
   "cell_type": "code",
   "execution_count": 113,
   "metadata": {},
   "outputs": [],
   "source": [
    "feature_cols = feature_creation(df)\n",
    "lbl = 'col_max_row_remapped'\n",
    "model_type = 'extra_trees'\n",
    "\n",
    "X = df[feature_cols]\n",
    "y = df[lbl]\n",
    "\n",
    "X_train, X_test, y_train, y_test = tts(X,y)\n",
    "\n",
    "model, y_pred, y_pred_proba = model_chooser(model_type,X_train,X_test,y_train,n_estimators=100,max_features='auto')"
   ]
  },
  {
   "cell_type": "code",
   "execution_count": 114,
   "metadata": {},
   "outputs": [],
   "source": [
    "y_pred = model.predict(X_test)\n",
    "y_pred_proba = model.predict_proba(X_test)"
   ]
  },
  {
   "cell_type": "code",
   "execution_count": 115,
   "metadata": {},
   "outputs": [
    {
     "name": "stdout",
     "output_type": "stream",
     "text": [
      "Total Accuracy Score: 0.7893\n",
      "Hamming Loss: 0.2107\n",
      "F1 Score: 0.7893\n",
      "Precision Score: 0.7893\n",
      "Recall Score: 0.7893\n",
      "Jaccard Similarity Score: 0.7893\n"
     ]
    },
    {
     "data": {
      "text/plain": [
       "array([[     0,      0,      0,      0,      0,      0,      0,      0,\n",
       "             0,      0,      0,      0,      0,      0,     12,      0],\n",
       "       [     0,    186,      0,      1,      0,      0,      0,      0,\n",
       "           990,   2075,      0,      0,      0,      0,   3904,      0],\n",
       "       [     0,      0,   8888,     20,      4,     41,      0,      0,\n",
       "             6,      0,      0,      0,      0,      0,  10725,      0],\n",
       "       [     0,      0,      6,   4914,      0,      0,      0,      0,\n",
       "             0,      0,      0,      0,      0,      0,    189,      0],\n",
       "       [     0,      0,     54,     16,     49,     37,      0,      0,\n",
       "            65,     93,      0,      1,      0,      0,   2192,      0],\n",
       "       [     0,      0,    189,      0,      4,   2830,      0,      0,\n",
       "            34,     31,      0,     36,      0,      0,   2664,      0],\n",
       "       [     0,      0,      0,      0,      0,      0,      0,      0,\n",
       "             0,      0,      0,      0,      0,      0,      7,      0],\n",
       "       [     0,      0,      0,      0,      0,      0,      0,      0,\n",
       "             0,      1,      0,      0,      0,      0,      0,      0],\n",
       "       [     0,      6,     92,      8,      3,     14,      0,      0,\n",
       "         30035,    868,      0,     12,      0,      0,  14033,      0],\n",
       "       [     0,     38,      4,      3,      4,      0,      0,      0,\n",
       "          6159,  92104,      0,      0,      0,      1,   9575,      6],\n",
       "       [     0,      0,      2,      0,      0,      0,      0,      0,\n",
       "             3,     10,      0,      0,      0,      0,     12,      0],\n",
       "       [     0,      0,      0,     24,      0,      4,      0,      0,\n",
       "             2,      0,      0,  22740,      0,      0,    764,     30],\n",
       "       [     0,      0,      1,      0,      0,      0,      0,      0,\n",
       "            36,     36,      0,      1,      0,      0,    123,      0],\n",
       "       [     0,      0,   1276,      6,      0,      4,      0,      0,\n",
       "            61,      2,      0,      0,      0,      0,   1903,      0],\n",
       "       [     0,      0,   2750,    166,      5,    238,      0,      0,\n",
       "          7024,   3894,      0,   1967,      0,      0, 119712,     45],\n",
       "       [     0,      0,      0,    180,      0,      0,      0,      0,\n",
       "             1,      0,      0,     38,      0,      0,    458,    519]])"
      ]
     },
     "execution_count": 115,
     "metadata": {},
     "output_type": "execute_result"
    }
   ],
   "source": [
    "# total accuracy\n",
    "print('Total Accuracy Score: {:0.4f}'.format(metrics.accuracy_score(y_test, y_pred)))\n",
    "print('Hamming Loss: {:0.4f}'.format(metrics.hamming_loss(y_test, y_pred)))\n",
    "print('F1 Score: {:0.4f}'.format(metrics.f1_score(y_test, y_pred, average='micro')))\n",
    "print('Precision Score: {:0.4f}'.format(metrics.precision_score(y_test, y_pred, average='micro')))\n",
    "print('Recall Score: {:0.4f}'.format(metrics.recall_score(y_test, y_pred, average='micro')))\n",
    "print('Jaccard Similarity Score: {:0.4f}'.format(metrics.jaccard_similarity_score(y_test, y_pred)))\n",
    "metrics.confusion_matrix(y_test,y_pred)\n",
    "# print('Log Loss: {:0.4f}'.format(metrics.log_loss(y_test,y_pred_proba)))"
   ]
  },
  {
   "cell_type": "code",
   "execution_count": null,
   "metadata": {},
   "outputs": [],
   "source": []
  },
  {
   "cell_type": "code",
   "execution_count": 116,
   "metadata": {},
   "outputs": [],
   "source": [
    "feature_cols = feature_creation(df)\n",
    "lbl = 'col_max_row_remapped'\n",
    "model_type = 'ada_boost'\n",
    "\n",
    "X = df[feature_cols]\n",
    "y = df[lbl]\n",
    "\n",
    "X_train, X_test, y_train, y_test = tts(X,y)\n",
    "\n",
    "model, y_pred, y_pred_proba = model_chooser(model_type,X_train,X_test,y_train,n_estimators=100,max_features='auto')"
   ]
  },
  {
   "cell_type": "code",
   "execution_count": 117,
   "metadata": {},
   "outputs": [],
   "source": [
    "y_pred = model.predict(X_test)\n",
    "y_pred_proba = model.predict_proba(X_test)"
   ]
  },
  {
   "cell_type": "code",
   "execution_count": 118,
   "metadata": {},
   "outputs": [
    {
     "name": "stdout",
     "output_type": "stream",
     "text": [
      "Total Accuracy Score: 0.6422\n",
      "Hamming Loss: 0.3578\n",
      "F1 Score: 0.6422\n",
      "Precision Score: 0.6422\n",
      "Recall Score: 0.6422\n",
      "Jaccard Similarity Score: 0.6422\n"
     ]
    },
    {
     "data": {
      "text/plain": [
       "array([[     0,      0,      0,      4,      0,      0,      0,      0,\n",
       "             0,      0,      0,      0,      0,      0,      8,      0],\n",
       "       [     0,      1,      0,     12,      0,      0,      0,      0,\n",
       "             0,     97,      0,     48,      0,     52,   6942,      4],\n",
       "       [     0,      0,      0,    258,      0,      5,      0,      0,\n",
       "             0,      0,      0,    137,      0,    203,  18853,    228],\n",
       "       [     0,      0,      0,   5103,      0,      0,      0,      0,\n",
       "             0,      0,      0,      0,      0,      1,      3,      2],\n",
       "       [     0,      0,      0,     44,      0,      0,      0,      0,\n",
       "             0,     15,      0,     29,      0,     94,   2299,     26],\n",
       "       [     0,      0,      0,    137,      0,      0,      0,      0,\n",
       "             0,      0,      0,    291,      0,     53,   5078,    229],\n",
       "       [     0,      0,      0,      0,      0,      0,      0,      0,\n",
       "             0,      0,      0,      0,      0,      0,      7,      0],\n",
       "       [     0,      0,      0,      0,      0,      0,      0,      0,\n",
       "             0,      1,      0,      0,      0,      0,      0,      0],\n",
       "       [     0,      0,      0,     58,      0,      3,      0,      0,\n",
       "             0,    213,      0,    242,      0,    124,  44279,    152],\n",
       "       [     1,    188,      0,     74,      0,      0,      0,      0,\n",
       "             6,  80843,      0,    528,      0,     84,  25958,    212],\n",
       "       [     0,      0,      0,      0,      0,      0,      0,      0,\n",
       "             0,      5,      0,      1,      0,      0,     21,      0],\n",
       "       [     0,      0,      0,    481,      0,      0,      0,      0,\n",
       "             0,      0,      0,  17908,      0,      0,   1625,   3550],\n",
       "       [     0,      0,      0,      0,      0,      0,      0,      0,\n",
       "             0,      1,      0,      4,      0,      0,    187,      5],\n",
       "       [     0,      0,      0,     35,      0,      0,      0,      0,\n",
       "             0,      0,      0,     32,      0,     36,   3117,     32],\n",
       "       [     0,     11,      0,   1541,      0,    109,      0,      0,\n",
       "             0,   1754,      0,   4268,      0,   1034, 124844,   2240],\n",
       "       [     0,      0,      0,    332,      0,     10,      0,      0,\n",
       "             0,      0,      0,     94,      0,      0,     71,    689]])"
      ]
     },
     "execution_count": 118,
     "metadata": {},
     "output_type": "execute_result"
    }
   ],
   "source": [
    "# total accuracy\n",
    "print('Total Accuracy Score: {:0.4f}'.format(metrics.accuracy_score(y_test, y_pred)))\n",
    "print('Hamming Loss: {:0.4f}'.format(metrics.hamming_loss(y_test, y_pred)))\n",
    "print('F1 Score: {:0.4f}'.format(metrics.f1_score(y_test, y_pred, average='micro')))\n",
    "print('Precision Score: {:0.4f}'.format(metrics.precision_score(y_test, y_pred, average='micro')))\n",
    "print('Recall Score: {:0.4f}'.format(metrics.recall_score(y_test, y_pred, average='micro')))\n",
    "print('Jaccard Similarity Score: {:0.4f}'.format(metrics.jaccard_similarity_score(y_test, y_pred)))\n",
    "metrics.confusion_matrix(y_test,y_pred)\n",
    "# print('Log Loss: {:0.4f}'.format(metrics.log_loss(y_test,y_pred_proba)))"
   ]
  },
  {
   "cell_type": "code",
   "execution_count": null,
   "metadata": {},
   "outputs": [],
   "source": []
  },
  {
   "cell_type": "code",
   "execution_count": 119,
   "metadata": {},
   "outputs": [],
   "source": [
    "feature_cols = feature_creation(df)\n",
    "lbl = 'col_max_row_remapped'\n",
    "model_type = 'gradient_boost'\n",
    "\n",
    "X = df[feature_cols]\n",
    "y = df[lbl]\n",
    "\n",
    "X_train, X_test, y_train, y_test = tts(X,y)\n",
    "\n",
    "model, y_pred, y_pred_proba = model_chooser(model_type,X_train,X_test,y_train,n_estimators=100,max_features='auto')"
   ]
  },
  {
   "cell_type": "code",
   "execution_count": 120,
   "metadata": {},
   "outputs": [],
   "source": [
    "y_pred = model.predict(X_test)\n",
    "y_pred_proba = model.predict_proba(X_test)"
   ]
  },
  {
   "cell_type": "code",
   "execution_count": 121,
   "metadata": {},
   "outputs": [
    {
     "name": "stdout",
     "output_type": "stream",
     "text": [
      "Total Accuracy Score: 0.7576\n",
      "Hamming Loss: 0.2424\n",
      "F1 Score: 0.7576\n",
      "Precision Score: 0.7576\n",
      "Recall Score: 0.7576\n",
      "Jaccard Similarity Score: 0.7576\n"
     ]
    },
    {
     "data": {
      "text/plain": [
       "array([[     0,      0,      0,      0,      0,      0,      0,      0,\n",
       "             0,      0,      0,      0,      0,      0,      0,     12,\n",
       "             0],\n",
       "       [     0,    430,      0,      0,      2,      0,      0,      0,\n",
       "          1101,   2327,      0,      0,      0,      0,      0,   3296,\n",
       "             0],\n",
       "       [     3,      0,   9094,     25,      0,     67,      0,      0,\n",
       "             3,      0,      0,      2,      0,      1,      0,  10489,\n",
       "             0],\n",
       "       [     3,      0,     29,   4860,      0,      2,      0,      0,\n",
       "             0,      0,      0,      0,      0,      0,      0,    151,\n",
       "            64],\n",
       "       [     0,      0,     54,     19,     63,     55,      0,      0,\n",
       "           166,     83,      0,      0,      1,      8,      0,   2058,\n",
       "             0],\n",
       "       [     0,      0,    171,      0,     34,   2210,      1,      0,\n",
       "            82,      0,      2,     75,      0,      0,      0,   3213,\n",
       "             0],\n",
       "       [     0,      0,      0,      0,      0,      0,      0,      0,\n",
       "             0,      0,      0,      0,      0,      0,      0,      7,\n",
       "             0],\n",
       "       [     0,      0,      0,      0,      0,      0,      0,      0,\n",
       "             0,      1,      0,      0,      0,      0,      0,      0,\n",
       "             0],\n",
       "       [     0,     14,     61,      9,     12,     21,      0,      0,\n",
       "         28187,   1522,      2,     12,      0,     25,      0,  15202,\n",
       "             4],\n",
       "       [     0,    254,      1,      1,      8,      4,      0,      1,\n",
       "          7416,  91344,      8,      0,      1,     19,      1,   8818,\n",
       "            18],\n",
       "       [     0,      0,      1,      0,      0,      0,      0,      0,\n",
       "             1,     10,      0,      0,      0,      0,      0,     15,\n",
       "             0],\n",
       "       [     2,      0,      0,     29,      4,     14,      0,      0,\n",
       "             1,      0,      0,  22726,      1,      0,      0,    756,\n",
       "            31],\n",
       "       [     0,      0,      2,      0,      0,      2,      0,      0,\n",
       "            47,     23,      0,      0,      0,      0,      0,    123,\n",
       "             0],\n",
       "       [     2,      0,   1402,      0,      1,     10,      0,      0,\n",
       "            92,     11,      0,      0,      0,      4,      0,   1730,\n",
       "             0],\n",
       "       [     0,      0,      0,      0,      0,      0,      0,      0,\n",
       "             0,      0,      0,      0,      0,      0,      0,      0,\n",
       "             0],\n",
       "       [    25,     22,   2777,    151,     58,    366,      0,      0,\n",
       "         13870,   4812,      4,   2422,      6,     35,      0, 111159,\n",
       "            94],\n",
       "       [     0,      0,      0,    160,      0,      1,      0,      0,\n",
       "             1,      0,      0,     37,      0,      0,      0,    398,\n",
       "           599]])"
      ]
     },
     "execution_count": 121,
     "metadata": {},
     "output_type": "execute_result"
    }
   ],
   "source": [
    "# total accuracy\n",
    "print('Total Accuracy Score: {:0.4f}'.format(metrics.accuracy_score(y_test, y_pred)))\n",
    "print('Hamming Loss: {:0.4f}'.format(metrics.hamming_loss(y_test, y_pred)))\n",
    "print('F1 Score: {:0.4f}'.format(metrics.f1_score(y_test, y_pred, average='micro')))\n",
    "print('Precision Score: {:0.4f}'.format(metrics.precision_score(y_test, y_pred, average='micro')))\n",
    "print('Recall Score: {:0.4f}'.format(metrics.recall_score(y_test, y_pred, average='micro')))\n",
    "print('Jaccard Similarity Score: {:0.4f}'.format(metrics.jaccard_similarity_score(y_test, y_pred)))\n",
    "metrics.confusion_matrix(y_test,y_pred)\n",
    "# print('Log Loss: {:0.4f}'.format(metrics.log_loss(y_test,y_pred_proba)))"
   ]
  },
  {
   "cell_type": "code",
   "execution_count": 126,
   "metadata": {},
   "outputs": [],
   "source": [
    "remap = {'dishwasher':1,'dryer':1,'washer':1,'oven':1,\n",
    "         'dhw_heater':3,'refrigerator':3,\n",
    "         'furnace_fan':4,'heat_pump':4,\n",
    "         'basement':2,'dining_room':2,'entertainment':2,'garage':2,'south_br':2,'north_br':2,'security_system':2,\n",
    "        'utility_room':2,'workbench':2,'outside_plug':2,'unmetered':2,'office':2}"
   ]
  },
  {
   "cell_type": "code",
   "execution_count": 127,
   "metadata": {},
   "outputs": [],
   "source": [
    "df['col_max_row_categorized'] = df['col_max_row'].map(remap)"
   ]
  },
  {
   "cell_type": "code",
   "execution_count": null,
   "metadata": {},
   "outputs": [],
   "source": []
  },
  {
   "cell_type": "code",
   "execution_count": 135,
   "metadata": {},
   "outputs": [],
   "source": [
    "feature_cols = feature_creation(df)\n",
    "lbl = 'col_max_row_categorized'\n",
    "model_type = 'random_forest'\n",
    "\n",
    "X = df[feature_cols]\n",
    "y = df[lbl]\n",
    "\n",
    "X_train, X_test, y_train, y_test = tts(X,y)\n",
    "\n",
    "model, y_pred, y_pred_proba = model_chooser(model_type,X_train,X_test,y_train,n_estimators=100,max_features='auto')"
   ]
  },
  {
   "cell_type": "code",
   "execution_count": 136,
   "metadata": {},
   "outputs": [],
   "source": [
    "y_pred = model.predict(X_test)\n",
    "y_pred_proba = model.predict_proba(X_test)"
   ]
  },
  {
   "cell_type": "code",
   "execution_count": 147,
   "metadata": {},
   "outputs": [
    {
     "name": "stdout",
     "output_type": "stream",
     "text": [
      "Total Accuracy Score: 0.8550\n",
      "Hamming Loss: 0.1450\n",
      "F1 Score: 0.8550\n",
      "Precision Score: 0.8550\n",
      "Recall Score: 0.8550\n",
      "Jaccard Similarity Score: 0.8550\n"
     ]
    },
    {
     "data": {
      "text/plain": [
       "array([[  8763,   5591,    149,     97],\n",
       "       [   636, 150935,   7844,   6722],\n",
       "       [    38,  12839,  31511,    683],\n",
       "       [    88,  10938,   6167, 114265]])"
      ]
     },
     "execution_count": 147,
     "metadata": {},
     "output_type": "execute_result"
    }
   ],
   "source": [
    "# total accuracy\n",
    "print('Total Accuracy Score: {:0.4f}'.format(metrics.accuracy_score(y_test, y_pred)))\n",
    "print(metrics.classification_report(y_test, y_pred))\n",
    "metrics.confusion_matrix(y_test,y_pred)\n",
    "# print('Log Loss: {:0.4f}'.format(metrics.log_loss(y_test,y_pred_proba)))"
   ]
  },
  {
   "cell_type": "code",
   "execution_count": 149,
   "metadata": {},
   "outputs": [
    {
     "name": "stdout",
     "output_type": "stream",
     "text": [
      "             precision    recall  f1-score   support\n",
      "\n",
      "          1       0.92      0.60      0.73     14600\n",
      "          2       0.84      0.91      0.87    166137\n",
      "          3       0.69      0.70      0.69     45071\n",
      "          4       0.94      0.87      0.90    131458\n",
      "\n",
      "avg / total       0.86      0.86      0.85    357266\n",
      "\n"
     ]
    }
   ],
   "source": [
    "print(cr)"
   ]
  },
  {
   "cell_type": "code",
   "execution_count": 138,
   "metadata": {},
   "outputs": [
    {
     "data": {
      "text/html": [
       "<div>\n",
       "<style scoped>\n",
       "    .dataframe tbody tr th:only-of-type {\n",
       "        vertical-align: middle;\n",
       "    }\n",
       "\n",
       "    .dataframe tbody tr th {\n",
       "        vertical-align: top;\n",
       "    }\n",
       "\n",
       "    .dataframe thead th {\n",
       "        text-align: right;\n",
       "    }\n",
       "</style>\n",
       "<table border=\"1\" class=\"dataframe\">\n",
       "  <thead>\n",
       "    <tr style=\"text-align: right;\">\n",
       "      <th></th>\n",
       "      <th>0</th>\n",
       "      <th>1</th>\n",
       "    </tr>\n",
       "  </thead>\n",
       "  <tbody>\n",
       "    <tr>\n",
       "      <th>0</th>\n",
       "      <td>main_house_total</td>\n",
       "      <td>0.213086</td>\n",
       "    </tr>\n",
       "    <tr>\n",
       "      <th>8</th>\n",
       "      <td>rolling_min_5</td>\n",
       "      <td>0.091607</td>\n",
       "    </tr>\n",
       "    <tr>\n",
       "      <th>7</th>\n",
       "      <td>rolling_max_5</td>\n",
       "      <td>0.068163</td>\n",
       "    </tr>\n",
       "    <tr>\n",
       "      <th>6</th>\n",
       "      <td>rolling_mean_5</td>\n",
       "      <td>0.061255</td>\n",
       "    </tr>\n",
       "    <tr>\n",
       "      <th>9</th>\n",
       "      <td>rolling_median_5</td>\n",
       "      <td>0.052528</td>\n",
       "    </tr>\n",
       "    <tr>\n",
       "      <th>5</th>\n",
       "      <td>rolling_sum_5</td>\n",
       "      <td>0.049463</td>\n",
       "    </tr>\n",
       "    <tr>\n",
       "      <th>13</th>\n",
       "      <td>rolling_min_10</td>\n",
       "      <td>0.047009</td>\n",
       "    </tr>\n",
       "    <tr>\n",
       "      <th>28</th>\n",
       "      <td>rolling_min_60</td>\n",
       "      <td>0.032180</td>\n",
       "    </tr>\n",
       "    <tr>\n",
       "      <th>12</th>\n",
       "      <td>rolling_max_10</td>\n",
       "      <td>0.032034</td>\n",
       "    </tr>\n",
       "    <tr>\n",
       "      <th>23</th>\n",
       "      <td>rolling_min_30</td>\n",
       "      <td>0.030393</td>\n",
       "    </tr>\n",
       "    <tr>\n",
       "      <th>18</th>\n",
       "      <td>rolling_min_15</td>\n",
       "      <td>0.028538</td>\n",
       "    </tr>\n",
       "    <tr>\n",
       "      <th>19</th>\n",
       "      <td>rolling_median_15</td>\n",
       "      <td>0.024562</td>\n",
       "    </tr>\n",
       "    <tr>\n",
       "      <th>14</th>\n",
       "      <td>rolling_median_10</td>\n",
       "      <td>0.024484</td>\n",
       "    </tr>\n",
       "    <tr>\n",
       "      <th>11</th>\n",
       "      <td>rolling_mean_10</td>\n",
       "      <td>0.024321</td>\n",
       "    </tr>\n",
       "    <tr>\n",
       "      <th>17</th>\n",
       "      <td>rolling_max_15</td>\n",
       "      <td>0.020030</td>\n",
       "    </tr>\n",
       "    <tr>\n",
       "      <th>1</th>\n",
       "      <td>Temp (C)</td>\n",
       "      <td>0.019740</td>\n",
       "    </tr>\n",
       "    <tr>\n",
       "      <th>22</th>\n",
       "      <td>rolling_max_30</td>\n",
       "      <td>0.017325</td>\n",
       "    </tr>\n",
       "    <tr>\n",
       "      <th>24</th>\n",
       "      <td>rolling_median_30</td>\n",
       "      <td>0.015002</td>\n",
       "    </tr>\n",
       "    <tr>\n",
       "      <th>27</th>\n",
       "      <td>rolling_max_60</td>\n",
       "      <td>0.014946</td>\n",
       "    </tr>\n",
       "    <tr>\n",
       "      <th>10</th>\n",
       "      <td>rolling_sum_10</td>\n",
       "      <td>0.014542</td>\n",
       "    </tr>\n",
       "    <tr>\n",
       "      <th>29</th>\n",
       "      <td>rolling_median_60</td>\n",
       "      <td>0.013623</td>\n",
       "    </tr>\n",
       "    <tr>\n",
       "      <th>3</th>\n",
       "      <td>hour</td>\n",
       "      <td>0.013263</td>\n",
       "    </tr>\n",
       "    <tr>\n",
       "      <th>25</th>\n",
       "      <td>rolling_sum_60</td>\n",
       "      <td>0.013228</td>\n",
       "    </tr>\n",
       "    <tr>\n",
       "      <th>20</th>\n",
       "      <td>rolling_sum_30</td>\n",
       "      <td>0.013059</td>\n",
       "    </tr>\n",
       "    <tr>\n",
       "      <th>26</th>\n",
       "      <td>rolling_mean_60</td>\n",
       "      <td>0.012786</td>\n",
       "    </tr>\n",
       "    <tr>\n",
       "      <th>21</th>\n",
       "      <td>rolling_mean_30</td>\n",
       "      <td>0.012314</td>\n",
       "    </tr>\n",
       "    <tr>\n",
       "      <th>15</th>\n",
       "      <td>rolling_sum_15</td>\n",
       "      <td>0.012278</td>\n",
       "    </tr>\n",
       "    <tr>\n",
       "      <th>16</th>\n",
       "      <td>rolling_mean_15</td>\n",
       "      <td>0.011975</td>\n",
       "    </tr>\n",
       "    <tr>\n",
       "      <th>2</th>\n",
       "      <td>Rel Hum (%)</td>\n",
       "      <td>0.010747</td>\n",
       "    </tr>\n",
       "    <tr>\n",
       "      <th>4</th>\n",
       "      <td>dow</td>\n",
       "      <td>0.005518</td>\n",
       "    </tr>\n",
       "  </tbody>\n",
       "</table>\n",
       "</div>"
      ],
      "text/plain": [
       "                    0         1\n",
       "0    main_house_total  0.213086\n",
       "8       rolling_min_5  0.091607\n",
       "7       rolling_max_5  0.068163\n",
       "6      rolling_mean_5  0.061255\n",
       "9    rolling_median_5  0.052528\n",
       "5       rolling_sum_5  0.049463\n",
       "13     rolling_min_10  0.047009\n",
       "28     rolling_min_60  0.032180\n",
       "12     rolling_max_10  0.032034\n",
       "23     rolling_min_30  0.030393\n",
       "18     rolling_min_15  0.028538\n",
       "19  rolling_median_15  0.024562\n",
       "14  rolling_median_10  0.024484\n",
       "11    rolling_mean_10  0.024321\n",
       "17     rolling_max_15  0.020030\n",
       "1            Temp (C)  0.019740\n",
       "22     rolling_max_30  0.017325\n",
       "24  rolling_median_30  0.015002\n",
       "27     rolling_max_60  0.014946\n",
       "10     rolling_sum_10  0.014542\n",
       "29  rolling_median_60  0.013623\n",
       "3                hour  0.013263\n",
       "25     rolling_sum_60  0.013228\n",
       "20     rolling_sum_30  0.013059\n",
       "26    rolling_mean_60  0.012786\n",
       "21    rolling_mean_30  0.012314\n",
       "15     rolling_sum_15  0.012278\n",
       "16    rolling_mean_15  0.011975\n",
       "2         Rel Hum (%)  0.010747\n",
       "4                 dow  0.005518"
      ]
     },
     "execution_count": 138,
     "metadata": {},
     "output_type": "execute_result"
    }
   ],
   "source": [
    "pd.DataFrame(list(zip(feature_cols,model.feature_importances_))).sort_values(by=1,ascending=False)"
   ]
  },
  {
   "cell_type": "code",
   "execution_count": null,
   "metadata": {},
   "outputs": [],
   "source": []
  }
 ],
 "metadata": {
  "kernelspec": {
   "display_name": "Python [conda env:anaconda]",
   "language": "python",
   "name": "conda-env-anaconda-py"
  },
  "language_info": {
   "codemirror_mode": {
    "name": "ipython",
    "version": 3
   },
   "file_extension": ".py",
   "mimetype": "text/x-python",
   "name": "python",
   "nbconvert_exporter": "python",
   "pygments_lexer": "ipython3",
   "version": "3.5.4"
  }
 },
 "nbformat": 4,
 "nbformat_minor": 2
}
