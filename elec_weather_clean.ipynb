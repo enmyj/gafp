{
 "cells": [
  {
   "cell_type": "code",
   "execution_count": 1,
   "metadata": {
    "collapsed": true
   },
   "outputs": [],
   "source": [
    "# import libs\n",
    "import pandas as pd\n",
    "import glob\n",
    "import os\n",
    "import re\n",
    "%matplotlib inline"
   ]
  },
  {
   "cell_type": "code",
   "execution_count": 2,
   "metadata": {
    "collapsed": true
   },
   "outputs": [],
   "source": [
    "# define global variables\n",
    "elec_folder_path = '/users/ianmyjer/desktop/disagg/elec/'\n",
    "pre_combined_elec_path = '/users/ianmyjer/desktop/disagg/pre_combined/Electricity_P.tab'\n",
    "weather_hourly_path = '/users/ianmyjer/desktop/disagg/weather/Climate_HourlyWeather.tab'"
   ]
  },
  {
   "cell_type": "code",
   "execution_count": 3,
   "metadata": {
    "collapsed": true
   },
   "outputs": [],
   "source": [
    "# Define function to import all files from folder and combine\n",
    "# based on datetime index (axis = 1)\n",
    "def tsvs_from_folder(folder_path,meter_type='Electricity'):\n",
    "    # get all filepaths in folder\n",
    "    allfiles = glob.glob(folder_path+\"/*.tab\")\n",
    "    \n",
    "    # create a list with the name of each submeter\n",
    "    name = [re.search('{}_(.*).tab$'.format(meter_type),fp).group(1) for fp in allfiles]\n",
    "\n",
    "    # provided the file name and corresponding path to each file\n",
    "    # read in file and parse datetime\n",
    "    # store in dictionary of dataframes\n",
    "    datadct = {}\n",
    "    for k, v in zip(name,allfiles):\n",
    "        print(k)\n",
    "        datadct[k] = pd.read_csv(v,delimiter='\\t',index_col=0,header=0)\n",
    "        datadct[k].index = pd.to_datetime(datadct[k].index,unit='s')\n",
    "\n",
    "    # join everything together based on index        \n",
    "    df = pd.concat(datadct,axis=1,join='outer')\n",
    "    df.index.rename('ts',inplace=True)\n",
    "\n",
    "    return df"
   ]
  },
  {
   "cell_type": "code",
   "execution_count": 4,
   "metadata": {},
   "outputs": [
    {
     "name": "stdout",
     "output_type": "stream",
     "text": [
      "B1E\n"
     ]
    },
    {
     "name": "stderr",
     "output_type": "stream",
     "text": [
      "/Users/ianmyjer/anaconda/lib/python3.5/site-packages/numpy/lib/arraysetops.py:395: FutureWarning: elementwise comparison failed; returning scalar instead, but in the future will perform elementwise comparison\n",
      "  mask |= (ar1 == a)\n"
     ]
    },
    {
     "name": "stdout",
     "output_type": "stream",
     "text": [
      "B2E\n",
      "BME\n",
      "CDE\n",
      "CWE\n",
      "DNE\n",
      "DWE\n",
      "EBE\n",
      "EQE\n",
      "FGE\n",
      "FRE\n",
      "GRE\n",
      "HPE\n",
      "HTE\n",
      "OFE\n",
      "OUE\n",
      "RSE\n",
      "TVE\n",
      "UTE\n",
      "WHE\n",
      "WOE\n"
     ]
    }
   ],
   "source": [
    "# import elec files using function\n",
    "elec = tsvs_from_folder(elec_folder_path)"
   ]
  },
  {
   "cell_type": "code",
   "execution_count": 5,
   "metadata": {
    "collapsed": true
   },
   "outputs": [],
   "source": [
    "# take only the \"power\" columns\n",
    "df = elec.xs('P',level=1,axis=1)"
   ]
  },
  {
   "cell_type": "code",
   "execution_count": 6,
   "metadata": {},
   "outputs": [
    {
     "name": "stderr",
     "output_type": "stream",
     "text": [
      "/Users/ianmyjer/anaconda/lib/python3.5/site-packages/ipykernel/__main__.py:2: SettingWithCopyWarning: \n",
      "A value is trying to be set on a copy of a slice from a DataFrame.\n",
      "Try using .loc[row_indexer,col_indexer] = value instead\n",
      "\n",
      "See the caveats in the documentation: http://pandas.pydata.org/pandas-docs/stable/indexing.html#indexing-view-versus-copy\n",
      "  from ipykernel import kernelapp as app\n",
      "/Users/ianmyjer/anaconda/lib/python3.5/site-packages/ipykernel/__main__.py:3: SettingWithCopyWarning: \n",
      "A value is trying to be set on a copy of a slice from a DataFrame.\n",
      "Try using .loc[row_indexer,col_indexer] = value instead\n",
      "\n",
      "See the caveats in the documentation: http://pandas.pydata.org/pandas-docs/stable/indexing.html#indexing-view-versus-copy\n",
      "  app.launch_new_instance()\n"
     ]
    }
   ],
   "source": [
    "# add extra columns based on documentation\n",
    "df['MHE'] = df['WHE'] - df['RSE'] - df['GRE']\n",
    "df['UNE'] = df['MHE'] - df.drop(['MHE','WHE','RSE','GRE'],axis=1).sum(axis=1)"
   ]
  },
  {
   "cell_type": "code",
   "execution_count": 7,
   "metadata": {
    "collapsed": true
   },
   "outputs": [],
   "source": [
    "# turns out this dataset also has pre_combined data. oops\n",
    "# power = pd.read_csv(pre_combined_elec_path,delimiter='\\t',header=0,index_col=0)\n",
    "# power.index = pd.to_datetime(power.index,unit='s')\n",
    "# power.index.name = 'ts'"
   ]
  },
  {
   "cell_type": "code",
   "execution_count": 8,
   "metadata": {},
   "outputs": [
    {
     "name": "stderr",
     "output_type": "stream",
     "text": [
      "/Users/ianmyjer/anaconda/lib/python3.5/site-packages/pandas/core/frame.py:2844: SettingWithCopyWarning: \n",
      "A value is trying to be set on a copy of a slice from a DataFrame\n",
      "\n",
      "See the caveats in the documentation: http://pandas.pydata.org/pandas-docs/stable/indexing.html#indexing-view-versus-copy\n",
      "  **kwargs)\n"
     ]
    }
   ],
   "source": [
    "# Rename columns\n",
    "actual_names = {'B1E':'north_br',\n",
    "                'B2E':'south_br',\n",
    "                'BME':'basement',\n",
    "                'CDE':'dryer',\n",
    "                'CWE':'washer',\n",
    "                'DNE':'dining_room',\n",
    "                'DWE':'dishwasher',\n",
    "                'EBE':'workbench',\n",
    "                'EQE':'security_system',\n",
    "                'FGE':'refrigerator',\n",
    "                'FRE':'furnace_fan',\n",
    "                'GRE':'garage',\n",
    "                'HPE':'heat_pump',\n",
    "                'HTE':'dhw_heater',\n",
    "                'MHE':'main_house_total',\n",
    "                'OFE':'office',\n",
    "                'OUE':'outside_plug',\n",
    "                'RSE':'rental_suite',\n",
    "                'TVE':'entertainment',\n",
    "                'UTE':'utility_room',\n",
    "                'UNE':'unmetered',\n",
    "                'WHE':'whole_house_total',\n",
    "                'WOE':'oven'}\n",
    "df.rename(columns = actual_names,inplace=True)"
   ]
  },
  {
   "cell_type": "code",
   "execution_count": 9,
   "metadata": {
    "collapsed": true
   },
   "outputs": [],
   "source": [
    "# import weather data\n",
    "weather = pd.read_csv(weather_hourly_path, \n",
    "                      index_col=0, \n",
    "                      delimiter='\\t', \n",
    "                      header=0, \n",
    "                      parse_dates=True,\n",
    "                      usecols=['Date/Time','Temp (C)',\n",
    "                                'Dew Point Temp (C)',\n",
    "                                'Rel Hum (%)',\n",
    "                                'Wind Spd (km/h)',\n",
    "                                'Stn Press (kPa)'])\n",
    "weather.index.name = 'ts'"
   ]
  },
  {
   "cell_type": "code",
   "execution_count": 10,
   "metadata": {},
   "outputs": [
    {
     "data": {
      "text/plain": [
       "Temp (C)              22\n",
       "Dew Point Temp (C)    36\n",
       "Rel Hum (%)           38\n",
       "Wind Spd (km/h)       31\n",
       "Stn Press (kPa)       35\n",
       "dtype: int64"
      ]
     },
     "execution_count": 10,
     "metadata": {},
     "output_type": "execute_result"
    }
   ],
   "source": [
    "weather.isnull().sum()"
   ]
  },
  {
   "cell_type": "code",
   "execution_count": 11,
   "metadata": {
    "collapsed": true
   },
   "outputs": [],
   "source": [
    "# Fill N/A values using pandas interpolate\n",
    "weather.interpolate(method='time',axis=0,inplace=True)"
   ]
  },
  {
   "cell_type": "code",
   "execution_count": 12,
   "metadata": {},
   "outputs": [
    {
     "data": {
      "text/plain": [
       "Temp (C)              0\n",
       "Dew Point Temp (C)    0\n",
       "Rel Hum (%)           0\n",
       "Wind Spd (km/h)       0\n",
       "Stn Press (kPa)       0\n",
       "dtype: int64"
      ]
     },
     "execution_count": 12,
     "metadata": {},
     "output_type": "execute_result"
    }
   ],
   "source": [
    "weather.isnull().sum()"
   ]
  },
  {
   "cell_type": "code",
   "execution_count": 13,
   "metadata": {},
   "outputs": [
    {
     "name": "stderr",
     "output_type": "stream",
     "text": [
      "/Users/ianmyjer/anaconda/lib/python3.5/site-packages/ipykernel/__main__.py:3: SettingWithCopyWarning: \n",
      "A value is trying to be set on a copy of a slice from a DataFrame.\n",
      "Try using .loc[row_indexer,col_indexer] = value instead\n",
      "\n",
      "See the caveats in the documentation: http://pandas.pydata.org/pandas-docs/stable/indexing.html#indexing-view-versus-copy\n",
      "  app.launch_new_instance()\n",
      "/Users/ianmyjer/anaconda/lib/python3.5/site-packages/ipykernel/__main__.py:4: SettingWithCopyWarning: \n",
      "A value is trying to be set on a copy of a slice from a DataFrame.\n",
      "Try using .loc[row_indexer,col_indexer] = value instead\n",
      "\n",
      "See the caveats in the documentation: http://pandas.pydata.org/pandas-docs/stable/indexing.html#indexing-view-versus-copy\n",
      "/Users/ianmyjer/anaconda/lib/python3.5/site-packages/ipykernel/__main__.py:5: SettingWithCopyWarning: \n",
      "A value is trying to be set on a copy of a slice from a DataFrame.\n",
      "Try using .loc[row_indexer,col_indexer] = value instead\n",
      "\n",
      "See the caveats in the documentation: http://pandas.pydata.org/pandas-docs/stable/indexing.html#indexing-view-versus-copy\n",
      "/Users/ianmyjer/anaconda/lib/python3.5/site-packages/ipykernel/__main__.py:6: SettingWithCopyWarning: \n",
      "A value is trying to be set on a copy of a slice from a DataFrame.\n",
      "Try using .loc[row_indexer,col_indexer] = value instead\n",
      "\n",
      "See the caveats in the documentation: http://pandas.pydata.org/pandas-docs/stable/indexing.html#indexing-view-versus-copy\n"
     ]
    }
   ],
   "source": [
    "# super stupid code\n",
    "# but somehow works pretty fast\n",
    "df['Year'] = df.index.year\n",
    "df['Month'] = df.index.month\n",
    "df['Day'] = df.index.day\n",
    "df['Hour'] = df.index.hour\n",
    "weather['Year'] = weather.index.year\n",
    "weather['Month'] = weather.index.month\n",
    "weather['Day'] = weather.index.day\n",
    "weather['Hour'] = weather.index.hour\n",
    "ymdh = ['Year','Month','Day','Hour']\n",
    "merged = pd.merge(df,weather,on=ymdh,how='left').drop(ymdh,axis=1)\n",
    "merged.index = df.index\n",
    "merged.dropna(axis=0,inplace=True)"
   ]
  },
  {
   "cell_type": "code",
   "execution_count": 14,
   "metadata": {
    "collapsed": true
   },
   "outputs": [],
   "source": [
    "merged.to_csv('/users/ianmyjer/desktop/disagg/electric_data_with_weather.csv')"
   ]
  },
  {
   "cell_type": "markdown",
   "metadata": {},
   "source": [
    "# Merge Questions"
   ]
  },
  {
   "cell_type": "code",
   "execution_count": 15,
   "metadata": {},
   "outputs": [
    {
     "data": {
      "text/plain": [
       "\"\\n# hella slow merge between two dataframes\\n# but not super ugly looking\\n# is there a better way?\\nweather['per'] = weather.index.to_period('H')\\ndf['per'] = df.index.to_period('H')\\nmerged = pd.merge(df,weather,how='left',on='per').drop('per',axis=1)\\nmerged.index = df.index\\nmerged.dropna(axis=0,inplace=True)\\n\""
      ]
     },
     "execution_count": 15,
     "metadata": {},
     "output_type": "execute_result"
    }
   ],
   "source": [
    "\"\"\"\n",
    "# hella slow merge between two dataframes\n",
    "# but not super ugly looking\n",
    "# is there a better way?\n",
    "weather['per'] = weather.index.to_period('H')\n",
    "df['per'] = df.index.to_period('H')\n",
    "merged = pd.merge(df,weather,how='left',on='per').drop('per',axis=1)\n",
    "merged.index = df.index\n",
    "merged.dropna(axis=0,inplace=True)\n",
    "\"\"\""
   ]
  },
  {
   "cell_type": "code",
   "execution_count": 16,
   "metadata": {},
   "outputs": [
    {
     "data": {
      "text/plain": [
       "\"\\nWhy do none of these merge methods work? \\n\\n# key error\\na = pd.merge(df,weather,how='left',left_on = df.index.to_period('H'), right_on = weather.index.to_period('H'))\\n\\n# sort error\\na = pd.merge(df.set_index(df.index.to_period('H')), \\n             weather.set_index(weather.index.to_period('H')), \\n             how = 'left',left_index=True,right_index=True)\\n\\n# sort error\\na = df.set_index(df.index.to_period('H')).merge(weather.set_index(weather.index.to_period('H')), \\n             how = 'left',left_index=True,right_index=True)\\n             \\n# key error\\nmerged = pd.merge(df, weather, how = 'left',\\n                  left_on=[df.index.year, df.index.month, df.index.day, df.index.hour], \\n                  right_on=[weather.index.year, weather.index.month, weather.index.day, weather.index.hour]\\n                 ).drop(['key_0','key_1','key_2','key_3'], axis = 1,)\\nmerged.index = df.index\\n\""
      ]
     },
     "execution_count": 16,
     "metadata": {},
     "output_type": "execute_result"
    }
   ],
   "source": [
    "'''\n",
    "Why do none of these merge methods work? \n",
    "\n",
    "# key error\n",
    "a = pd.merge(df,weather,how='left',left_on = df.index.to_period('H'), right_on = weather.index.to_period('H'))\n",
    "\n",
    "# sort error\n",
    "a = pd.merge(df.set_index(df.index.to_period('H')), \n",
    "             weather.set_index(weather.index.to_period('H')), \n",
    "             how = 'left',left_index=True,right_index=True)\n",
    "\n",
    "# sort error\n",
    "a = df.set_index(df.index.to_period('H')).merge(weather.set_index(weather.index.to_period('H')), \n",
    "             how = 'left',left_index=True,right_index=True)\n",
    "             \n",
    "# key error\n",
    "merged = pd.merge(df, weather, how = 'left',\n",
    "                  left_on=[df.index.year, df.index.month, df.index.day, df.index.hour], \n",
    "                  right_on=[weather.index.year, weather.index.month, weather.index.day, weather.index.hour]\n",
    "                 ).drop(['key_0','key_1','key_2','key_3'], axis = 1,)\n",
    "merged.index = df.index\n",
    "'''"
   ]
  },
  {
   "cell_type": "markdown",
   "metadata": {},
   "source": []
  },
  {
   "cell_type": "code",
   "execution_count": null,
   "metadata": {
    "collapsed": true
   },
   "outputs": [],
   "source": []
  },
  {
   "cell_type": "code",
   "execution_count": null,
   "metadata": {
    "collapsed": true
   },
   "outputs": [],
   "source": []
  },
  {
   "cell_type": "code",
   "execution_count": null,
   "metadata": {
    "collapsed": true
   },
   "outputs": [],
   "source": []
  },
  {
   "cell_type": "code",
   "execution_count": null,
   "metadata": {
    "collapsed": true
   },
   "outputs": [],
   "source": []
  }
 ],
 "metadata": {
  "kernelspec": {
   "display_name": "Python [conda root]",
   "language": "python",
   "name": "conda-root-py"
  },
  "language_info": {
   "codemirror_mode": {
    "name": "ipython",
    "version": 3
   },
   "file_extension": ".py",
   "mimetype": "text/x-python",
   "name": "python",
   "nbconvert_exporter": "python",
   "pygments_lexer": "ipython3",
   "version": "3.5.3"
  }
 },
 "nbformat": 4,
 "nbformat_minor": 2
}
