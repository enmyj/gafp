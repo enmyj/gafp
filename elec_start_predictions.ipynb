{
 "cells": [
  {
   "cell_type": "markdown",
   "metadata": {
    "nbpresent": {
     "id": "125c2a82-2f0d-45f3-ad7b-45db4f23f3eb"
    }
   },
   "source": [
    "### Import libraries and read in file"
   ]
  },
  {
   "cell_type": "code",
   "execution_count": 242,
   "metadata": {
    "nbpresent": {
     "id": "069a476e-177d-4b9f-adcd-44f3883d8fd7"
    }
   },
   "outputs": [],
   "source": [
    "# import libs\n",
    "import pandas as pd\n",
    "import numpy as np\n",
    "%matplotlib inline\n",
    "import matplotlib.pyplot as plt\n",
    "\n",
    "plt.style.use('fivethirtyeight')"
   ]
  },
  {
   "cell_type": "code",
   "execution_count": 243,
   "metadata": {
    "nbpresent": {
     "id": "86ec3258-59b4-44ae-aeda-cf43043f965b"
    }
   },
   "outputs": [],
   "source": [
    "# read in file and define some useful column groupings\n",
    "elec_w_weather_path = '/users/ianmyjer/desktop/disagg/electric_data_with_weather.csv'\n",
    "df = pd.read_csv(elec_w_weather_path,delimiter=',',header=0,index_col=0,parse_dates=True)"
   ]
  },
  {
   "cell_type": "code",
   "execution_count": 244,
   "metadata": {
    "nbpresent": {
     "id": "ea0acfbd-84fe-47fc-b843-c28aac15071e"
    }
   },
   "outputs": [],
   "source": [
    "# define useful column groupings\n",
    "power_cols = ['north_br','south_br','basement','dryer','washer',\n",
    "'dining_room','dishwasher','workbench','security_system',\n",
    "'refrigerator','furnace_fan','garage','heat_pump',\n",
    "'dhw_heater','main_house_total','office','outside_plug',\n",
    "'rental_suite','entertainment','utility_room','unmetered',\n",
    "'whole_house_total','oven']\n",
    "weather_cols = ['Temp (C)', 'Dew Point Temp (C)', 'Rel Hum (%)', \n",
    "'Wind Spd (km/h)','Stn Press (kPa)']"
   ]
  },
  {
   "cell_type": "markdown",
   "metadata": {
    "nbpresent": {
     "id": "20121ecf-94a8-4a2d-8418-2e6296dfb3b7"
    }
   },
   "source": [
    "### X Vars"
   ]
  },
  {
   "cell_type": "code",
   "execution_count": 245,
   "metadata": {
    "nbpresent": {
     "id": "eb353892-f924-466c-b375-5891bb6932dc"
    }
   },
   "outputs": [],
   "source": [
    "# time-based features\n",
    "df['dow'] = df.index.weekday\n",
    "df['weekday'] = (df.index.weekday < 5)*1\n",
    "df['business_hours'] = (df.index.weekday < 5)&(df.index.hour>=9)&(df.index.hour<=17)*1\n",
    "df['hour'] = df.index.hour\n",
    "\n",
    "# season dummies\n",
    "df['winter'] = (df.index.month<=3)*1\n",
    "df['spring'] = (df.index.month>3)&(df.index.month<=6)*1\n",
    "df['summer'] = (df.index.month>6)&(df.index.month<=9)*1\n",
    "df['fall'] = (df.index.month>9)*1"
   ]
  },
  {
   "cell_type": "code",
   "execution_count": 6,
   "metadata": {},
   "outputs": [],
   "source": [
    "# main house power percentage change 1 min intervals\n",
    "df['pos_mht_pct'] = df['main_house_total'].pct_change(freq='1Min').fillna(0)\n",
    "df['neg_mht_pct'] = df['main_house_total'].pct_change(freq='-1Min').fillna(0)"
   ]
  },
  {
   "cell_type": "code",
   "execution_count": 248,
   "metadata": {},
   "outputs": [],
   "source": [
    "# main house power difference 1 min intervals\n",
    "df['pos_mht_diff'] = df['main_house_total'].diff(periods=1).fillna(0)\n",
    "df['neg_mht_diff'] = df['main_house_total'].diff(periods=-1).fillna(0)"
   ]
  },
  {
   "cell_type": "code",
   "execution_count": null,
   "metadata": {},
   "outputs": [],
   "source": []
  },
  {
   "cell_type": "code",
   "execution_count": null,
   "metadata": {},
   "outputs": [],
   "source": []
  },
  {
   "cell_type": "markdown",
   "metadata": {
    "nbpresent": {
     "id": "7b46c0c0-c2fb-4a64-8f9e-037ff2e8b26f"
    }
   },
   "source": [
    "### ON/OFF Appliance Startups\n",
    "Appliances that are either OFF and have 0 power draw or ON and have high power draw"
   ]
  },
  {
   "cell_type": "code",
   "execution_count": 249,
   "metadata": {
    "nbpresent": {
     "id": "24c01ee1-3639-49b1-8a77-3c91bc47bcdb"
    }
   },
   "outputs": [],
   "source": [
    "of_apps = ['dishwasher', 'oven', 'dryer', 'washer']"
   ]
  },
  {
   "cell_type": "code",
   "execution_count": 250,
   "metadata": {},
   "outputs": [],
   "source": [
    "# identify point when appliance starts up\n",
    "# appliance must be using more than threshold power \n",
    "# and previous points must sum to a small number\n",
    "for lbl in of_apps:\n",
    "    # dishwashers seem to obey different rules than the other appliances\n",
    "    if lbl == 'dishwasher':\n",
    "        lower_thresh = df[lbl][df[lbl]>0].quantile(0.50)\n",
    "    else:\n",
    "        lower_thresh = df[lbl][df[lbl]>0].quantile(0.25)\n",
    "    roll = df[lbl].rolling(20).sum().shift(1) # rolling sum shifted back 1 minute\n",
    "    crit = (df[lbl] > lower_thresh)&(df[lbl] > roll) # criteria for appliance startup\n",
    "    df[lbl+'_start'] = crit*1 # create binary column indicating appliance startup"
   ]
  },
  {
   "cell_type": "code",
   "execution_count": null,
   "metadata": {},
   "outputs": [],
   "source": [
    "# plot spot checks to see if methodology works\n",
    "lbl = 'dishwasher'\n",
    "mask = (df.index.week==6)&(df.index.year==2013)# &(df.index.day==26)&(df.index.hour > 14)\n",
    "df[lbl][mask].plot(linewidth=1,figsize=(20,10));\n",
    "df[lbl+'_start'][mask].plot(secondary_y=True,linewidth=2,figsize=(20,10));"
   ]
  },
  {
   "cell_type": "code",
   "execution_count": 251,
   "metadata": {},
   "outputs": [],
   "source": [
    "# loop through the calculted \"start\" columns\n",
    "# find the \"1s\" and create a countdown starting at 60 mins from that point\n",
    "# add column to dataframe\n",
    "for lbl in of_apps:\n",
    "    res = []\n",
    "    for val in df[lbl+'_start']:\n",
    "        if val == 1:\n",
    "            res.append(60)\n",
    "        elif not res:\n",
    "            res.append(0)\n",
    "        elif val == 0 and res[-1] != 0:\n",
    "            res.append(res[-1]-1)\n",
    "        else:\n",
    "            res.append(0)\n",
    "\n",
    "    res_shift = res[60:]\n",
    "    res_shift.extend([0]*60)\n",
    "\n",
    "    df[lbl+'_countdown'] = res_shift\n"
   ]
  },
  {
   "cell_type": "code",
   "execution_count": null,
   "metadata": {},
   "outputs": [],
   "source": []
  },
  {
   "cell_type": "markdown",
   "metadata": {},
   "source": [
    "### Attempt a basic model"
   ]
  },
  {
   "cell_type": "code",
   "execution_count": null,
   "metadata": {},
   "outputs": [],
   "source": [
    "# feature_cols = ['dow','hour','winter','spring','summer','pos_mht_pct','neg_mht_pct','pos_mht_diff','neg_mht_diff']\n",
    "feature_cols = ['dow','hour','winter','spring','summer','pos_mht_diff','neg_mht_diff']\n",
    "X = df[feature_cols]\n",
    "y = df['washer_countdown']\n",
    "\n",
    "### Figure out how to train/test/split\n",
    "# probably this: http://scikit-learn.org/stable/modules/generated/sklearn.model_selection.TimeSeriesSplit.html"
   ]
  },
  {
   "cell_type": "code",
   "execution_count": null,
   "metadata": {},
   "outputs": [],
   "source": [
    "from sklearn.linear_model import LinearRegression\n",
    "linreg = LinearRegression()\n",
    "linreg.fit(X, y)\n",
    "y_pred = linreg.predict(X)\n",
    "print(linreg.intercept_)\n",
    "print(linreg.coef_)"
   ]
  },
  {
   "cell_type": "code",
   "execution_count": null,
   "metadata": {},
   "outputs": [],
   "source": [
    "from sklearn import metrics\n",
    "print('RMSE:', np.sqrt(metrics.mean_squared_error(y,y_pred)))"
   ]
  }
 ],
 "metadata": {
  "kernelspec": {
   "display_name": "Python [conda root]",
   "language": "python",
   "name": "conda-root-py"
  },
  "language_info": {
   "codemirror_mode": {
    "name": "ipython",
    "version": 3
   },
   "file_extension": ".py",
   "mimetype": "text/x-python",
   "name": "python",
   "nbconvert_exporter": "python",
   "pygments_lexer": "ipython3",
   "version": "3.5.4"
  }
 },
 "nbformat": 4,
 "nbformat_minor": 2
}
