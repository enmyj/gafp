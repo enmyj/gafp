{
 "cells": [
  {
   "cell_type": "code",
   "execution_count": null,
   "metadata": {},
   "outputs": [],
   "source": [
    "# import libs\n",
    "import pandas as pd\n",
    "import numpy as np\n",
    "%matplotlib inline\n",
    "import matplotlib.pyplot as plt\n",
    "\n",
    "plt.style.use('fivethirtyeight')"
   ]
  },
  {
   "cell_type": "code",
   "execution_count": null,
   "metadata": {},
   "outputs": [],
   "source": [
    "# read in file and define some useful column groupings\n",
    "elec_w_weather_path = '/users/ianmyjer/desktop/disagg/electric_data_with_weather.csv'\n",
    "df = pd.read_csv(elec_w_weather_path,delimiter=',',header=0,index_col=0,parse_dates=True)"
   ]
  },
  {
   "cell_type": "code",
   "execution_count": null,
   "metadata": {},
   "outputs": [],
   "source": [
    "# define useful column groupings\n",
    "power_cols = ['north_br','south_br','basement','dryer','washer',\n",
    "'dining_room','dishwasher','workbench','security_system',\n",
    "'refrigerator','furnace_fan','garage','heat_pump',\n",
    "'dhw_heater','main_house_total','office','outside_plug',\n",
    "'rental_suite','entertainment','utility_room','unmetered',\n",
    "'whole_house_total','oven']\n",
    "weather_cols = ['Temp (C)', 'Dew Point Temp (C)', 'Rel Hum (%)', \n",
    "'Wind Spd (km/h)','Stn Press (kPa)']"
   ]
  },
  {
   "cell_type": "markdown",
   "metadata": {},
   "source": [
    "What could I actually use Arima for? \n",
    "\n",
    "* Given past values or past seasons, use Arima to predict magnitude of value XX minutes in future? Useful for anticipating increase in loads. Example: If there's going to be a spike at 3 PM then send customer messaging asking them to help mitigate spike\n",
    "* Given past values or past seasons, predict spikes in values that could be consistent with specific appliances. Example: If spike is going to be ~2000 Watts then likely dishwasher, send customer messaging asking them not to use dishwasher\n",
    "* \n",
    "\n",
    "\n",
    "\n"
   ]
  },
  {
   "cell_type": "code",
   "execution_count": null,
   "metadata": {},
   "outputs": [],
   "source": [
    "# https://machinelearningmastery.com/arima-for-time-series-forecasting-with-python/\n",
    "# https://people.duke.edu/~rnau/411arim.htm\n",
    "# http://alexminnaar.com/time-series-classification-and-clustering-with-python.html"
   ]
  }
 ],
 "metadata": {
  "kernelspec": {
   "display_name": "Python [conda env:anaconda]",
   "language": "python",
   "name": "conda-env-anaconda-py"
  },
  "language_info": {
   "codemirror_mode": {
    "name": "ipython",
    "version": 3
   },
   "file_extension": ".py",
   "mimetype": "text/x-python",
   "name": "python",
   "nbconvert_exporter": "python",
   "pygments_lexer": "ipython3",
   "version": "3.5.4"
  }
 },
 "nbformat": 4,
 "nbformat_minor": 2
}
